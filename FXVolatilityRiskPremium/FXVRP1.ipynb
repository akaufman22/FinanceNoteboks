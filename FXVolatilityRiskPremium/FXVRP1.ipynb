{
 "cells": [
  {
   "cell_type": "code",
   "execution_count": 222,
   "metadata": {},
   "outputs": [],
   "source": [
    "import pandas as pd\n",
    "import numpy as np\n",
    "import cufflinks as cf\n",
    "from math import sqrt\n",
    "import matplotlib.pyplot as plt\n",
    "import seaborn as sns\n",
    "import statsmodels.tsa.api as smt\n",
    "import statsmodels.api as sm\n",
    "import scipy.stats as scs\n",
    "\n",
    "\n",
    "from boruta import BorutaPy\n",
    "\n",
    "from sklearn.preprocessing import OneHotEncoder, FunctionTransformer\n",
    "from sklearn.feature_selection import SelectKBest, f_classif\n",
    "from sklearn.pipeline import Pipeline\n",
    "from sklearn.model_selection import (\n",
    "                                    train_test_split, \n",
    "                                    GridSearchCV, \n",
    "                                    TimeSeriesSplit, \n",
    "                                    cross_val_score,\n",
    "                                    RandomizedSearchCV\n",
    "                                    )\n",
    "from sklearn.metrics import (classification_report, confusion_matrix,\n",
    "                             precision_score, recall_score, fbeta_score, make_scorer,\n",
    "                            roc_auc_score, RocCurveDisplay, ConfusionMatrixDisplay)\n",
    "from sklearn.linear_model import LogisticRegression\n",
    "from sklearn.ensemble import RandomForestClassifier\n",
    "from sklearn.svm import LinearSVC, SVC\n",
    "from sklearn.compose import TransformedTargetRegressor\n",
    "\n",
    "\n",
    "from sklearn.tree import export_graphviz\n",
    "from IPython.display import Image\n",
    "import graphviz"
   ]
  },
  {
   "cell_type": "code",
   "execution_count": 30,
   "metadata": {},
   "outputs": [],
   "source": [
    "def parkinson(price_data, window=30, day_count=252):\n",
    "    log_hl = np.log(price_data['High']/price_data['Low'])\n",
    "    sum_log_hl_sq = log_hl.rolling(window).apply(lambda x: np.sum(np.square(x)), raw=True)    \n",
    "    volatility = sqrt(day_count) * np.sqrt((1 / (4 * np.log(2))) * (1 / window) * sum_log_hl_sq)\n",
    "    return volatility\n",
    "\n",
    "def rodgers_satchell(price_data, window=30, day_count=252):\n",
    "    log_hc = np.log(price_data['High'] / price_data['Close'])\n",
    "    log_ho = np.log(price_data['High'] / price_data['Open'])\n",
    "    log_lc = np.log(price_data['Low'] / price_data['Close'])\n",
    "    log_lo = np.log(price_data['Low'] / price_data['Open'])\n",
    "    sum_prod = (log_hc * log_ho + log_lc * log_lo).rolling(window).sum()\n",
    "    volatility = sqrt(day_count) * np.sqrt((1 / (window)) * sum_prod)\n",
    "    return volatility\n",
    "\n",
    "def garman_klass(price_data, window=30, day_count=252):\n",
    "    log_hl = np.log(price_data['High']/price_data['Low'])\n",
    "    log_ctc = np.log(price_data['Close']/price_data['Close'].shift(1))\n",
    "    sum_log_hl_sq = log_hl.rolling(window).apply(lambda x: np.sum(np.square(x)), raw=True)\n",
    "    sum_log_ctc_sq = log_ctc.rolling(window).apply(lambda x: np.sum(np.square(x)), raw=True)\n",
    "    volatility = sqrt(day_count) * np.sqrt((1 / (window)) * (0.5 * sum_log_hl_sq - (2 * np.log(2) - 1) *\n",
    "                                                            sum_log_ctc_sq))\n",
    "    return volatility\n",
    "\n",
    "def yang_zhang(price_data, window=30, day_count=252):\n",
    "    log_olc = np.log(price_data['Open']/price_data['Close'].shift(1))\n",
    "    log_clo = np.log(price_data['Close']/price_data['Open'].shift(1))\n",
    "    sigma_o_sq = (1 / (window - 1)) * log_olc.rolling(window).apply(lambda x: np.sum(np.square(x)), raw=True)\n",
    "    sigma_c_sq = (1 / (window - 1)) * log_clo.rolling(window).apply(lambda x: np.sum(np.square(x)), raw=True)\n",
    "    sigma_rs_sq = (window / (day_count * (window - 1))) * \\\n",
    "    rodgers_satchell(price_data, window=window, day_count=day_count) ** 2\n",
    "    k = 0.34 / (1 + (window + 1) / (window - 1))\n",
    "    volatility = sqrt(day_count) * np.sqrt(sigma_o_sq  + k * sigma_c_sq + (1 - k) * sigma_rs_sq)\n",
    "    return volatility\n",
    "\n",
    "def rolling_z(price_data, window=30, standardize=True):\n",
    "    if standardize:\n",
    "        z_scores = (price_data - price_data.rolling(window, min_periods=window).mean()) \\\n",
    "            / price_data.rolling(window, min_periods=window).std()\n",
    "    else:\n",
    "        z_scores = price_data / price_data.rolling(window, min_periods=window).std()\n",
    "    return z_scores"
   ]
  },
  {
   "cell_type": "code",
   "execution_count": 31,
   "metadata": {},
   "outputs": [],
   "source": [
    "ccies = ['EUR', 'JPY', 'GBP', 'CAD', 'AUD', 'NZD', 'CHF']\n",
    "strong = ['EUR', 'GBP', 'AUD', 'NZD']\n",
    "\n",
    "df_spot = pd.read_csv('FXSpot.csv', index_col=0, parse_dates=True).sort_index().ffill()\n",
    "df_vol = pd.read_csv('FXVol.csv', index_col=0, parse_dates=True).sort_index().ffill()\n",
    "df_indices = pd.read_csv('Index.csv', index_col=0, parse_dates=True).sort_index().ffill()"
   ]
  },
  {
   "cell_type": "code",
   "execution_count": 32,
   "metadata": {},
   "outputs": [
    {
     "name": "stdout",
     "output_type": "stream",
     "text": [
      "<class 'pandas.core.frame.DataFrame'>\n",
      "DatetimeIndex: 44100 entries, 2000-01-03 to 2024-02-23\n",
      "Data columns (total 5 columns):\n",
      " #   Column    Non-Null Count  Dtype  \n",
      "---  ------    --------------  -----  \n",
      " 0   security  44100 non-null  object \n",
      " 1   PX_OPEN   44100 non-null  float64\n",
      " 2   PX_LAST   44100 non-null  float64\n",
      " 3   PX_HIGH   44100 non-null  float64\n",
      " 4   PX_LOW    44100 non-null  float64\n",
      "dtypes: float64(4), object(1)\n",
      "memory usage: 2.0+ MB\n",
      "<class 'pandas.core.frame.DataFrame'>\n",
      "DatetimeIndex: 6300 entries, 2000-01-03 to 2024-02-23\n",
      "Data columns (total 35 columns):\n",
      " #   Column                  Non-Null Count  Dtype  \n",
      "---  ------                  --------------  -----  \n",
      " 0   EURUSD CMP Curncy       6300 non-null   float64\n",
      " 1   EURSN CMP Curncy        6300 non-null   float64\n",
      " 2   EURUSDV1M CMP Curncy    6300 non-null   float64\n",
      " 3   EURUSD25B1M CMP Curncy  5323 non-null   float64\n",
      " 4   EURUSD25R1M CMP Curncy  5322 non-null   float64\n",
      " 5   USDJPY CMP Curncy       6300 non-null   float64\n",
      " 6   JPYSN CMP Curncy        6300 non-null   float64\n",
      " 7   USDJPYV1M CMP Curncy    6300 non-null   float64\n",
      " 8   USDJPY25B1M CMP Curncy  5323 non-null   float64\n",
      " 9   USDJPY25R1M CMP Curncy  5322 non-null   float64\n",
      " 10  GBPUSD CMP Curncy       6300 non-null   float64\n",
      " 11  GBPSN CMP Curncy        6300 non-null   float64\n",
      " 12  GBPUSDV1M CMP Curncy    6300 non-null   float64\n",
      " 13  GBPUSD25B1M CMP Curncy  5323 non-null   float64\n",
      " 14  GBPUSD25R1M CMP Curncy  5322 non-null   float64\n",
      " 15  USDCAD CMP Curncy       6300 non-null   float64\n",
      " 16  CADSN CMP Curncy        6299 non-null   float64\n",
      " 17  USDCADV1M CMP Curncy    6299 non-null   float64\n",
      " 18  USDCAD25B1M CMP Curncy  5323 non-null   float64\n",
      " 19  USDCAD25R1M CMP Curncy  5322 non-null   float64\n",
      " 20  AUDUSD CMP Curncy       6300 non-null   float64\n",
      " 21  AUDSN CMP Curncy        6300 non-null   float64\n",
      " 22  AUDUSDV1M CMP Curncy    6300 non-null   float64\n",
      " 23  AUDUSD25B1M CMP Curncy  5323 non-null   float64\n",
      " 24  AUDUSD25R1M CMP Curncy  5322 non-null   float64\n",
      " 25  NZDUSD CMP Curncy       6300 non-null   float64\n",
      " 26  NZDSN CMP Curncy        6300 non-null   float64\n",
      " 27  NZDUSDV1M CMP Curncy    6300 non-null   float64\n",
      " 28  NZDUSD25B1M CMP Curncy  5323 non-null   float64\n",
      " 29  NZDUSD25R1M CMP Curncy  5322 non-null   float64\n",
      " 30  USDCHF CMP Curncy       6300 non-null   float64\n",
      " 31  CHFSN CMP Curncy        6300 non-null   float64\n",
      " 32  USDCHFV1M CMP Curncy    6299 non-null   float64\n",
      " 33  USDCHF25R1M CMP Curncy  4949 non-null   float64\n",
      " 34  USDCHF25B1M CMP Curncy  4949 non-null   float64\n",
      "dtypes: float64(35)\n",
      "memory usage: 1.7 MB\n",
      "<class 'pandas.core.frame.DataFrame'>\n",
      "DatetimeIndex: 6237 entries, 2000-01-03 to 2024-02-23\n",
      "Data columns (total 3 columns):\n",
      " #   Column        Non-Null Count  Dtype  \n",
      "---  ------        --------------  -----  \n",
      " 0   MOVE Index    6237 non-null   float64\n",
      " 1   VIX Index     6237 non-null   float64\n",
      " 2   CVIX1I Index  6236 non-null   float64\n",
      "dtypes: float64(3)\n",
      "memory usage: 194.9 KB\n"
     ]
    }
   ],
   "source": [
    "df_spot.info()\n",
    "df_vol.info()\n",
    "df_indices.info()"
   ]
  },
  {
   "cell_type": "code",
   "execution_count": 33,
   "metadata": {},
   "outputs": [],
   "source": [
    "df_returns = pd.DataFrame(index=df_spot.index.unique(), columns=ccies)\n",
    "for c in ccies:\n",
    "    df = df_spot[df_spot['security'] == c + ' CMP Curncy']['PX_LAST']\n",
    "    df_returns[c] = df.pct_change()\n",
    "idx = pd.date_range(end=df_vol.index[-1], start = df_vol.index[0], freq='BM')\n",
    "realised_vol = pd.DataFrame(index=idx, columns=ccies)\n",
    "implied_vol = pd.DataFrame(index=idx, columns=ccies)\n",
    "for i, d in enumerate(idx[:-1]):\n",
    "    for ccy in ccies:\n",
    "        realised_vol[ccy].loc[d] = np.sqrt(260) * (df_returns.loc[d:idx[i+1], ccy]).std()\n",
    "        if ccy in strong:\n",
    "            implied_vol[ccy].loc[d] = df_vol.loc[d, ccy + 'USDV1M CMP Curncy']\n",
    "        else:\n",
    "            implied_vol[ccy].loc[d] = df_vol.loc[d, 'USD' + ccy + 'V1M CMP Curncy']"
   ]
  },
  {
   "cell_type": "code",
   "execution_count": 34,
   "metadata": {},
   "outputs": [],
   "source": [
    "y = (implied_vol - 100 * realised_vol).dropna()"
   ]
  },
  {
   "cell_type": "code",
   "execution_count": 37,
   "metadata": {},
   "outputs": [],
   "source": [
    "raw_features = pd.DataFrame(index=df_vol.index)\n",
    "\n",
    "raw_features = raw_features.merge(df_indices.add_suffix('_all'), on='date')\n",
    "\n",
    "window = 22\n",
    "day_count = 260\n",
    "\n",
    "vol = np.sqrt(day_count * (df_returns ** 2).ewm(alpha=0.03, min_periods=window).mean())\n",
    "raw_features = raw_features.merge(vol.add_prefix('realised_ewm_'), on='date')\n",
    "vol = np.sqrt(day_count * (df_returns ** 2).rolling(window=window, min_periods=window).mean())\n",
    "raw_features = raw_features.merge(vol.add_prefix('realised_ctc_'), on='date')\n",
    "\n",
    "for ccy in ccies:\n",
    "    if ccy in strong:\n",
    "        atm = df_vol[ccy + 'USDV1M CMP Curncy']\n",
    "        rr = df_vol[ccy + 'USD25R1M CMP Curncy']\n",
    "        bf = df_vol[ccy + 'USD25B1M CMP Curncy']\n",
    "    else:\n",
    "        atm = df_vol['USD' + ccy + 'V1M CMP Curncy']\n",
    "        rr = df_vol['USD' + ccy + '25R1M CMP Curncy']\n",
    "        bf = df_vol['USD' + ccy + '25B1M CMP Curncy']\n",
    "    raw_features['implied_atm_'+ccy] = atm\n",
    "    raw_features['implied_skew_'+ccy] = (rr) / atm\n",
    "    raw_features['implied_kurt_'+ccy] = (bf) / atm\n",
    "    ohlc = df_spot[df_spot['security'] == ccy + ' CMP Curncy'][['PX_OPEN', 'PX_HIGH', 'PX_LOW', 'PX_LAST']]\n",
    "    ohlc.columns = ['Open', 'High', 'Low', 'Close']\n",
    "    for e,p in zip(['par', 'gk', 'rs', 'yz'], [parkinson, garman_klass, rodgers_satchell, yang_zhang]):\n",
    "        raw_features['realised_'+e+'_'+ccy] = p(ohlc, window=window, day_count=day_count)\n",
    "    raw_features['spot_range_'+ccy] = (ohlc['High'] - ohlc['Low']).rolling(window=window, min_periods=window).mean()\n",
    "    "
   ]
  },
  {
   "cell_type": "code",
   "execution_count": 41,
   "metadata": {},
   "outputs": [],
   "source": [
    "window = 260\n",
    "pct_features = raw_features.rolling(window=window, min_periods=window).rank(pct=True).add_prefix('pct_')"
   ]
  },
  {
   "cell_type": "code",
   "execution_count": 42,
   "metadata": {},
   "outputs": [],
   "source": [
    "atm_col = ['implied_atm_'+ccy for ccy in ccies]\n",
    "spreads = pd.DataFrame(index=raw_features.index, columns=raw_features.filter(regex='realised').columns)\n",
    "for e in ['ctc', 'ewm', 'par', 'gk', 'rs', 'yz']:\n",
    "    realised_col = ['realised_'+e+'_'+ccy for ccy in ccies]\n",
    "    spreads[realised_col] = np.log(raw_features[atm_col].values/(100*raw_features[realised_col]).values)\n",
    "spreads = spreads.add_prefix('spread_')"
   ]
  },
  {
   "cell_type": "code",
   "execution_count": 48,
   "metadata": {},
   "outputs": [
    {
     "data": {
      "text/html": [
       "<div>\n",
       "<style scoped>\n",
       "    .dataframe tbody tr th:only-of-type {\n",
       "        vertical-align: middle;\n",
       "    }\n",
       "\n",
       "    .dataframe tbody tr th {\n",
       "        vertical-align: top;\n",
       "    }\n",
       "\n",
       "    .dataframe thead th {\n",
       "        text-align: right;\n",
       "    }\n",
       "</style>\n",
       "<table border=\"1\" class=\"dataframe\">\n",
       "  <thead>\n",
       "    <tr style=\"text-align: right;\">\n",
       "      <th></th>\n",
       "      <th>pct_implied_atm_EUR</th>\n",
       "      <th>pct_implied_atm_JPY</th>\n",
       "      <th>pct_implied_atm_GBP</th>\n",
       "      <th>pct_implied_atm_CAD</th>\n",
       "      <th>pct_implied_atm_AUD</th>\n",
       "      <th>pct_implied_atm_NZD</th>\n",
       "      <th>pct_implied_atm_CHF</th>\n",
       "    </tr>\n",
       "    <tr>\n",
       "      <th>date</th>\n",
       "      <th></th>\n",
       "      <th></th>\n",
       "      <th></th>\n",
       "      <th></th>\n",
       "      <th></th>\n",
       "      <th></th>\n",
       "      <th></th>\n",
       "    </tr>\n",
       "  </thead>\n",
       "  <tbody>\n",
       "    <tr>\n",
       "      <th>2001-01-01</th>\n",
       "      <td>0.653846</td>\n",
       "      <td>0.313462</td>\n",
       "      <td>0.636538</td>\n",
       "      <td>0.805769</td>\n",
       "      <td>0.713462</td>\n",
       "      <td>0.625000</td>\n",
       "      <td>0.726923</td>\n",
       "    </tr>\n",
       "    <tr>\n",
       "      <th>2001-01-02</th>\n",
       "      <td>0.880769</td>\n",
       "      <td>0.290385</td>\n",
       "      <td>0.734615</td>\n",
       "      <td>0.994231</td>\n",
       "      <td>0.792308</td>\n",
       "      <td>0.607692</td>\n",
       "      <td>0.725000</td>\n",
       "    </tr>\n",
       "    <tr>\n",
       "      <th>2001-01-03</th>\n",
       "      <td>0.844231</td>\n",
       "      <td>0.263462</td>\n",
       "      <td>0.763462</td>\n",
       "      <td>0.992308</td>\n",
       "      <td>0.819231</td>\n",
       "      <td>0.623077</td>\n",
       "      <td>0.819231</td>\n",
       "    </tr>\n",
       "    <tr>\n",
       "      <th>2001-01-04</th>\n",
       "      <td>0.821154</td>\n",
       "      <td>0.284615</td>\n",
       "      <td>0.776923</td>\n",
       "      <td>0.990385</td>\n",
       "      <td>0.828846</td>\n",
       "      <td>0.690385</td>\n",
       "      <td>0.803846</td>\n",
       "    </tr>\n",
       "    <tr>\n",
       "      <th>2001-01-05</th>\n",
       "      <td>0.825000</td>\n",
       "      <td>0.438462</td>\n",
       "      <td>0.748077</td>\n",
       "      <td>0.988462</td>\n",
       "      <td>0.884615</td>\n",
       "      <td>0.661538</td>\n",
       "      <td>0.742308</td>\n",
       "    </tr>\n",
       "    <tr>\n",
       "      <th>...</th>\n",
       "      <td>...</td>\n",
       "      <td>...</td>\n",
       "      <td>...</td>\n",
       "      <td>...</td>\n",
       "      <td>...</td>\n",
       "      <td>...</td>\n",
       "      <td>...</td>\n",
       "    </tr>\n",
       "    <tr>\n",
       "      <th>2024-02-16</th>\n",
       "      <td>0.003846</td>\n",
       "      <td>0.011538</td>\n",
       "      <td>0.003846</td>\n",
       "      <td>0.007692</td>\n",
       "      <td>0.003846</td>\n",
       "      <td>0.003846</td>\n",
       "      <td>0.069231</td>\n",
       "    </tr>\n",
       "    <tr>\n",
       "      <th>2024-02-20</th>\n",
       "      <td>0.015385</td>\n",
       "      <td>0.053846</td>\n",
       "      <td>0.011538</td>\n",
       "      <td>0.009615</td>\n",
       "      <td>0.007692</td>\n",
       "      <td>0.003846</td>\n",
       "      <td>0.109615</td>\n",
       "    </tr>\n",
       "    <tr>\n",
       "      <th>2024-02-21</th>\n",
       "      <td>0.023077</td>\n",
       "      <td>0.088462</td>\n",
       "      <td>0.015385</td>\n",
       "      <td>0.021154</td>\n",
       "      <td>0.015385</td>\n",
       "      <td>0.011538</td>\n",
       "      <td>0.259615</td>\n",
       "    </tr>\n",
       "    <tr>\n",
       "      <th>2024-02-22</th>\n",
       "      <td>0.025000</td>\n",
       "      <td>0.051923</td>\n",
       "      <td>0.017308</td>\n",
       "      <td>0.050000</td>\n",
       "      <td>0.011538</td>\n",
       "      <td>0.007692</td>\n",
       "      <td>0.307692</td>\n",
       "    </tr>\n",
       "    <tr>\n",
       "      <th>2024-02-23</th>\n",
       "      <td>0.003846</td>\n",
       "      <td>0.038462</td>\n",
       "      <td>0.005769</td>\n",
       "      <td>0.023077</td>\n",
       "      <td>0.007692</td>\n",
       "      <td>0.003846</td>\n",
       "      <td>0.159615</td>\n",
       "    </tr>\n",
       "  </tbody>\n",
       "</table>\n",
       "<p>5977 rows × 7 columns</p>\n",
       "</div>"
      ],
      "text/plain": [
       "            pct_implied_atm_EUR  pct_implied_atm_JPY  pct_implied_atm_GBP  \\\n",
       "date                                                                        \n",
       "2001-01-01             0.653846             0.313462             0.636538   \n",
       "2001-01-02             0.880769             0.290385             0.734615   \n",
       "2001-01-03             0.844231             0.263462             0.763462   \n",
       "2001-01-04             0.821154             0.284615             0.776923   \n",
       "2001-01-05             0.825000             0.438462             0.748077   \n",
       "...                         ...                  ...                  ...   \n",
       "2024-02-16             0.003846             0.011538             0.003846   \n",
       "2024-02-20             0.015385             0.053846             0.011538   \n",
       "2024-02-21             0.023077             0.088462             0.015385   \n",
       "2024-02-22             0.025000             0.051923             0.017308   \n",
       "2024-02-23             0.003846             0.038462             0.005769   \n",
       "\n",
       "            pct_implied_atm_CAD  pct_implied_atm_AUD  pct_implied_atm_NZD  \\\n",
       "date                                                                        \n",
       "2001-01-01             0.805769             0.713462             0.625000   \n",
       "2001-01-02             0.994231             0.792308             0.607692   \n",
       "2001-01-03             0.992308             0.819231             0.623077   \n",
       "2001-01-04             0.990385             0.828846             0.690385   \n",
       "2001-01-05             0.988462             0.884615             0.661538   \n",
       "...                         ...                  ...                  ...   \n",
       "2024-02-16             0.007692             0.003846             0.003846   \n",
       "2024-02-20             0.009615             0.007692             0.003846   \n",
       "2024-02-21             0.021154             0.015385             0.011538   \n",
       "2024-02-22             0.050000             0.011538             0.007692   \n",
       "2024-02-23             0.023077             0.007692             0.003846   \n",
       "\n",
       "            pct_implied_atm_CHF  \n",
       "date                             \n",
       "2001-01-01             0.726923  \n",
       "2001-01-02             0.725000  \n",
       "2001-01-03             0.819231  \n",
       "2001-01-04             0.803846  \n",
       "2001-01-05             0.742308  \n",
       "...                         ...  \n",
       "2024-02-16             0.069231  \n",
       "2024-02-20             0.109615  \n",
       "2024-02-21             0.259615  \n",
       "2024-02-22             0.307692  \n",
       "2024-02-23             0.159615  \n",
       "\n",
       "[5977 rows x 7 columns]"
      ]
     },
     "execution_count": 48,
     "metadata": {},
     "output_type": "execute_result"
    }
   ],
   "source": [
    "pct_features.filter(regex='pct_implied_atm').dropna()"
   ]
  },
  {
   "cell_type": "code",
   "execution_count": 304,
   "metadata": {},
   "outputs": [],
   "source": [
    "X = z_features.dropna()\n",
    "idx = (X.index).intersection(y.index)\n",
    "X, y = X.loc[idx], y.loc[idx]\n",
    "X_train, X_test, y_train, y_test = train_test_split(X, y, test_size=0.2, shuffle=False)"
   ]
  },
  {
   "cell_type": "code",
   "execution_count": 173,
   "metadata": {},
   "outputs": [],
   "source": [
    "X = pct_features.filter(regex='pct_implied_atm').merge(spreads, on='date').dropna()\n",
    "idx = (X.index).intersection(y.index)\n",
    "X, y = X.loc[idx], y.loc[idx]\n",
    "X_train, X_test, y_train, y_test = train_test_split(X, y, test_size=0.2, shuffle=False)"
   ]
  },
  {
   "cell_type": "code",
   "execution_count": 242,
   "metadata": {},
   "outputs": [],
   "source": [
    "def data_flat(X, selected_features, selected_currencies, add_common=False):\n",
    "    X_flat = pd.DataFrame()\n",
    "    for f in selected_features:\n",
    "        col = np.array([])\n",
    "        for c in selected_currencies:\n",
    "            col = np.concatenate((col, X[f+'_'+c].values), axis=None)\n",
    "        X_flat[f] = col\n",
    "    if add_common:\n",
    "        common_features = list(X.filter(regex='_all').columns)\n",
    "        for f in common_features:\n",
    "            col = np.array([])\n",
    "            for c in selected_currencies:\n",
    "                col = np.concatenate((col, X[f].values), axis=None)\n",
    "            X_flat[f] = col\n",
    "    return X_flat\n",
    "\n",
    "def data_flat_(X, selected_features, selected_currencies, add_common=False):\n",
    "    X_flat = pd.DataFrame()\n",
    "    i = 0\n",
    "    for d in X.index:\n",
    "        for c in selected_currencies:\n",
    "            for f in selected_features:\n",
    "                X_flat.loc[i, f] = X.loc[d, f+'_'+c]\n",
    "            i += 1\n",
    "    if add_common:\n",
    "        common_features = list(X.filter(regex='_all').columns)\n",
    "        i = 0\n",
    "        for d in X.index:\n",
    "            for f in common_features:\n",
    "                for c in selected_currencies:\n",
    "                    X_flat.loc[i, f] = X.loc[d, f]\n",
    "                i += 1\n",
    "    return X_flat.to_numpy()\n",
    "\n",
    "def target_flat_(y, selected_currencies):\n",
    "    y_flat = y[selected_currencies].to_numpy().flatten(order='C')\n",
    "    return y_flat"
   ]
  },
  {
   "cell_type": "code",
   "execution_count": 172,
   "metadata": {},
   "outputs": [
    {
     "ename": "KeyError",
     "evalue": "'spread_realised_ewm_EUR'",
     "output_type": "error",
     "traceback": [
      "\u001b[0;31m---------------------------------------------------------------------------\u001b[0m",
      "\u001b[0;31mKeyError\u001b[0m                                  Traceback (most recent call last)",
      "\u001b[0;32m/opt/anaconda3/lib/python3.8/site-packages/pandas/core/indexes/base.py\u001b[0m in \u001b[0;36mget_loc\u001b[0;34m(self, key)\u001b[0m\n\u001b[1;32m   3652\u001b[0m         \u001b[0;32mtry\u001b[0m\u001b[0;34m:\u001b[0m\u001b[0;34m\u001b[0m\u001b[0;34m\u001b[0m\u001b[0m\n\u001b[0;32m-> 3653\u001b[0;31m             \u001b[0;32mreturn\u001b[0m \u001b[0mself\u001b[0m\u001b[0;34m.\u001b[0m\u001b[0m_engine\u001b[0m\u001b[0;34m.\u001b[0m\u001b[0mget_loc\u001b[0m\u001b[0;34m(\u001b[0m\u001b[0mcasted_key\u001b[0m\u001b[0;34m)\u001b[0m\u001b[0;34m\u001b[0m\u001b[0;34m\u001b[0m\u001b[0m\n\u001b[0m\u001b[1;32m   3654\u001b[0m         \u001b[0;32mexcept\u001b[0m \u001b[0mKeyError\u001b[0m \u001b[0;32mas\u001b[0m \u001b[0merr\u001b[0m\u001b[0;34m:\u001b[0m\u001b[0;34m\u001b[0m\u001b[0;34m\u001b[0m\u001b[0m\n",
      "\u001b[0;32m/opt/anaconda3/lib/python3.8/site-packages/pandas/_libs/index.pyx\u001b[0m in \u001b[0;36mpandas._libs.index.IndexEngine.get_loc\u001b[0;34m()\u001b[0m\n",
      "\u001b[0;32m/opt/anaconda3/lib/python3.8/site-packages/pandas/_libs/index.pyx\u001b[0m in \u001b[0;36mpandas._libs.index.IndexEngine.get_loc\u001b[0;34m()\u001b[0m\n",
      "\u001b[0;32mpandas/_libs/hashtable_class_helper.pxi\u001b[0m in \u001b[0;36mpandas._libs.hashtable.PyObjectHashTable.get_item\u001b[0;34m()\u001b[0m\n",
      "\u001b[0;32mpandas/_libs/hashtable_class_helper.pxi\u001b[0m in \u001b[0;36mpandas._libs.hashtable.PyObjectHashTable.get_item\u001b[0;34m()\u001b[0m\n",
      "\u001b[0;31mKeyError\u001b[0m: 'spread_realised_ewm_EUR'",
      "\nThe above exception was the direct cause of the following exception:\n",
      "\u001b[0;31mKeyError\u001b[0m                                  Traceback (most recent call last)",
      "\u001b[0;32m<ipython-input-172-57b6fa979c13>\u001b[0m in \u001b[0;36m<module>\u001b[0;34m\u001b[0m\n\u001b[1;32m      1\u001b[0m \u001b[0mselected_features\u001b[0m \u001b[0;34m=\u001b[0m \u001b[0;34m[\u001b[0m\u001b[0;34m'pct_implied_atm'\u001b[0m\u001b[0;34m,\u001b[0m \u001b[0;34m'spread_realised_ewm'\u001b[0m\u001b[0;34m]\u001b[0m\u001b[0;34m\u001b[0m\u001b[0;34m\u001b[0m\u001b[0m\n\u001b[1;32m      2\u001b[0m \u001b[0mselected_currencies\u001b[0m \u001b[0;34m=\u001b[0m \u001b[0mccies\u001b[0m\u001b[0;34m\u001b[0m\u001b[0;34m\u001b[0m\u001b[0m\n\u001b[0;32m----> 3\u001b[0;31m \u001b[0mX_train_flat\u001b[0m \u001b[0;34m=\u001b[0m \u001b[0mdata_flat\u001b[0m\u001b[0;34m(\u001b[0m\u001b[0mX_train\u001b[0m\u001b[0;34m,\u001b[0m \u001b[0mselected_features\u001b[0m\u001b[0;34m,\u001b[0m \u001b[0mselected_currencies\u001b[0m\u001b[0;34m)\u001b[0m\u001b[0;34m\u001b[0m\u001b[0;34m\u001b[0m\u001b[0m\n\u001b[0m\u001b[1;32m      4\u001b[0m \u001b[0mX_test_flat\u001b[0m \u001b[0;34m=\u001b[0m \u001b[0mdata_flat\u001b[0m\u001b[0;34m(\u001b[0m\u001b[0mX_test\u001b[0m\u001b[0;34m,\u001b[0m \u001b[0mselected_features\u001b[0m\u001b[0;34m,\u001b[0m \u001b[0mselected_currencies\u001b[0m\u001b[0;34m)\u001b[0m\u001b[0;34m\u001b[0m\u001b[0;34m\u001b[0m\u001b[0m\n\u001b[1;32m      5\u001b[0m \u001b[0my_train_flat\u001b[0m \u001b[0;34m=\u001b[0m \u001b[0mpd\u001b[0m\u001b[0;34m.\u001b[0m\u001b[0mSeries\u001b[0m\u001b[0;34m(\u001b[0m\u001b[0my_train\u001b[0m\u001b[0;34m[\u001b[0m\u001b[0mselected_currencies\u001b[0m\u001b[0;34m]\u001b[0m\u001b[0;34m.\u001b[0m\u001b[0mvalues\u001b[0m\u001b[0;34m.\u001b[0m\u001b[0mflatten\u001b[0m\u001b[0;34m(\u001b[0m\u001b[0morder\u001b[0m\u001b[0;34m=\u001b[0m\u001b[0;34m'C'\u001b[0m\u001b[0;34m)\u001b[0m\u001b[0;34m)\u001b[0m\u001b[0;34m\u001b[0m\u001b[0;34m\u001b[0m\u001b[0m\n",
      "\u001b[0;32m<ipython-input-158-f1344a04795d>\u001b[0m in \u001b[0;36mdata_flat\u001b[0;34m(X, selected_features, selected_currencies, add_common)\u001b[0m\n\u001b[1;32m     21\u001b[0m         \u001b[0;32mfor\u001b[0m \u001b[0mc\u001b[0m \u001b[0;32min\u001b[0m \u001b[0mselected_currencies\u001b[0m\u001b[0;34m:\u001b[0m\u001b[0;34m\u001b[0m\u001b[0;34m\u001b[0m\u001b[0m\n\u001b[1;32m     22\u001b[0m             \u001b[0;32mfor\u001b[0m \u001b[0mf\u001b[0m \u001b[0;32min\u001b[0m \u001b[0mselected_features\u001b[0m\u001b[0;34m:\u001b[0m\u001b[0;34m\u001b[0m\u001b[0;34m\u001b[0m\u001b[0m\n\u001b[0;32m---> 23\u001b[0;31m                 \u001b[0mX_flat\u001b[0m\u001b[0;34m.\u001b[0m\u001b[0mloc\u001b[0m\u001b[0;34m[\u001b[0m\u001b[0mi\u001b[0m\u001b[0;34m,\u001b[0m \u001b[0mf\u001b[0m\u001b[0;34m]\u001b[0m \u001b[0;34m=\u001b[0m \u001b[0mX\u001b[0m\u001b[0;34m.\u001b[0m\u001b[0mloc\u001b[0m\u001b[0;34m[\u001b[0m\u001b[0md\u001b[0m\u001b[0;34m,\u001b[0m \u001b[0mf\u001b[0m\u001b[0;34m+\u001b[0m\u001b[0;34m'_'\u001b[0m\u001b[0;34m+\u001b[0m\u001b[0mc\u001b[0m\u001b[0;34m]\u001b[0m\u001b[0;34m\u001b[0m\u001b[0;34m\u001b[0m\u001b[0m\n\u001b[0m\u001b[1;32m     24\u001b[0m             \u001b[0mi\u001b[0m \u001b[0;34m+=\u001b[0m \u001b[0;36m1\u001b[0m\u001b[0;34m\u001b[0m\u001b[0;34m\u001b[0m\u001b[0m\n\u001b[1;32m     25\u001b[0m     \u001b[0;32mif\u001b[0m \u001b[0madd_common\u001b[0m\u001b[0;34m:\u001b[0m\u001b[0;34m\u001b[0m\u001b[0;34m\u001b[0m\u001b[0m\n",
      "\u001b[0;32m/opt/anaconda3/lib/python3.8/site-packages/pandas/core/indexing.py\u001b[0m in \u001b[0;36m__getitem__\u001b[0;34m(self, key)\u001b[0m\n\u001b[1;32m   1094\u001b[0m             \u001b[0mkey\u001b[0m \u001b[0;34m=\u001b[0m \u001b[0mtuple\u001b[0m\u001b[0;34m(\u001b[0m\u001b[0mcom\u001b[0m\u001b[0;34m.\u001b[0m\u001b[0mapply_if_callable\u001b[0m\u001b[0;34m(\u001b[0m\u001b[0mx\u001b[0m\u001b[0;34m,\u001b[0m \u001b[0mself\u001b[0m\u001b[0;34m.\u001b[0m\u001b[0mobj\u001b[0m\u001b[0;34m)\u001b[0m \u001b[0;32mfor\u001b[0m \u001b[0mx\u001b[0m \u001b[0;32min\u001b[0m \u001b[0mkey\u001b[0m\u001b[0;34m)\u001b[0m\u001b[0;34m\u001b[0m\u001b[0;34m\u001b[0m\u001b[0m\n\u001b[1;32m   1095\u001b[0m             \u001b[0;32mif\u001b[0m \u001b[0mself\u001b[0m\u001b[0;34m.\u001b[0m\u001b[0m_is_scalar_access\u001b[0m\u001b[0;34m(\u001b[0m\u001b[0mkey\u001b[0m\u001b[0;34m)\u001b[0m\u001b[0;34m:\u001b[0m\u001b[0;34m\u001b[0m\u001b[0;34m\u001b[0m\u001b[0m\n\u001b[0;32m-> 1096\u001b[0;31m                 \u001b[0;32mreturn\u001b[0m \u001b[0mself\u001b[0m\u001b[0;34m.\u001b[0m\u001b[0mobj\u001b[0m\u001b[0;34m.\u001b[0m\u001b[0m_get_value\u001b[0m\u001b[0;34m(\u001b[0m\u001b[0;34m*\u001b[0m\u001b[0mkey\u001b[0m\u001b[0;34m,\u001b[0m \u001b[0mtakeable\u001b[0m\u001b[0;34m=\u001b[0m\u001b[0mself\u001b[0m\u001b[0;34m.\u001b[0m\u001b[0m_takeable\u001b[0m\u001b[0;34m)\u001b[0m\u001b[0;34m\u001b[0m\u001b[0;34m\u001b[0m\u001b[0m\n\u001b[0m\u001b[1;32m   1097\u001b[0m             \u001b[0;32mreturn\u001b[0m \u001b[0mself\u001b[0m\u001b[0;34m.\u001b[0m\u001b[0m_getitem_tuple\u001b[0m\u001b[0;34m(\u001b[0m\u001b[0mkey\u001b[0m\u001b[0;34m)\u001b[0m\u001b[0;34m\u001b[0m\u001b[0;34m\u001b[0m\u001b[0m\n\u001b[1;32m   1098\u001b[0m         \u001b[0;32melse\u001b[0m\u001b[0;34m:\u001b[0m\u001b[0;34m\u001b[0m\u001b[0;34m\u001b[0m\u001b[0m\n",
      "\u001b[0;32m/opt/anaconda3/lib/python3.8/site-packages/pandas/core/frame.py\u001b[0m in \u001b[0;36m_get_value\u001b[0;34m(self, index, col, takeable)\u001b[0m\n\u001b[1;32m   3868\u001b[0m             \u001b[0;32mreturn\u001b[0m \u001b[0mseries\u001b[0m\u001b[0;34m.\u001b[0m\u001b[0m_values\u001b[0m\u001b[0;34m[\u001b[0m\u001b[0mindex\u001b[0m\u001b[0;34m]\u001b[0m\u001b[0;34m\u001b[0m\u001b[0;34m\u001b[0m\u001b[0m\n\u001b[1;32m   3869\u001b[0m \u001b[0;34m\u001b[0m\u001b[0m\n\u001b[0;32m-> 3870\u001b[0;31m         \u001b[0mseries\u001b[0m \u001b[0;34m=\u001b[0m \u001b[0mself\u001b[0m\u001b[0;34m.\u001b[0m\u001b[0m_get_item_cache\u001b[0m\u001b[0;34m(\u001b[0m\u001b[0mcol\u001b[0m\u001b[0;34m)\u001b[0m\u001b[0;34m\u001b[0m\u001b[0;34m\u001b[0m\u001b[0m\n\u001b[0m\u001b[1;32m   3871\u001b[0m         \u001b[0mengine\u001b[0m \u001b[0;34m=\u001b[0m \u001b[0mself\u001b[0m\u001b[0;34m.\u001b[0m\u001b[0mindex\u001b[0m\u001b[0;34m.\u001b[0m\u001b[0m_engine\u001b[0m\u001b[0;34m\u001b[0m\u001b[0;34m\u001b[0m\u001b[0m\n\u001b[1;32m   3872\u001b[0m \u001b[0;34m\u001b[0m\u001b[0m\n",
      "\u001b[0;32m/opt/anaconda3/lib/python3.8/site-packages/pandas/core/frame.py\u001b[0m in \u001b[0;36m_get_item_cache\u001b[0;34m(self, item)\u001b[0m\n\u001b[1;32m   4253\u001b[0m             \u001b[0;31m#  pending resolution of GH#33047\u001b[0m\u001b[0;34m\u001b[0m\u001b[0;34m\u001b[0m\u001b[0;34m\u001b[0m\u001b[0m\n\u001b[1;32m   4254\u001b[0m \u001b[0;34m\u001b[0m\u001b[0m\n\u001b[0;32m-> 4255\u001b[0;31m             \u001b[0mloc\u001b[0m \u001b[0;34m=\u001b[0m \u001b[0mself\u001b[0m\u001b[0;34m.\u001b[0m\u001b[0mcolumns\u001b[0m\u001b[0;34m.\u001b[0m\u001b[0mget_loc\u001b[0m\u001b[0;34m(\u001b[0m\u001b[0mitem\u001b[0m\u001b[0;34m)\u001b[0m\u001b[0;34m\u001b[0m\u001b[0;34m\u001b[0m\u001b[0m\n\u001b[0m\u001b[1;32m   4256\u001b[0m             \u001b[0mres\u001b[0m \u001b[0;34m=\u001b[0m \u001b[0mself\u001b[0m\u001b[0;34m.\u001b[0m\u001b[0m_ixs\u001b[0m\u001b[0;34m(\u001b[0m\u001b[0mloc\u001b[0m\u001b[0;34m,\u001b[0m \u001b[0maxis\u001b[0m\u001b[0;34m=\u001b[0m\u001b[0;36m1\u001b[0m\u001b[0;34m)\u001b[0m\u001b[0;34m\u001b[0m\u001b[0;34m\u001b[0m\u001b[0m\n\u001b[1;32m   4257\u001b[0m \u001b[0;34m\u001b[0m\u001b[0m\n",
      "\u001b[0;32m/opt/anaconda3/lib/python3.8/site-packages/pandas/core/indexes/base.py\u001b[0m in \u001b[0;36mget_loc\u001b[0;34m(self, key)\u001b[0m\n\u001b[1;32m   3653\u001b[0m             \u001b[0;32mreturn\u001b[0m \u001b[0mself\u001b[0m\u001b[0;34m.\u001b[0m\u001b[0m_engine\u001b[0m\u001b[0;34m.\u001b[0m\u001b[0mget_loc\u001b[0m\u001b[0;34m(\u001b[0m\u001b[0mcasted_key\u001b[0m\u001b[0;34m)\u001b[0m\u001b[0;34m\u001b[0m\u001b[0;34m\u001b[0m\u001b[0m\n\u001b[1;32m   3654\u001b[0m         \u001b[0;32mexcept\u001b[0m \u001b[0mKeyError\u001b[0m \u001b[0;32mas\u001b[0m \u001b[0merr\u001b[0m\u001b[0;34m:\u001b[0m\u001b[0;34m\u001b[0m\u001b[0;34m\u001b[0m\u001b[0m\n\u001b[0;32m-> 3655\u001b[0;31m             \u001b[0;32mraise\u001b[0m \u001b[0mKeyError\u001b[0m\u001b[0;34m(\u001b[0m\u001b[0mkey\u001b[0m\u001b[0;34m)\u001b[0m \u001b[0;32mfrom\u001b[0m \u001b[0merr\u001b[0m\u001b[0;34m\u001b[0m\u001b[0;34m\u001b[0m\u001b[0m\n\u001b[0m\u001b[1;32m   3656\u001b[0m         \u001b[0;32mexcept\u001b[0m \u001b[0mTypeError\u001b[0m\u001b[0;34m:\u001b[0m\u001b[0;34m\u001b[0m\u001b[0;34m\u001b[0m\u001b[0m\n\u001b[1;32m   3657\u001b[0m             \u001b[0;31m# If we have a listlike key, _check_indexing_error will raise\u001b[0m\u001b[0;34m\u001b[0m\u001b[0;34m\u001b[0m\u001b[0;34m\u001b[0m\u001b[0m\n",
      "\u001b[0;31mKeyError\u001b[0m: 'spread_realised_ewm_EUR'"
     ]
    }
   ],
   "source": [
    "selected_features = ['pct_implied_atm', 'spread_realised_ewm']\n",
    "selected_currencies = ccies\n",
    "X_train_flat = data_flat(X_train, selected_features, selected_currencies)\n",
    "X_test_flat = data_flat(X_test, selected_features, selected_currencies)\n",
    "y_train_flat = pd.Series(y_train[selected_currencies].values.flatten(order='C'))\n",
    "y_test_flat = pd.Series(y_test[selected_currencies].values.flatten(order='C'))"
   ]
  },
  {
   "cell_type": "code",
   "execution_count": 80,
   "metadata": {},
   "outputs": [],
   "source": [
    "threshold = 0.5\n",
    "labels_train = (y_train_flat > threshold).astype(int)\n",
    "labels_test = (y_test_flat > threshold).astype(int)"
   ]
  },
  {
   "cell_type": "code",
   "execution_count": 136,
   "metadata": {},
   "outputs": [
    {
     "name": "stdout",
     "output_type": "stream",
     "text": [
      "              precision    recall  f1-score   support\n",
      "\n",
      "           0       0.52      0.41      0.46       754\n",
      "           1       0.53      0.63      0.58       786\n",
      "\n",
      "    accuracy                           0.52      1540\n",
      "   macro avg       0.52      0.52      0.52      1540\n",
      "weighted avg       0.52      0.52      0.52      1540\n",
      "\n"
     ]
    },
    {
     "data": {
      "image/png": "[encoded data removed]",
      "text/plain": [
       "<Figure size 432x288 with 1 Axes>"
      ]
     },
     "metadata": {
      "needs_background": "light"
     },
     "output_type": "display_data"
    }
   ],
   "source": [
    "clf = LogisticRegression()\n",
    "clf.fit(X_train_flat, labels_train)\n",
    "print(classification_report(labels_train, clf.predict(X_train_flat)))\n",
    "\n",
    "disp_roc = RocCurveDisplay.from_estimator(\n",
    "        clf, \n",
    "        X_train_flat, \n",
    "        labels_train,\n",
    "        name='Logit')\n",
    "disp_roc.ax_.set_title('ROC Curve')\n",
    "plt.plot([0,1], [0,1])\n",
    "plt.show()"
   ]
  },
  {
   "cell_type": "code",
   "execution_count": 137,
   "metadata": {},
   "outputs": [
    {
     "name": "stdout",
     "output_type": "stream",
     "text": [
      "0.31407539235236237\n",
      "0.31108572056647654\n"
     ]
    }
   ],
   "source": [
    "print(sqrt(12)*(clf.predict(X_train_flat) * y_train_flat).mean()/(clf.predict(X_train_flat) * y_train_flat).std())\n",
    "print(sqrt(12)*(y_train_flat).mean()/(y_train_flat).std())"
   ]
  },
  {
   "cell_type": "code",
   "execution_count": 194,
   "metadata": {},
   "outputs": [],
   "source": [
    "pct_spreads = spreads.rolling(window=window, min_periods=window).rank(pct=True).add_prefix('pct_')\n",
    "X = pct_features.filter(regex='pct_implied_atm').merge(pct_spreads.filter(regex='pct_spread_realised_ewm'), on='date').dropna()\n",
    "idx = (X.index).intersection(y.index)\n",
    "X, y = X.loc[idx], y.loc[idx]\n",
    "X_train, X_test, y_train, y_test = train_test_split(X, y, test_size=0.2, shuffle=False)"
   ]
  },
  {
   "cell_type": "code",
   "execution_count": 207,
   "metadata": {},
   "outputs": [],
   "source": [
    "pct_spreads = spreads.rolling(window=window, min_periods=window).rank(pct=True).add_prefix('pct_')\n",
    "X = pct_features.filter(regex='pct_implied_atm').merge(pct_spreads.filter(regex='pct_spread_realised_ewm'), on='date').dropna()\n",
    "idx = (X.index).intersection(y.index)\n",
    "X, y = X.loc[idx], y.loc[idx]\n",
    "selected_features = ['pct_implied_atm', 'pct_spread_realised_ewm']\n",
    "selected_currencies = ccies\n",
    "X_train, X_test, y_train, y_test = train_test_split(X, y, test_size=0.2, shuffle=False)\n",
    "X_train_flat = data_flat_(X_train, selected_features, selected_currencies)\n",
    "X_test_flat = data_flat_(X_test, selected_features, selected_currencies)\n",
    "y_train_flat = pd.Series(y_train[selected_currencies].values.flatten(order='C'))\n",
    "y_test_flat = pd.Series(y_test[selected_currencies].values.flatten(order='C'))\n",
    "threshold = 0.5\n",
    "labels_train = (y_train_flat > threshold).astype(int)\n",
    "labels_test = (y_test_flat > threshold).astype(int)"
   ]
  },
  {
   "cell_type": "code",
   "execution_count": 202,
   "metadata": {},
   "outputs": [],
   "source": [
    "threshold = 0.5\n",
    "labels_train = (y_train_flat > threshold).astype(int)\n",
    "labels_test = (y_test_flat > threshold).astype(int)"
   ]
  },
  {
   "cell_type": "code",
   "execution_count": 245,
   "metadata": {},
   "outputs": [
    {
     "data": {
      "text/plain": [
       "array([[0.55961538, 0.13076923],\n",
       "       [0.52307692, 0.49615385],\n",
       "       [0.49038462, 0.43846154],\n",
       "       ...,\n",
       "       [0.29230769, 0.95384615],\n",
       "       [0.63846154, 0.94230769],\n",
       "       [0.06923077, 0.86538462]])"
      ]
     },
     "execution_count": 245,
     "metadata": {},
     "output_type": "execute_result"
    }
   ],
   "source": [
    "data_flat_(X_train, selected_features, selected_currencies)"
   ]
  },
  {
   "cell_type": "code",
   "execution_count": 109,
   "metadata": {},
   "outputs": [
    {
     "data": {
      "image/png": "[encoded data removed]",
      "text/plain": [
       "<Figure size 432x288 with 1 Axes>"
      ]
     },
     "metadata": {
      "needs_background": "light"
     },
     "output_type": "display_data"
    }
   ],
   "source": [
    "plt.scatter(X_train_flat.iloc[:,0], X_train_flat.iloc[:,1], c=y_train_flat, cmap='RdYlGn', vmin=-5, vmax=1)\n",
    "plt.xlabel(X_train_flat.columns[0])\n",
    "plt.ylabel(X_train_flat.columns[1])\n",
    "plt.show()"
   ]
  },
  {
   "cell_type": "code",
   "execution_count": 258,
   "metadata": {},
   "outputs": [
    {
     "data": {
      "text/plain": [
       "{'svm__C': 100, 'svm__gamma': 'scale', 'svm__kernel': 'rbf'}"
      ]
     },
     "execution_count": 258,
     "metadata": {},
     "output_type": "execute_result"
    }
   ],
   "source": [
    "pipeline_cv = Pipeline([\n",
    "    ('svm', SVC())  # SVM classifier\n",
    "])\n",
    "param_grid_svm = [ {'svm__C':[0.001, 0.01, 0.05, 0.1, 0.5, 1.0, 10.0, 100, 125, 150, 175, 200],\n",
    "                    'svm__kernel':['linear']},\n",
    "                  {'svm__C':[0.001, 0.01, 0.05, 0.1, 0.5, 1.0, 10.0, 100, 125, 150, 175, 200],\n",
    "                   'svm__kernel':['rbf'],\n",
    "                   'svm__gamma':[\"scale\", \"auto\", 1e-07, 1e-06, 1e-05, 0.0001, 0.001, 0.01, 0.1, 1]}]\n",
    "grid_search = GridSearchCV(pipeline_cv, param_grid_svm, n_jobs=-1, cv=tscv, scoring='accuracy')\n",
    "grid_search.fit(X_train_flat, labels_train)\n",
    "grid_search.best_params_"
   ]
  },
  {
   "cell_type": "code",
   "execution_count": 260,
   "metadata": {},
   "outputs": [
    {
     "name": "stdout",
     "output_type": "stream",
     "text": [
      "Train Set ROC-AUC Score: 0.571\n",
      "              precision    recall  f1-score   support\n",
      "\n",
      "           0       0.58      0.48      0.52       754\n",
      "           1       0.57      0.67      0.61       786\n",
      "\n",
      "    accuracy                           0.57      1540\n",
      "   macro avg       0.57      0.57      0.57      1540\n",
      "weighted avg       0.57      0.57      0.57      1540\n",
      "\n",
      "Cross Validation ROC-AUC score average: 0.507\n",
      "Cross Validation ROC-AUC score average: 0.060\n"
     ]
    }
   ],
   "source": [
    "pipeline = Pipeline([  # Preprocessing step: Standardization\n",
    "    ('svm', SVC(C=100, gamma='scale', kernel='rbf', probability=True))  # SVM classifier\n",
    "])\n",
    "\n",
    "pipeline.fit(X_train_flat, labels_train)\n",
    "\n",
    "print (\"Train Set ROC-AUC Score: %.3f\" % roc_auc_score(labels_train, pipeline.predict(X_train_flat)))\n",
    "print(classification_report(labels_train, pipeline.predict(X_train_flat)))\n",
    "scores = cross_val_score(pipeline, X_train_flat, labels_train, n_jobs=-1,\n",
    "                         scoring='precision', cv=tscv)\n",
    "print(\"Cross Validation ROC-AUC score average: %.3f\" % scores.mean())\n",
    "print(\"Cross Validation ROC-AUC score average: %.3f\" % scores.std())"
   ]
  },
  {
   "cell_type": "code",
   "execution_count": 261,
   "metadata": {},
   "outputs": [
    {
     "name": "stderr",
     "output_type": "stream",
     "text": [
      "/opt/anaconda3/lib/python3.8/site-packages/sklearn/base.py:439: UserWarning:\n",
      "\n",
      "X does not have valid feature names, but SVC was fitted with feature names\n",
      "\n",
      "/opt/anaconda3/lib/python3.8/site-packages/sklearn/base.py:439: UserWarning:\n",
      "\n",
      "X does not have valid feature names, but SVC was fitted with feature names\n",
      "\n",
      "/opt/anaconda3/lib/python3.8/site-packages/sklearn/base.py:439: UserWarning:\n",
      "\n",
      "X does not have valid feature names, but SVC was fitted with feature names\n",
      "\n",
      "/opt/anaconda3/lib/python3.8/site-packages/sklearn/base.py:439: UserWarning:\n",
      "\n",
      "X does not have valid feature names, but SVC was fitted with feature names\n",
      "\n",
      "/opt/anaconda3/lib/python3.8/site-packages/sklearn/base.py:439: UserWarning:\n",
      "\n",
      "X does not have valid feature names, but SVC was fitted with feature names\n",
      "\n",
      "/opt/anaconda3/lib/python3.8/site-packages/sklearn/base.py:439: UserWarning:\n",
      "\n",
      "X does not have valid feature names, but SVC was fitted with feature names\n",
      "\n",
      "/opt/anaconda3/lib/python3.8/site-packages/sklearn/base.py:439: UserWarning:\n",
      "\n",
      "X does not have valid feature names, but SVC was fitted with feature names\n",
      "\n",
      "/opt/anaconda3/lib/python3.8/site-packages/sklearn/base.py:439: UserWarning:\n",
      "\n",
      "X does not have valid feature names, but SVC was fitted with feature names\n",
      "\n",
      "/opt/anaconda3/lib/python3.8/site-packages/sklearn/base.py:439: UserWarning:\n",
      "\n",
      "X does not have valid feature names, but SVC was fitted with feature names\n",
      "\n",
      "/opt/anaconda3/lib/python3.8/site-packages/sklearn/base.py:439: UserWarning:\n",
      "\n",
      "X does not have valid feature names, but SVC was fitted with feature names\n",
      "\n",
      "/opt/anaconda3/lib/python3.8/site-packages/sklearn/base.py:439: UserWarning:\n",
      "\n",
      "X does not have valid feature names, but SVC was fitted with feature names\n",
      "\n",
      "/opt/anaconda3/lib/python3.8/site-packages/sklearn/base.py:439: UserWarning:\n",
      "\n",
      "X does not have valid feature names, but SVC was fitted with feature names\n",
      "\n",
      "/opt/anaconda3/lib/python3.8/site-packages/sklearn/base.py:439: UserWarning:\n",
      "\n",
      "X does not have valid feature names, but SVC was fitted with feature names\n",
      "\n",
      "/opt/anaconda3/lib/python3.8/site-packages/sklearn/base.py:439: UserWarning:\n",
      "\n",
      "X does not have valid feature names, but SVC was fitted with feature names\n",
      "\n"
     ]
    }
   ],
   "source": [
    "train_pnl = pd.DataFrame(index=X_train.index, columns=selected_currencies)\n",
    "proba = pd.DataFrame(index=X_train.index, columns=selected_currencies)\n",
    "for ccy in selected_currencies:\n",
    "    c = [f + '_' + ccy for f in selected_features]\n",
    "    train_pnl[ccy] = pipeline.predict(X_train[c].values) * y_train[ccy]\n",
    "    proba[ccy] = pipeline.predict_proba(X_train[c].values)[:,1]"
   ]
  },
  {
   "cell_type": "code",
   "execution_count": 262,
   "metadata": {},
   "outputs": [
    {
     "name": "stdout",
     "output_type": "stream",
     "text": [
      "1.2177257491513864\n",
      "0.46297425474917314\n"
     ]
    },
    {
     "data": {
      "application/vnd.plotly.v1+json": {
       "config": {
        "linkText": "Export to plot.ly",
        "plotlyServerURL": "https://plot.ly",
        "showLink": true
       },
       "data": [
        {
         "line": {
          "color": "rgba(255, 153, 51, 1.0)",
          "dash": "solid",
          "shape": "linear",
          "width": 1.3
         },
         "mode": "lines",
         "name": "0",
         "text": "",
         "type": "scatter",
         "x": [
          "2001-01-31",
          "2001-02-28",
          "2001-03-30",
          "2001-04-30",
          "2001-05-31",
          "2001-06-29",
          "2001-07-31",
          "2001-08-31",
          "2001-09-28",
          "2001-10-31",
          "2001-11-30",
          "2001-12-31",
          "2002-01-31",
          "2002-02-28",
          "2002-03-29",
          "2002-04-30",
          "2002-05-31",
          "2002-06-28",
          "2002-07-31",
          "2002-08-30",
          "2002-09-30",
          "2002-10-31",
          "2002-11-29",
          "2002-12-31",
          "2003-01-31",
          "2003-02-28",
          "2003-03-31",
          "2003-04-30",
          "2003-05-30",
          "2003-06-30",
          "2003-07-31",
          "2003-08-29",
          "2003-09-30",
          "2003-10-31",
          "2003-11-28",
          "2003-12-31",
          "2004-01-30",
          "2004-02-27",
          "2004-03-31",
          "2004-04-30",
          "2004-05-31",
          "2004-06-30",
          "2004-07-30",
          "2004-08-31",
          "2004-09-30",
          "2004-10-29",
          "2004-11-30",
          "2004-12-31",
          "2005-01-31",
          "2005-02-28",
          "2005-03-31",
          "2005-04-29",
          "2005-05-31",
          "2005-06-30",
          "2005-07-29",
          "2005-08-31",
          "2005-09-30",
          "2005-10-31",
          "2005-11-30",
          "2005-12-30",
          "2006-01-31",
          "2006-02-28",
          "2006-03-31",
          "2006-04-28",
          "2006-05-31",
          "2006-06-30",
          "2006-07-31",
          "2006-08-31",
          "2006-09-29",
          "2006-10-31",
          "2006-11-30",
          "2006-12-29",
          "2007-01-31",
          "2007-02-28",
          "2007-03-30",
          "2007-04-30",
          "2007-05-31",
          "2007-06-29",
          "2007-07-31",
          "2007-08-31",
          "2007-09-28",
          "2007-10-31",
          "2007-11-30",
          "2007-12-31",
          "2008-01-31",
          "2008-02-29",
          "2008-03-31",
          "2008-04-30",
          "2008-05-30",
          "2008-06-30",
          "2008-07-31",
          "2008-08-29",
          "2008-09-30",
          "2008-10-31",
          "2008-11-28",
          "2008-12-31",
          "2009-01-30",
          "2009-02-27",
          "2009-03-31",
          "2009-04-30",
          "2009-05-29",
          "2009-06-30",
          "2009-07-31",
          "2009-08-31",
          "2009-09-30",
          "2009-10-30",
          "2009-11-30",
          "2009-12-31",
          "2010-01-29",
          "2010-02-26",
          "2010-03-31",
          "2010-04-30",
          "2010-05-31",
          "2010-06-30",
          "2010-07-30",
          "2010-08-31",
          "2010-09-30",
          "2010-10-29",
          "2010-11-30",
          "2010-12-31",
          "2011-01-31",
          "2011-02-28",
          "2011-03-31",
          "2011-04-29",
          "2011-05-31",
          "2011-06-30",
          "2011-07-29",
          "2011-08-31",
          "2011-09-30",
          "2011-10-31",
          "2011-11-30",
          "2011-12-30",
          "2012-01-31",
          "2012-02-29",
          "2012-03-30",
          "2012-04-30",
          "2012-05-31",
          "2012-06-29",
          "2012-07-31",
          "2012-08-31",
          "2012-09-28",
          "2012-10-31",
          "2012-11-30",
          "2012-12-31",
          "2013-01-31",
          "2013-02-28",
          "2013-03-29",
          "2013-04-30",
          "2013-05-31",
          "2013-06-28",
          "2013-07-31",
          "2013-08-30",
          "2013-09-30",
          "2013-10-31",
          "2013-11-29",
          "2013-12-31",
          "2014-01-31",
          "2014-02-28",
          "2014-03-31",
          "2014-04-30",
          "2014-05-30",
          "2014-06-30",
          "2014-07-31",
          "2014-08-29",
          "2014-09-30",
          "2014-10-31",
          "2014-11-28",
          "2014-12-31",
          "2015-01-30",
          "2015-02-27",
          "2015-03-31",
          "2015-04-30",
          "2015-05-29",
          "2015-06-30",
          "2015-07-31",
          "2015-08-31",
          "2015-09-30",
          "2015-10-30",
          "2015-11-30",
          "2015-12-31",
          "2016-01-29",
          "2016-02-29",
          "2016-03-31",
          "2016-04-29",
          "2016-05-31",
          "2016-06-30",
          "2016-07-29",
          "2016-08-31",
          "2016-09-30",
          "2016-10-31",
          "2016-11-30",
          "2016-12-30",
          "2017-01-31",
          "2017-02-28",
          "2017-03-31",
          "2017-04-28",
          "2017-05-31",
          "2017-06-30",
          "2017-07-31",
          "2017-08-31",
          "2017-09-29",
          "2017-10-31",
          "2017-11-30",
          "2017-12-29",
          "2018-01-31",
          "2018-02-28",
          "2018-03-30",
          "2018-04-30",
          "2018-05-31",
          "2018-06-29",
          "2018-07-31",
          "2018-08-31",
          "2018-09-28",
          "2018-10-31",
          "2018-11-30",
          "2018-12-31",
          "2019-01-31",
          "2019-02-28",
          "2019-03-29",
          "2019-04-30"
         ],
         "y": [
          6.844917228972237,
          10.196328448156343,
          9.076947794965664,
          15.000158914489209,
          14.990324062892109,
          17.398534623345213,
          27.278870960055585,
          15.173484213558964,
          28.941929825383887,
          45.477588067329876,
          48.18817280719771,
          52.339744424954944,
          62.13733458131046,
          61.33355411660252,
          68.23881219483287,
          68.9442168792566,
          70.73687095805037,
          69.56628340188591,
          70.55536149165619,
          75.41958353710672,
          90.07981783655606,
          92.93250746583834,
          91.95054695557083,
          99.59411129215249,
          106.1561609796953,
          105.29259501822833,
          109.15683283587691,
          107.57412422446308,
          109.75736694898984,
          112.53797975988243,
          116.46955745042276,
          115.32127413620744,
          121.06959133994756,
          117.12547682730592,
          126.87496562717736,
          107.2773157114856,
          107.36843291697285,
          101.63192683785535,
          101.63192683785535,
          99.41065972805733,
          99.34564512011366,
          99.92896753136752,
          101.30411495201727,
          108.6714984501723,
          113.64117124501512,
          119.77509187551638,
          117.91092308870893,
          121.47826137643611,
          126.88316315434389,
          132.55409713207035,
          142.18496391647864,
          144.35668919050102,
          142.76988290069502,
          131.87969805200407,
          133.79386803203215,
          134.66281438213707,
          134.7575630515597,
          139.2772585043842,
          138.68210674633838,
          136.40806896772884,
          143.3772749052282,
          140.70737901096487,
          141.30829549336974,
          136.40399665998592,
          137.28698831557372,
          138.22993009564607,
          149.86610877853727,
          154.9037925929925,
          157.6926876264223,
          156.38491762850987,
          161.34205884282014,
          160.43820174432588,
          161.76334012245903,
          157.48587078154927,
          162.1636186632885,
          172.8156211557719,
          170.92613564042847,
          162.79184823471903,
          151.3796945128769,
          152.00485553150133,
          152.00485553150133,
          143.002465292059,
          142.94098832773858,
          141.70796673761103,
          148.66444873299898,
          145.45275556674656,
          152.56526120474405,
          155.09579829235233,
          160.95585639226655,
          171.89626026837604,
          164.53681068203184,
          140.70526443307455,
          140.70526443307455,
          147.40352146983753,
          140.41255736259856,
          158.35531081808574,
          178.9330078695744,
          179.67841460479048,
          187.1943257045653,
          187.77513284370477,
          186.21429076485651,
          199.6042632726373,
          210.92306847695653,
          226.07047448900522,
          222.28851434732402,
          232.67591040317532,
          246.19681285791836,
          262.94104501115174,
          264.6542304896219,
          276.31299904627883,
          276.7390057977756,
          244.90029214833513,
          250.56283508094037,
          257.80007923025306,
          258.84981834675546,
          264.9304827283898,
          266.3876192155534,
          275.90306928941675,
          286.8590401218773,
          295.62094929638516,
          305.54847330979777,
          306.70533981000807,
          312.24955978534643,
          310.01214349944644,
          317.5610540384949,
          318.57273962248877,
          298.6348181220449,
          301.1483997361453,
          302.2450673273391,
          303.91607625677284,
          326.46045283403555,
          348.15867151164764,
          354.30130229257105,
          356.1659945083758,
          363.70345678274197,
          367.57268992428516,
          375.92032061160324,
          374.1396010761566,
          388.51674546485725,
          396.0137445163877,
          401.3614243785582,
          409.5634107420376,
          413.84991388513083,
          408.471004324149,
          407.5072862115167,
          413.14984899859166,
          401.4753794801426,
          401.4753794801426,
          404.06417318499376,
          404.0162658708778,
          405.6659658863203,
          418.2119032209659,
          430.89250240986587,
          432.4195180435087,
          443.0424969109842,
          444.56628864985134,
          458.84231534726945,
          467.9131173331868,
          483.6032454125213,
          493.2819321069602,
          498.96949032015726,
          504.49076905595155,
          511.3988369731249,
          497.16217090071507,
          486.24283556125994,
          481.7188125321233,
          482.0694315260466,
          476.5134465030592,
          476.5134465030592,
          462.1177864909462,
          466.8574744726032,
          469.69812995382404,
          469.61272838362726,
          474.62772204601237,
          466.7035392526265,
          478.4361296377598,
          485.5179451791261,
          488.50368000749495,
          494.71616479049516,
          492.0702056191028,
          481.9117469081695,
          489.3547794914733,
          494.6707067662736,
          498.3874984764529,
          493.10370502320836,
          496.56453002905454,
          498.4926764904498,
          510.33142726820154,
          513.151699608519,
          513.0906426048482,
          526.8859256402786,
          522.3571267810131,
          530.3364928577348,
          532.823720258911,
          534.8316225937344,
          533.2614952912348,
          533.8442061761907,
          534.640183123682,
          540.7290832246277,
          537.2119951037685,
          543.567000007255,
          545.8683654070716,
          549.4280345132344,
          544.6553532659375,
          537.5144014774575,
          538.4436397393445,
          540.0716670305873,
          541.1094242583471,
          542.9797420143166,
          543.7792150221875,
          545.3051521107744,
          545.2364056111487,
          546.3272094397616,
          542.5964990884329,
          542.9977000079368,
          548.2019062936904,
          552.4772939946856,
          552.6927318416659,
          558.0557794203678,
          562.6705459726638
         ]
        },
        {
         "line": {
          "color": "rgba(55, 128, 191, 1.0)",
          "dash": "solid",
          "shape": "linear",
          "width": 1.3
         },
         "mode": "lines",
         "name": "1",
         "text": "",
         "type": "scatter",
         "x": [
          "2001-01-31",
          "2001-02-28",
          "2001-03-30",
          "2001-04-30",
          "2001-05-31",
          "2001-06-29",
          "2001-07-31",
          "2001-08-31",
          "2001-09-28",
          "2001-10-31",
          "2001-11-30",
          "2001-12-31",
          "2002-01-31",
          "2002-02-28",
          "2002-03-29",
          "2002-04-30",
          "2002-05-31",
          "2002-06-28",
          "2002-07-31",
          "2002-08-30",
          "2002-09-30",
          "2002-10-31",
          "2002-11-29",
          "2002-12-31",
          "2003-01-31",
          "2003-02-28",
          "2003-03-31",
          "2003-04-30",
          "2003-05-30",
          "2003-06-30",
          "2003-07-31",
          "2003-08-29",
          "2003-09-30",
          "2003-10-31",
          "2003-11-28",
          "2003-12-31",
          "2004-01-30",
          "2004-02-27",
          "2004-03-31",
          "2004-04-30",
          "2004-05-31",
          "2004-06-30",
          "2004-07-30",
          "2004-08-31",
          "2004-09-30",
          "2004-10-29",
          "2004-11-30",
          "2004-12-31",
          "2005-01-31",
          "2005-02-28",
          "2005-03-31",
          "2005-04-29",
          "2005-05-31",
          "2005-06-30",
          "2005-07-29",
          "2005-08-31",
          "2005-09-30",
          "2005-10-31",
          "2005-11-30",
          "2005-12-30",
          "2006-01-31",
          "2006-02-28",
          "2006-03-31",
          "2006-04-28",
          "2006-05-31",
          "2006-06-30",
          "2006-07-31",
          "2006-08-31",
          "2006-09-29",
          "2006-10-31",
          "2006-11-30",
          "2006-12-29",
          "2007-01-31",
          "2007-02-28",
          "2007-03-30",
          "2007-04-30",
          "2007-05-31",
          "2007-06-29",
          "2007-07-31",
          "2007-08-31",
          "2007-09-28",
          "2007-10-31",
          "2007-11-30",
          "2007-12-31",
          "2008-01-31",
          "2008-02-29",
          "2008-03-31",
          "2008-04-30",
          "2008-05-30",
          "2008-06-30",
          "2008-07-31",
          "2008-08-29",
          "2008-09-30",
          "2008-10-31",
          "2008-11-28",
          "2008-12-31",
          "2009-01-30",
          "2009-02-27",
          "2009-03-31",
          "2009-04-30",
          "2009-05-29",
          "2009-06-30",
          "2009-07-31",
          "2009-08-31",
          "2009-09-30",
          "2009-10-30",
          "2009-11-30",
          "2009-12-31",
          "2010-01-29",
          "2010-02-26",
          "2010-03-31",
          "2010-04-30",
          "2010-05-31",
          "2010-06-30",
          "2010-07-30",
          "2010-08-31",
          "2010-09-30",
          "2010-10-29",
          "2010-11-30",
          "2010-12-31",
          "2011-01-31",
          "2011-02-28",
          "2011-03-31",
          "2011-04-29",
          "2011-05-31",
          "2011-06-30",
          "2011-07-29",
          "2011-08-31",
          "2011-09-30",
          "2011-10-31",
          "2011-11-30",
          "2011-12-30",
          "2012-01-31",
          "2012-02-29",
          "2012-03-30",
          "2012-04-30",
          "2012-05-31",
          "2012-06-29",
          "2012-07-31",
          "2012-08-31",
          "2012-09-28",
          "2012-10-31",
          "2012-11-30",
          "2012-12-31",
          "2013-01-31",
          "2013-02-28",
          "2013-03-29",
          "2013-04-30",
          "2013-05-31",
          "2013-06-28",
          "2013-07-31",
          "2013-08-30",
          "2013-09-30",
          "2013-10-31",
          "2013-11-29",
          "2013-12-31",
          "2014-01-31",
          "2014-02-28",
          "2014-03-31",
          "2014-04-30",
          "2014-05-30",
          "2014-06-30",
          "2014-07-31",
          "2014-08-29",
          "2014-09-30",
          "2014-10-31",
          "2014-11-28",
          "2014-12-31",
          "2015-01-30",
          "2015-02-27",
          "2015-03-31",
          "2015-04-30",
          "2015-05-29",
          "2015-06-30",
          "2015-07-31",
          "2015-08-31",
          "2015-09-30",
          "2015-10-30",
          "2015-11-30",
          "2015-12-31",
          "2016-01-29",
          "2016-02-29",
          "2016-03-31",
          "2016-04-29",
          "2016-05-31",
          "2016-06-30",
          "2016-07-29",
          "2016-08-31",
          "2016-09-30",
          "2016-10-31",
          "2016-11-30",
          "2016-12-30",
          "2017-01-31",
          "2017-02-28",
          "2017-03-31",
          "2017-04-28",
          "2017-05-31",
          "2017-06-30",
          "2017-07-31",
          "2017-08-31",
          "2017-09-29",
          "2017-10-31",
          "2017-11-30",
          "2017-12-29",
          "2018-01-31",
          "2018-02-28",
          "2018-03-30",
          "2018-04-30",
          "2018-05-31",
          "2018-06-29",
          "2018-07-31",
          "2018-08-31",
          "2018-09-28",
          "2018-10-31",
          "2018-11-30",
          "2018-12-31",
          "2019-01-31",
          "2019-02-28",
          "2019-03-29",
          "2019-04-30"
         ],
         "y": [
          10.448574865474965,
          12.380704324629313,
          9.867732268839266,
          26.36312134818033,
          27.321499479384208,
          36.010898437371,
          46.917781539018996,
          32.57523894940883,
          50.171139293345554,
          66.70679753529154,
          70.48544162333124,
          73.88659796726432,
          88.68065219485516,
          90.51436879291583,
          102.14167143090177,
          99.18171512203533,
          98.21083437986678,
          93.06577693058908,
          92.16882988210243,
          101.06457559312116,
          115.7398538782919,
          118.9509195795072,
          123.55149229329376,
          131.1950566298754,
          137.30791199323912,
          128.75198175324394,
          133.83935048763257,
          123.15056959355188,
          122.01224711443395,
          113.56334495015027,
          119.13304514478665,
          114.1000326201133,
          137.1338718494529,
          120.08987109034749,
          139.5147200885349,
          119.32683523622899,
          111.59957355955447,
          93.82688539099831,
          81.63855039870509,
          72.18500301207607,
          66.04504479207814,
          71.23539998995969,
          74.44437692016692,
          89.64131265004414,
          94.92518365181556,
          107.86736409867237,
          105.16559484939322,
          109.58236001890889,
          115.91866324746402,
          121.5895972251905,
          133.8436738607995,
          136.01539913482188,
          133.58100611032856,
          116.91234632628064,
          120.74652047639559,
          118.42005630658645,
          118.7609096818329,
          123.1939581627906,
          119.193999678872,
          114.55629248154466,
          124.69960075615974,
          117.12755121889087,
          111.98848180860374,
          99.7292441619495,
          99.87603880720542,
          103.14618442887195,
          117.2449988137586,
          122.28268262821383,
          125.21794071509657,
          122.61763027656193,
          129.4293531177089,
          130.11653893703937,
          127.35713753784445,
          118.34326368127459,
          125.2822903549727,
          140.02368264498298,
          136.55295569217273,
          120.09764130658982,
          92.91345457057882,
          103.12082410187605,
          100.7345512156421,
          67.60559161185745,
          73.08384852558542,
          71.70323411269894,
          76.92487838503746,
          62.30572714074849,
          80.34173556522214,
          87.7518850168999,
          89.98917349431801,
          103.41474393474822,
          93.93845714845753,
          48.40247517784735,
          -54.92518325924925,
          -23.419860011018102,
          -14.914849946500212,
          14.13848742453925,
          42.73754094161125,
          44.418652363956454,
          60.00430491812984,
          63.642740881799355,
          56.741576941731395,
          77.02632589883683,
          88.60779868133093,
          110.73443521400863,
          106.95247507232745,
          118.08240889084414,
          140.2190573415259,
          159.64281761903501,
          161.35600309750515,
          174.88105318275674,
          183.4663071505814,
          136.34315445778387,
          144.99057518740102,
          156.50238192154748,
          160.36739630544236,
          171.74742137881242,
          177.4204954075913,
          191.47593444686797,
          207.75660734618293,
          215.89022143798664,
          228.02990200499718,
          228.4441901077435,
          235.85893607134832,
          233.6215197854483,
          241.17043032449672,
          242.05724331772953,
          201.42217623378997,
          180.12416609631725,
          180.32894069093965,
          171.94017712046227,
          196.41978928095355,
          221.0557219413186,
          239.12309652133794,
          240.85085590901082,
          252.4502626596392,
          258.0025008875107,
          268.3156788835625,
          267.5819050029489,
          286.80619425549236,
          294.3031933070228,
          302.5674928436841,
          313.1962974780891,
          318.86379847046953,
          313.4848889094877,
          310.82662474878833,
          318.29092718166737,
          305.95958046205027,
          294.1595799505696,
          285.6417578586857,
          290.0663698085073,
          297.9543386168187,
          311.2514555774025,
          324.70423985485365,
          329.53877825735725,
          340.90660352587463,
          344.25832164100774,
          358.53434833842584,
          368.6235834644284,
          384.3137115437629,
          393.9923982382018,
          399.9516825309142,
          405.5244544038043,
          412.4325223209777,
          396.45253557331466,
          379.87036692879144,
          370.4112207196958,
          372.296770807504,
          312.0097030666394,
          338.1416225301087,
          309.7327526907576,
          322.12918317059535,
          324.41830792190746,
          325.52165478543094,
          337.82969109044257,
          319.4484334217282,
          330.7595616625912,
          337.67347133441615,
          346.14533093313867,
          353.02199671981583,
          348.3854975665032,
          331.45063130921403,
          339.9620633448014,
          340.8807008444483,
          348.4431153392787,
          320.4304326495678,
          321.3892586974586,
          318.7593826393528,
          330.5981334171045,
          336.4303375163363,
          335.707576386175,
          350.55930270643984,
          348.88014226056464,
          364.693400583099,
          366.6766156481616,
          372.58197700309154,
          370.3173813725524,
          371.79346533454515,
          369.3706684675764,
          375.4088268631396,
          372.6182511588396,
          379.06583594879663,
          384.39720071035765,
          386.4417591764344,
          383.17167940966493,
          376.03072762118484,
          378.93693699398864,
          385.2331909855688,
          386.7668576403199,
          388.66973756358686,
          388.84309662485407,
          385.08214743179866,
          386.17980970161426,
          389.358594801621,
          385.5022025851861,
          392.6790900323581,
          400.72181710262674,
          406.1706850146753,
          407.18952987394175,
          420.32737807138403,
          428.0241742502919
         ]
        }
       ],
       "layout": {
        "height": 600,
        "legend": {
         "bgcolor": "#F5F6F9",
         "font": {
          "color": "#4D5663"
         }
        },
        "paper_bgcolor": "#F5F6F9",
        "plot_bgcolor": "#F5F6F9",
        "template": {
         "data": {
          "bar": [
           {
            "error_x": {
             "color": "#2a3f5f"
            },
            "error_y": {
             "color": "#2a3f5f"
            },
            "marker": {
             "line": {
              "color": "#E5ECF6",
              "width": 0.5
             },
             "pattern": {
              "fillmode": "overlay",
              "size": 10,
              "solidity": 0.2
             }
            },
            "type": "bar"
           }
          ],
          "barpolar": [
           {
            "marker": {
             "line": {
              "color": "#E5ECF6",
              "width": 0.5
             },
             "pattern": {
              "fillmode": "overlay",
              "size": 10,
              "solidity": 0.2
             }
            },
            "type": "barpolar"
           }
          ],
          "carpet": [
           {
            "aaxis": {
             "endlinecolor": "#2a3f5f",
             "gridcolor": "white",
             "linecolor": "white",
             "minorgridcolor": "white",
             "startlinecolor": "#2a3f5f"
            },
            "baxis": {
             "endlinecolor": "#2a3f5f",
             "gridcolor": "white",
             "linecolor": "white",
             "minorgridcolor": "white",
             "startlinecolor": "#2a3f5f"
            },
            "type": "carpet"
           }
          ],
          "choropleth": [
           {
            "colorbar": {
             "outlinewidth": 0,
             "ticks": ""
            },
            "type": "choropleth"
           }
          ],
          "contour": [
           {
            "colorbar": {
             "outlinewidth": 0,
             "ticks": ""
            },
            "colorscale": [
             [
              0,
              "#0d0887"
             ],
             [
              0.1111111111111111,
              "#46039f"
             ],
             [
              0.2222222222222222,
              "#7201a8"
             ],
             [
              0.3333333333333333,
              "#9c179e"
             ],
             [
              0.4444444444444444,
              "#bd3786"
             ],
             [
              0.5555555555555556,
              "#d8576b"
             ],
             [
              0.6666666666666666,
              "#ed7953"
             ],
             [
              0.7777777777777778,
              "#fb9f3a"
             ],
             [
              0.8888888888888888,
              "#fdca26"
             ],
             [
              1,
              "#f0f921"
             ]
            ],
            "type": "contour"
           }
          ],
          "contourcarpet": [
           {
            "colorbar": {
             "outlinewidth": 0,
             "ticks": ""
            },
            "type": "contourcarpet"
           }
          ],
          "heatmap": [
           {
            "colorbar": {
             "outlinewidth": 0,
             "ticks": ""
            },
            "colorscale": [
             [
              0,
              "#0d0887"
             ],
             [
              0.1111111111111111,
              "#46039f"
             ],
             [
              0.2222222222222222,
              "#7201a8"
             ],
             [
              0.3333333333333333,
              "#9c179e"
             ],
             [
              0.4444444444444444,
              "#bd3786"
             ],
             [
              0.5555555555555556,
              "#d8576b"
             ],
             [
              0.6666666666666666,
              "#ed7953"
             ],
             [
              0.7777777777777778,
              "#fb9f3a"
             ],
             [
              0.8888888888888888,
              "#fdca26"
             ],
             [
              1,
              "#f0f921"
             ]
            ],
            "type": "heatmap"
           }
          ],
          "heatmapgl": [
           {
            "colorbar": {
             "outlinewidth": 0,
             "ticks": ""
            },
            "colorscale": [
             [
              0,
              "#0d0887"
             ],
             [
              0.1111111111111111,
              "#46039f"
             ],
             [
              0.2222222222222222,
              "#7201a8"
             ],
             [
              0.3333333333333333,
              "#9c179e"
             ],
             [
              0.4444444444444444,
              "#bd3786"
             ],
             [
              0.5555555555555556,
              "#d8576b"
             ],
             [
              0.6666666666666666,
              "#ed7953"
             ],
             [
              0.7777777777777778,
              "#fb9f3a"
             ],
             [
              0.8888888888888888,
              "#fdca26"
             ],
             [
              1,
              "#f0f921"
             ]
            ],
            "type": "heatmapgl"
           }
          ],
          "histogram": [
           {
            "marker": {
             "pattern": {
              "fillmode": "overlay",
              "size": 10,
              "solidity": 0.2
             }
            },
            "type": "histogram"
           }
          ],
          "histogram2d": [
           {
            "colorbar": {
             "outlinewidth": 0,
             "ticks": ""
            },
            "colorscale": [
             [
              0,
              "#0d0887"
             ],
             [
              0.1111111111111111,
              "#46039f"
             ],
             [
              0.2222222222222222,
              "#7201a8"
             ],
             [
              0.3333333333333333,
              "#9c179e"
             ],
             [
              0.4444444444444444,
              "#bd3786"
             ],
             [
              0.5555555555555556,
              "#d8576b"
             ],
             [
              0.6666666666666666,
              "#ed7953"
             ],
             [
              0.7777777777777778,
              "#fb9f3a"
             ],
             [
              0.8888888888888888,
              "#fdca26"
             ],
             [
              1,
              "#f0f921"
             ]
            ],
            "type": "histogram2d"
           }
          ],
          "histogram2dcontour": [
           {
            "colorbar": {
             "outlinewidth": 0,
             "ticks": ""
            },
            "colorscale": [
             [
              0,
              "#0d0887"
             ],
             [
              0.1111111111111111,
              "#46039f"
             ],
             [
              0.2222222222222222,
              "#7201a8"
             ],
             [
              0.3333333333333333,
              "#9c179e"
             ],
             [
              0.4444444444444444,
              "#bd3786"
             ],
             [
              0.5555555555555556,
              "#d8576b"
             ],
             [
              0.6666666666666666,
              "#ed7953"
             ],
             [
              0.7777777777777778,
              "#fb9f3a"
             ],
             [
              0.8888888888888888,
              "#fdca26"
             ],
             [
              1,
              "#f0f921"
             ]
            ],
            "type": "histogram2dcontour"
           }
          ],
          "mesh3d": [
           {
            "colorbar": {
             "outlinewidth": 0,
             "ticks": ""
            },
            "type": "mesh3d"
           }
          ],
          "parcoords": [
           {
            "line": {
             "colorbar": {
              "outlinewidth": 0,
              "ticks": ""
             }
            },
            "type": "parcoords"
           }
          ],
          "pie": [
           {
            "automargin": true,
            "type": "pie"
           }
          ],
          "scatter": [
           {
            "fillpattern": {
             "fillmode": "overlay",
             "size": 10,
             "solidity": 0.2
            },
            "type": "scatter"
           }
          ],
          "scatter3d": [
           {
            "line": {
             "colorbar": {
              "outlinewidth": 0,
              "ticks": ""
             }
            },
            "marker": {
             "colorbar": {
              "outlinewidth": 0,
              "ticks": ""
             }
            },
            "type": "scatter3d"
           }
          ],
          "scattercarpet": [
           {
            "marker": {
             "colorbar": {
              "outlinewidth": 0,
              "ticks": ""
             }
            },
            "type": "scattercarpet"
           }
          ],
          "scattergeo": [
           {
            "marker": {
             "colorbar": {
              "outlinewidth": 0,
              "ticks": ""
             }
            },
            "type": "scattergeo"
           }
          ],
          "scattergl": [
           {
            "marker": {
             "colorbar": {
              "outlinewidth": 0,
              "ticks": ""
             }
            },
            "type": "scattergl"
           }
          ],
          "scattermapbox": [
           {
            "marker": {
             "colorbar": {
              "outlinewidth": 0,
              "ticks": ""
             }
            },
            "type": "scattermapbox"
           }
          ],
          "scatterpolar": [
           {
            "marker": {
             "colorbar": {
              "outlinewidth": 0,
              "ticks": ""
             }
            },
            "type": "scatterpolar"
           }
          ],
          "scatterpolargl": [
           {
            "marker": {
             "colorbar": {
              "outlinewidth": 0,
              "ticks": ""
             }
            },
            "type": "scatterpolargl"
           }
          ],
          "scatterternary": [
           {
            "marker": {
             "colorbar": {
              "outlinewidth": 0,
              "ticks": ""
             }
            },
            "type": "scatterternary"
           }
          ],
          "surface": [
           {
            "colorbar": {
             "outlinewidth": 0,
             "ticks": ""
            },
            "colorscale": [
             [
              0,
              "#0d0887"
             ],
             [
              0.1111111111111111,
              "#46039f"
             ],
             [
              0.2222222222222222,
              "#7201a8"
             ],
             [
              0.3333333333333333,
              "#9c179e"
             ],
             [
              0.4444444444444444,
              "#bd3786"
             ],
             [
              0.5555555555555556,
              "#d8576b"
             ],
             [
              0.6666666666666666,
              "#ed7953"
             ],
             [
              0.7777777777777778,
              "#fb9f3a"
             ],
             [
              0.8888888888888888,
              "#fdca26"
             ],
             [
              1,
              "#f0f921"
             ]
            ],
            "type": "surface"
           }
          ],
          "table": [
           {
            "cells": {
             "fill": {
              "color": "#EBF0F8"
             },
             "line": {
              "color": "white"
             }
            },
            "header": {
             "fill": {
              "color": "#C8D4E3"
             },
             "line": {
              "color": "white"
             }
            },
            "type": "table"
           }
          ]
         },
         "layout": {
          "annotationdefaults": {
           "arrowcolor": "#2a3f5f",
           "arrowhead": 0,
           "arrowwidth": 1
          },
          "autotypenumbers": "strict",
          "coloraxis": {
           "colorbar": {
            "outlinewidth": 0,
            "ticks": ""
           }
          },
          "colorscale": {
           "diverging": [
            [
             0,
             "#8e0152"
            ],
            [
             0.1,
             "#c51b7d"
            ],
            [
             0.2,
             "#de77ae"
            ],
            [
             0.3,
             "#f1b6da"
            ],
            [
             0.4,
             "#fde0ef"
            ],
            [
             0.5,
             "#f7f7f7"
            ],
            [
             0.6,
             "#e6f5d0"
            ],
            [
             0.7,
             "#b8e186"
            ],
            [
             0.8,
             "#7fbc41"
            ],
            [
             0.9,
             "#4d9221"
            ],
            [
             1,
             "#276419"
            ]
           ],
           "sequential": [
            [
             0,
             "#0d0887"
            ],
            [
             0.1111111111111111,
             "#46039f"
            ],
            [
             0.2222222222222222,
             "#7201a8"
            ],
            [
             0.3333333333333333,
             "#9c179e"
            ],
            [
             0.4444444444444444,
             "#bd3786"
            ],
            [
             0.5555555555555556,
             "#d8576b"
            ],
            [
             0.6666666666666666,
             "#ed7953"
            ],
            [
             0.7777777777777778,
             "#fb9f3a"
            ],
            [
             0.8888888888888888,
             "#fdca26"
            ],
            [
             1,
             "#f0f921"
            ]
           ],
           "sequentialminus": [
            [
             0,
             "#0d0887"
            ],
            [
             0.1111111111111111,
             "#46039f"
            ],
            [
             0.2222222222222222,
             "#7201a8"
            ],
            [
             0.3333333333333333,
             "#9c179e"
            ],
            [
             0.4444444444444444,
             "#bd3786"
            ],
            [
             0.5555555555555556,
             "#d8576b"
            ],
            [
             0.6666666666666666,
             "#ed7953"
            ],
            [
             0.7777777777777778,
             "#fb9f3a"
            ],
            [
             0.8888888888888888,
             "#fdca26"
            ],
            [
             1,
             "#f0f921"
            ]
           ]
          },
          "colorway": [
           "#636efa",
           "#EF553B",
           "#00cc96",
           "#ab63fa",
           "#FFA15A",
           "#19d3f3",
           "#FF6692",
           "#B6E880",
           "#FF97FF",
           "#FECB52"
          ],
          "font": {
           "color": "#2a3f5f"
          },
          "geo": {
           "bgcolor": "white",
           "lakecolor": "white",
           "landcolor": "#E5ECF6",
           "showlakes": true,
           "showland": true,
           "subunitcolor": "white"
          },
          "hoverlabel": {
           "align": "left"
          },
          "hovermode": "closest",
          "mapbox": {
           "style": "light"
          },
          "paper_bgcolor": "white",
          "plot_bgcolor": "#E5ECF6",
          "polar": {
           "angularaxis": {
            "gridcolor": "white",
            "linecolor": "white",
            "ticks": ""
           },
           "bgcolor": "#E5ECF6",
           "radialaxis": {
            "gridcolor": "white",
            "linecolor": "white",
            "ticks": ""
           }
          },
          "scene": {
           "xaxis": {
            "backgroundcolor": "#E5ECF6",
            "gridcolor": "white",
            "gridwidth": 2,
            "linecolor": "white",
            "showbackground": true,
            "ticks": "",
            "zerolinecolor": "white"
           },
           "yaxis": {
            "backgroundcolor": "#E5ECF6",
            "gridcolor": "white",
            "gridwidth": 2,
            "linecolor": "white",
            "showbackground": true,
            "ticks": "",
            "zerolinecolor": "white"
           },
           "zaxis": {
            "backgroundcolor": "#E5ECF6",
            "gridcolor": "white",
            "gridwidth": 2,
            "linecolor": "white",
            "showbackground": true,
            "ticks": "",
            "zerolinecolor": "white"
           }
          },
          "shapedefaults": {
           "line": {
            "color": "#2a3f5f"
           }
          },
          "ternary": {
           "aaxis": {
            "gridcolor": "white",
            "linecolor": "white",
            "ticks": ""
           },
           "baxis": {
            "gridcolor": "white",
            "linecolor": "white",
            "ticks": ""
           },
           "bgcolor": "#E5ECF6",
           "caxis": {
            "gridcolor": "white",
            "linecolor": "white",
            "ticks": ""
           }
          },
          "title": {
           "x": 0.05
          },
          "xaxis": {
           "automargin": true,
           "gridcolor": "white",
           "linecolor": "white",
           "ticks": "",
           "title": {
            "standoff": 15
           },
           "zerolinecolor": "white",
           "zerolinewidth": 2
          },
          "yaxis": {
           "automargin": true,
           "gridcolor": "white",
           "linecolor": "white",
           "ticks": "",
           "title": {
            "standoff": 15
           },
           "zerolinecolor": "white",
           "zerolinewidth": 2
          }
         }
        },
        "title": {
         "font": {
          "color": "#4D5663"
         }
        },
        "width": 1000,
        "xaxis": {
         "gridcolor": "#E1E5ED",
         "showgrid": true,
         "tickfont": {
          "color": "#4D5663"
         },
         "title": {
          "font": {
           "color": "#4D5663"
          },
          "text": ""
         },
         "zerolinecolor": "#E1E5ED"
        },
        "yaxis": {
         "gridcolor": "#E1E5ED",
         "showgrid": true,
         "tickfont": {
          "color": "#4D5663"
         },
         "title": {
          "font": {
           "color": "#4D5663"
          },
          "text": ""
         },
         "zerolinecolor": "#E1E5ED"
        }
       }
      },
      "text/html": [
       "<div>                            <div id=\"5bcb34f3-c97f-44a4-8cc4-2e496af471ab\" class=\"plotly-graph-div\" style=\"height:600px; width:1000px;\"></div>            <script type=\"text/javascript\">                require([\"plotly\"], function(Plotly) {                    window.PLOTLYENV=window.PLOTLYENV || {};\n",
       "                    window.PLOTLYENV.BASE_URL='https://plot.ly';                                    if (document.getElementById(\"5bcb34f3-c97f-44a4-8cc4-2e496af471ab\")) {                    Plotly.newPlot(                        \"5bcb34f3-c97f-44a4-8cc4-2e496af471ab\",                        [{\"line\":{\"color\":\"rgba(255, 153, 51, 1.0)\",\"dash\":\"solid\",\"shape\":\"linear\",\"width\":1.3},\"mode\":\"lines\",\"name\":\"0\",\"text\":\"\",\"x\":[\"2001-01-31\",\"2001-02-28\",\"2001-03-30\",\"2001-04-30\",\"2001-05-31\",\"2001-06-29\",\"2001-07-31\",\"2001-08-31\",\"2001-09-28\",\"2001-10-31\",\"2001-11-30\",\"2001-12-31\",\"2002-01-31\",\"2002-02-28\",\"2002-03-29\",\"2002-04-30\",\"2002-05-31\",\"2002-06-28\",\"2002-07-31\",\"2002-08-30\",\"2002-09-30\",\"2002-10-31\",\"2002-11-29\",\"2002-12-31\",\"2003-01-31\",\"2003-02-28\",\"2003-03-31\",\"2003-04-30\",\"2003-05-30\",\"2003-06-30\",\"2003-07-31\",\"2003-08-29\",\"2003-09-30\",\"2003-10-31\",\"2003-11-28\",\"2003-12-31\",\"2004-01-30\",\"2004-02-27\",\"2004-03-31\",\"2004-04-30\",\"2004-05-31\",\"2004-06-30\",\"2004-07-30\",\"2004-08-31\",\"2004-09-30\",\"2004-10-29\",\"2004-11-30\",\"2004-12-31\",\"2005-01-31\",\"2005-02-28\",\"2005-03-31\",\"2005-04-29\",\"2005-05-31\",\"2005-06-30\",\"2005-07-29\",\"2005-08-31\",\"2005-09-30\",\"2005-10-31\",\"2005-11-30\",\"2005-12-30\",\"2006-01-31\",\"2006-02-28\",\"2006-03-31\",\"2006-04-28\",\"2006-05-31\",\"2006-06-30\",\"2006-07-31\",\"2006-08-31\",\"2006-09-29\",\"2006-10-31\",\"2006-11-30\",\"2006-12-29\",\"2007-01-31\",\"2007-02-28\",\"2007-03-30\",\"2007-04-30\",\"2007-05-31\",\"2007-06-29\",\"2007-07-31\",\"2007-08-31\",\"2007-09-28\",\"2007-10-31\",\"2007-11-30\",\"2007-12-31\",\"2008-01-31\",\"2008-02-29\",\"2008-03-31\",\"2008-04-30\",\"2008-05-30\",\"2008-06-30\",\"2008-07-31\",\"2008-08-29\",\"2008-09-30\",\"2008-10-31\",\"2008-11-28\",\"2008-12-31\",\"2009-01-30\",\"2009-02-27\",\"2009-03-31\",\"2009-04-30\",\"2009-05-29\",\"2009-06-30\",\"2009-07-31\",\"2009-08-31\",\"2009-09-30\",\"2009-10-30\",\"2009-11-30\",\"2009-12-31\",\"2010-01-29\",\"2010-02-26\",\"2010-03-31\",\"2010-04-30\",\"2010-05-31\",\"2010-06-30\",\"2010-07-30\",\"2010-08-31\",\"2010-09-30\",\"2010-10-29\",\"2010-11-30\",\"2010-12-31\",\"2011-01-31\",\"2011-02-28\",\"2011-03-31\",\"2011-04-29\",\"2011-05-31\",\"2011-06-30\",\"2011-07-29\",\"2011-08-31\",\"2011-09-30\",\"2011-10-31\",\"2011-11-30\",\"2011-12-30\",\"2012-01-31\",\"2012-02-29\",\"2012-03-30\",\"2012-04-30\",\"2012-05-31\",\"2012-06-29\",\"2012-07-31\",\"2012-08-31\",\"2012-09-28\",\"2012-10-31\",\"2012-11-30\",\"2012-12-31\",\"2013-01-31\",\"2013-02-28\",\"2013-03-29\",\"2013-04-30\",\"2013-05-31\",\"2013-06-28\",\"2013-07-31\",\"2013-08-30\",\"2013-09-30\",\"2013-10-31\",\"2013-11-29\",\"2013-12-31\",\"2014-01-31\",\"2014-02-28\",\"2014-03-31\",\"2014-04-30\",\"2014-05-30\",\"2014-06-30\",\"2014-07-31\",\"2014-08-29\",\"2014-09-30\",\"2014-10-31\",\"2014-11-28\",\"2014-12-31\",\"2015-01-30\",\"2015-02-27\",\"2015-03-31\",\"2015-04-30\",\"2015-05-29\",\"2015-06-30\",\"2015-07-31\",\"2015-08-31\",\"2015-09-30\",\"2015-10-30\",\"2015-11-30\",\"2015-12-31\",\"2016-01-29\",\"2016-02-29\",\"2016-03-31\",\"2016-04-29\",\"2016-05-31\",\"2016-06-30\",\"2016-07-29\",\"2016-08-31\",\"2016-09-30\",\"2016-10-31\",\"2016-11-30\",\"2016-12-30\",\"2017-01-31\",\"2017-02-28\",\"2017-03-31\",\"2017-04-28\",\"2017-05-31\",\"2017-06-30\",\"2017-07-31\",\"2017-08-31\",\"2017-09-29\",\"2017-10-31\",\"2017-11-30\",\"2017-12-29\",\"2018-01-31\",\"2018-02-28\",\"2018-03-30\",\"2018-04-30\",\"2018-05-31\",\"2018-06-29\",\"2018-07-31\",\"2018-08-31\",\"2018-09-28\",\"2018-10-31\",\"2018-11-30\",\"2018-12-31\",\"2019-01-31\",\"2019-02-28\",\"2019-03-29\",\"2019-04-30\"],\"y\":[6.844917228972237,10.196328448156343,9.076947794965664,15.000158914489209,14.990324062892109,17.398534623345213,27.278870960055585,15.173484213558964,28.941929825383887,45.477588067329876,48.18817280719771,52.339744424954944,62.13733458131046,61.33355411660252,68.23881219483287,68.9442168792566,70.73687095805037,69.56628340188591,70.55536149165619,75.41958353710672,90.07981783655606,92.93250746583834,91.95054695557083,99.59411129215249,106.1561609796953,105.29259501822833,109.15683283587691,107.57412422446308,109.75736694898984,112.53797975988243,116.46955745042276,115.32127413620744,121.06959133994756,117.12547682730592,126.87496562717736,107.2773157114856,107.36843291697285,101.63192683785535,101.63192683785535,99.41065972805733,99.34564512011366,99.92896753136752,101.30411495201727,108.6714984501723,113.64117124501512,119.77509187551638,117.91092308870893,121.47826137643611,126.88316315434389,132.55409713207035,142.18496391647864,144.35668919050102,142.76988290069502,131.87969805200407,133.79386803203215,134.66281438213707,134.7575630515597,139.2772585043842,138.68210674633838,136.40806896772884,143.3772749052282,140.70737901096487,141.30829549336974,136.40399665998592,137.28698831557372,138.22993009564607,149.86610877853727,154.9037925929925,157.6926876264223,156.38491762850987,161.34205884282014,160.43820174432588,161.76334012245903,157.48587078154927,162.1636186632885,172.8156211557719,170.92613564042847,162.79184823471903,151.3796945128769,152.00485553150133,152.00485553150133,143.002465292059,142.94098832773858,141.70796673761103,148.66444873299898,145.45275556674656,152.56526120474405,155.09579829235233,160.95585639226655,171.89626026837604,164.53681068203184,140.70526443307455,140.70526443307455,147.40352146983753,140.41255736259856,158.35531081808574,178.9330078695744,179.67841460479048,187.1943257045653,187.77513284370477,186.21429076485651,199.6042632726373,210.92306847695653,226.07047448900522,222.28851434732402,232.67591040317532,246.19681285791836,262.94104501115174,264.6542304896219,276.31299904627883,276.7390057977756,244.90029214833513,250.56283508094037,257.80007923025306,258.84981834675546,264.9304827283898,266.3876192155534,275.90306928941675,286.8590401218773,295.62094929638516,305.54847330979777,306.70533981000807,312.24955978534643,310.01214349944644,317.5610540384949,318.57273962248877,298.6348181220449,301.1483997361453,302.2450673273391,303.91607625677284,326.46045283403555,348.15867151164764,354.30130229257105,356.1659945083758,363.70345678274197,367.57268992428516,375.92032061160324,374.1396010761566,388.51674546485725,396.0137445163877,401.3614243785582,409.5634107420376,413.84991388513083,408.471004324149,407.5072862115167,413.14984899859166,401.4753794801426,401.4753794801426,404.06417318499376,404.0162658708778,405.6659658863203,418.2119032209659,430.89250240986587,432.4195180435087,443.0424969109842,444.56628864985134,458.84231534726945,467.9131173331868,483.6032454125213,493.2819321069602,498.96949032015726,504.49076905595155,511.3988369731249,497.16217090071507,486.24283556125994,481.7188125321233,482.0694315260466,476.5134465030592,476.5134465030592,462.1177864909462,466.8574744726032,469.69812995382404,469.61272838362726,474.62772204601237,466.7035392526265,478.4361296377598,485.5179451791261,488.50368000749495,494.71616479049516,492.0702056191028,481.9117469081695,489.3547794914733,494.6707067662736,498.3874984764529,493.10370502320836,496.56453002905454,498.4926764904498,510.33142726820154,513.151699608519,513.0906426048482,526.8859256402786,522.3571267810131,530.3364928577348,532.823720258911,534.8316225937344,533.2614952912348,533.8442061761907,534.640183123682,540.7290832246277,537.2119951037685,543.567000007255,545.8683654070716,549.4280345132344,544.6553532659375,537.5144014774575,538.4436397393445,540.0716670305873,541.1094242583471,542.9797420143166,543.7792150221875,545.3051521107744,545.2364056111487,546.3272094397616,542.5964990884329,542.9977000079368,548.2019062936904,552.4772939946856,552.6927318416659,558.0557794203678,562.6705459726638],\"type\":\"scatter\"},{\"line\":{\"color\":\"rgba(55, 128, 191, 1.0)\",\"dash\":\"solid\",\"shape\":\"linear\",\"width\":1.3},\"mode\":\"lines\",\"name\":\"1\",\"text\":\"\",\"x\":[\"2001-01-31\",\"2001-02-28\",\"2001-03-30\",\"2001-04-30\",\"2001-05-31\",\"2001-06-29\",\"2001-07-31\",\"2001-08-31\",\"2001-09-28\",\"2001-10-31\",\"2001-11-30\",\"2001-12-31\",\"2002-01-31\",\"2002-02-28\",\"2002-03-29\",\"2002-04-30\",\"2002-05-31\",\"2002-06-28\",\"2002-07-31\",\"2002-08-30\",\"2002-09-30\",\"2002-10-31\",\"2002-11-29\",\"2002-12-31\",\"2003-01-31\",\"2003-02-28\",\"2003-03-31\",\"2003-04-30\",\"2003-05-30\",\"2003-06-30\",\"2003-07-31\",\"2003-08-29\",\"2003-09-30\",\"2003-10-31\",\"2003-11-28\",\"2003-12-31\",\"2004-01-30\",\"2004-02-27\",\"2004-03-31\",\"2004-04-30\",\"2004-05-31\",\"2004-06-30\",\"2004-07-30\",\"2004-08-31\",\"2004-09-30\",\"2004-10-29\",\"2004-11-30\",\"2004-12-31\",\"2005-01-31\",\"2005-02-28\",\"2005-03-31\",\"2005-04-29\",\"2005-05-31\",\"2005-06-30\",\"2005-07-29\",\"2005-08-31\",\"2005-09-30\",\"2005-10-31\",\"2005-11-30\",\"2005-12-30\",\"2006-01-31\",\"2006-02-28\",\"2006-03-31\",\"2006-04-28\",\"2006-05-31\",\"2006-06-30\",\"2006-07-31\",\"2006-08-31\",\"2006-09-29\",\"2006-10-31\",\"2006-11-30\",\"2006-12-29\",\"2007-01-31\",\"2007-02-28\",\"2007-03-30\",\"2007-04-30\",\"2007-05-31\",\"2007-06-29\",\"2007-07-31\",\"2007-08-31\",\"2007-09-28\",\"2007-10-31\",\"2007-11-30\",\"2007-12-31\",\"2008-01-31\",\"2008-02-29\",\"2008-03-31\",\"2008-04-30\",\"2008-05-30\",\"2008-06-30\",\"2008-07-31\",\"2008-08-29\",\"2008-09-30\",\"2008-10-31\",\"2008-11-28\",\"2008-12-31\",\"2009-01-30\",\"2009-02-27\",\"2009-03-31\",\"2009-04-30\",\"2009-05-29\",\"2009-06-30\",\"2009-07-31\",\"2009-08-31\",\"2009-09-30\",\"2009-10-30\",\"2009-11-30\",\"2009-12-31\",\"2010-01-29\",\"2010-02-26\",\"2010-03-31\",\"2010-04-30\",\"2010-05-31\",\"2010-06-30\",\"2010-07-30\",\"2010-08-31\",\"2010-09-30\",\"2010-10-29\",\"2010-11-30\",\"2010-12-31\",\"2011-01-31\",\"2011-02-28\",\"2011-03-31\",\"2011-04-29\",\"2011-05-31\",\"2011-06-30\",\"2011-07-29\",\"2011-08-31\",\"2011-09-30\",\"2011-10-31\",\"2011-11-30\",\"2011-12-30\",\"2012-01-31\",\"2012-02-29\",\"2012-03-30\",\"2012-04-30\",\"2012-05-31\",\"2012-06-29\",\"2012-07-31\",\"2012-08-31\",\"2012-09-28\",\"2012-10-31\",\"2012-11-30\",\"2012-12-31\",\"2013-01-31\",\"2013-02-28\",\"2013-03-29\",\"2013-04-30\",\"2013-05-31\",\"2013-06-28\",\"2013-07-31\",\"2013-08-30\",\"2013-09-30\",\"2013-10-31\",\"2013-11-29\",\"2013-12-31\",\"2014-01-31\",\"2014-02-28\",\"2014-03-31\",\"2014-04-30\",\"2014-05-30\",\"2014-06-30\",\"2014-07-31\",\"2014-08-29\",\"2014-09-30\",\"2014-10-31\",\"2014-11-28\",\"2014-12-31\",\"2015-01-30\",\"2015-02-27\",\"2015-03-31\",\"2015-04-30\",\"2015-05-29\",\"2015-06-30\",\"2015-07-31\",\"2015-08-31\",\"2015-09-30\",\"2015-10-30\",\"2015-11-30\",\"2015-12-31\",\"2016-01-29\",\"2016-02-29\",\"2016-03-31\",\"2016-04-29\",\"2016-05-31\",\"2016-06-30\",\"2016-07-29\",\"2016-08-31\",\"2016-09-30\",\"2016-10-31\",\"2016-11-30\",\"2016-12-30\",\"2017-01-31\",\"2017-02-28\",\"2017-03-31\",\"2017-04-28\",\"2017-05-31\",\"2017-06-30\",\"2017-07-31\",\"2017-08-31\",\"2017-09-29\",\"2017-10-31\",\"2017-11-30\",\"2017-12-29\",\"2018-01-31\",\"2018-02-28\",\"2018-03-30\",\"2018-04-30\",\"2018-05-31\",\"2018-06-29\",\"2018-07-31\",\"2018-08-31\",\"2018-09-28\",\"2018-10-31\",\"2018-11-30\",\"2018-12-31\",\"2019-01-31\",\"2019-02-28\",\"2019-03-29\",\"2019-04-30\"],\"y\":[10.448574865474965,12.380704324629313,9.867732268839266,26.36312134818033,27.321499479384208,36.010898437371,46.917781539018996,32.57523894940883,50.171139293345554,66.70679753529154,70.48544162333124,73.88659796726432,88.68065219485516,90.51436879291583,102.14167143090177,99.18171512203533,98.21083437986678,93.06577693058908,92.16882988210243,101.06457559312116,115.7398538782919,118.9509195795072,123.55149229329376,131.1950566298754,137.30791199323912,128.75198175324394,133.83935048763257,123.15056959355188,122.01224711443395,113.56334495015027,119.13304514478665,114.1000326201133,137.1338718494529,120.08987109034749,139.5147200885349,119.32683523622899,111.59957355955447,93.82688539099831,81.63855039870509,72.18500301207607,66.04504479207814,71.23539998995969,74.44437692016692,89.64131265004414,94.92518365181556,107.86736409867237,105.16559484939322,109.58236001890889,115.91866324746402,121.5895972251905,133.8436738607995,136.01539913482188,133.58100611032856,116.91234632628064,120.74652047639559,118.42005630658645,118.7609096818329,123.1939581627906,119.193999678872,114.55629248154466,124.69960075615974,117.12755121889087,111.98848180860374,99.7292441619495,99.87603880720542,103.14618442887195,117.2449988137586,122.28268262821383,125.21794071509657,122.61763027656193,129.4293531177089,130.11653893703937,127.35713753784445,118.34326368127459,125.2822903549727,140.02368264498298,136.55295569217273,120.09764130658982,92.91345457057882,103.12082410187605,100.7345512156421,67.60559161185745,73.08384852558542,71.70323411269894,76.92487838503746,62.30572714074849,80.34173556522214,87.7518850168999,89.98917349431801,103.41474393474822,93.93845714845753,48.40247517784735,-54.92518325924925,-23.419860011018102,-14.914849946500212,14.13848742453925,42.73754094161125,44.418652363956454,60.00430491812984,63.642740881799355,56.741576941731395,77.02632589883683,88.60779868133093,110.73443521400863,106.95247507232745,118.08240889084414,140.2190573415259,159.64281761903501,161.35600309750515,174.88105318275674,183.4663071505814,136.34315445778387,144.99057518740102,156.50238192154748,160.36739630544236,171.74742137881242,177.4204954075913,191.47593444686797,207.75660734618293,215.89022143798664,228.02990200499718,228.4441901077435,235.85893607134832,233.6215197854483,241.17043032449672,242.05724331772953,201.42217623378997,180.12416609631725,180.32894069093965,171.94017712046227,196.41978928095355,221.0557219413186,239.12309652133794,240.85085590901082,252.4502626596392,258.0025008875107,268.3156788835625,267.5819050029489,286.80619425549236,294.3031933070228,302.5674928436841,313.1962974780891,318.86379847046953,313.4848889094877,310.82662474878833,318.29092718166737,305.95958046205027,294.1595799505696,285.6417578586857,290.0663698085073,297.9543386168187,311.2514555774025,324.70423985485365,329.53877825735725,340.90660352587463,344.25832164100774,358.53434833842584,368.6235834644284,384.3137115437629,393.9923982382018,399.9516825309142,405.5244544038043,412.4325223209777,396.45253557331466,379.87036692879144,370.4112207196958,372.296770807504,312.0097030666394,338.1416225301087,309.7327526907576,322.12918317059535,324.41830792190746,325.52165478543094,337.82969109044257,319.4484334217282,330.7595616625912,337.67347133441615,346.14533093313867,353.02199671981583,348.3854975665032,331.45063130921403,339.9620633448014,340.8807008444483,348.4431153392787,320.4304326495678,321.3892586974586,318.7593826393528,330.5981334171045,336.4303375163363,335.707576386175,350.55930270643984,348.88014226056464,364.693400583099,366.6766156481616,372.58197700309154,370.3173813725524,371.79346533454515,369.3706684675764,375.4088268631396,372.6182511588396,379.06583594879663,384.39720071035765,386.4417591764344,383.17167940966493,376.03072762118484,378.93693699398864,385.2331909855688,386.7668576403199,388.66973756358686,388.84309662485407,385.08214743179866,386.17980970161426,389.358594801621,385.5022025851861,392.6790900323581,400.72181710262674,406.1706850146753,407.18952987394175,420.32737807138403,428.0241742502919],\"type\":\"scatter\"}],                        {\"height\":600,\"legend\":{\"bgcolor\":\"#F5F6F9\",\"font\":{\"color\":\"#4D5663\"}},\"paper_bgcolor\":\"#F5F6F9\",\"plot_bgcolor\":\"#F5F6F9\",\"template\":{\"data\":{\"barpolar\":[{\"marker\":{\"line\":{\"color\":\"#E5ECF6\",\"width\":0.5},\"pattern\":{\"fillmode\":\"overlay\",\"size\":10,\"solidity\":0.2}},\"type\":\"barpolar\"}],\"bar\":[{\"error_x\":{\"color\":\"#2a3f5f\"},\"error_y\":{\"color\":\"#2a3f5f\"},\"marker\":{\"line\":{\"color\":\"#E5ECF6\",\"width\":0.5},\"pattern\":{\"fillmode\":\"overlay\",\"size\":10,\"solidity\":0.2}},\"type\":\"bar\"}],\"carpet\":[{\"aaxis\":{\"endlinecolor\":\"#2a3f5f\",\"gridcolor\":\"white\",\"linecolor\":\"white\",\"minorgridcolor\":\"white\",\"startlinecolor\":\"#2a3f5f\"},\"baxis\":{\"endlinecolor\":\"#2a3f5f\",\"gridcolor\":\"white\",\"linecolor\":\"white\",\"minorgridcolor\":\"white\",\"startlinecolor\":\"#2a3f5f\"},\"type\":\"carpet\"}],\"choropleth\":[{\"colorbar\":{\"outlinewidth\":0,\"ticks\":\"\"},\"type\":\"choropleth\"}],\"contourcarpet\":[{\"colorbar\":{\"outlinewidth\":0,\"ticks\":\"\"},\"type\":\"contourcarpet\"}],\"contour\":[{\"colorbar\":{\"outlinewidth\":0,\"ticks\":\"\"},\"colorscale\":[[0.0,\"#0d0887\"],[0.1111111111111111,\"#46039f\"],[0.2222222222222222,\"#7201a8\"],[0.3333333333333333,\"#9c179e\"],[0.4444444444444444,\"#bd3786\"],[0.5555555555555556,\"#d8576b\"],[0.6666666666666666,\"#ed7953\"],[0.7777777777777778,\"#fb9f3a\"],[0.8888888888888888,\"#fdca26\"],[1.0,\"#f0f921\"]],\"type\":\"contour\"}],\"heatmapgl\":[{\"colorbar\":{\"outlinewidth\":0,\"ticks\":\"\"},\"colorscale\":[[0.0,\"#0d0887\"],[0.1111111111111111,\"#46039f\"],[0.2222222222222222,\"#7201a8\"],[0.3333333333333333,\"#9c179e\"],[0.4444444444444444,\"#bd3786\"],[0.5555555555555556,\"#d8576b\"],[0.6666666666666666,\"#ed7953\"],[0.7777777777777778,\"#fb9f3a\"],[0.8888888888888888,\"#fdca26\"],[1.0,\"#f0f921\"]],\"type\":\"heatmapgl\"}],\"heatmap\":[{\"colorbar\":{\"outlinewidth\":0,\"ticks\":\"\"},\"colorscale\":[[0.0,\"#0d0887\"],[0.1111111111111111,\"#46039f\"],[0.2222222222222222,\"#7201a8\"],[0.3333333333333333,\"#9c179e\"],[0.4444444444444444,\"#bd3786\"],[0.5555555555555556,\"#d8576b\"],[0.6666666666666666,\"#ed7953\"],[0.7777777777777778,\"#fb9f3a\"],[0.8888888888888888,\"#fdca26\"],[1.0,\"#f0f921\"]],\"type\":\"heatmap\"}],\"histogram2dcontour\":[{\"colorbar\":{\"outlinewidth\":0,\"ticks\":\"\"},\"colorscale\":[[0.0,\"#0d0887\"],[0.1111111111111111,\"#46039f\"],[0.2222222222222222,\"#7201a8\"],[0.3333333333333333,\"#9c179e\"],[0.4444444444444444,\"#bd3786\"],[0.5555555555555556,\"#d8576b\"],[0.6666666666666666,\"#ed7953\"],[0.7777777777777778,\"#fb9f3a\"],[0.8888888888888888,\"#fdca26\"],[1.0,\"#f0f921\"]],\"type\":\"histogram2dcontour\"}],\"histogram2d\":[{\"colorbar\":{\"outlinewidth\":0,\"ticks\":\"\"},\"colorscale\":[[0.0,\"#0d0887\"],[0.1111111111111111,\"#46039f\"],[0.2222222222222222,\"#7201a8\"],[0.3333333333333333,\"#9c179e\"],[0.4444444444444444,\"#bd3786\"],[0.5555555555555556,\"#d8576b\"],[0.6666666666666666,\"#ed7953\"],[0.7777777777777778,\"#fb9f3a\"],[0.8888888888888888,\"#fdca26\"],[1.0,\"#f0f921\"]],\"type\":\"histogram2d\"}],\"histogram\":[{\"marker\":{\"pattern\":{\"fillmode\":\"overlay\",\"size\":10,\"solidity\":0.2}},\"type\":\"histogram\"}],\"mesh3d\":[{\"colorbar\":{\"outlinewidth\":0,\"ticks\":\"\"},\"type\":\"mesh3d\"}],\"parcoords\":[{\"line\":{\"colorbar\":{\"outlinewidth\":0,\"ticks\":\"\"}},\"type\":\"parcoords\"}],\"pie\":[{\"automargin\":true,\"type\":\"pie\"}],\"scatter3d\":[{\"line\":{\"colorbar\":{\"outlinewidth\":0,\"ticks\":\"\"}},\"marker\":{\"colorbar\":{\"outlinewidth\":0,\"ticks\":\"\"}},\"type\":\"scatter3d\"}],\"scattercarpet\":[{\"marker\":{\"colorbar\":{\"outlinewidth\":0,\"ticks\":\"\"}},\"type\":\"scattercarpet\"}],\"scattergeo\":[{\"marker\":{\"colorbar\":{\"outlinewidth\":0,\"ticks\":\"\"}},\"type\":\"scattergeo\"}],\"scattergl\":[{\"marker\":{\"colorbar\":{\"outlinewidth\":0,\"ticks\":\"\"}},\"type\":\"scattergl\"}],\"scattermapbox\":[{\"marker\":{\"colorbar\":{\"outlinewidth\":0,\"ticks\":\"\"}},\"type\":\"scattermapbox\"}],\"scatterpolargl\":[{\"marker\":{\"colorbar\":{\"outlinewidth\":0,\"ticks\":\"\"}},\"type\":\"scatterpolargl\"}],\"scatterpolar\":[{\"marker\":{\"colorbar\":{\"outlinewidth\":0,\"ticks\":\"\"}},\"type\":\"scatterpolar\"}],\"scatter\":[{\"fillpattern\":{\"fillmode\":\"overlay\",\"size\":10,\"solidity\":0.2},\"type\":\"scatter\"}],\"scatterternary\":[{\"marker\":{\"colorbar\":{\"outlinewidth\":0,\"ticks\":\"\"}},\"type\":\"scatterternary\"}],\"surface\":[{\"colorbar\":{\"outlinewidth\":0,\"ticks\":\"\"},\"colorscale\":[[0.0,\"#0d0887\"],[0.1111111111111111,\"#46039f\"],[0.2222222222222222,\"#7201a8\"],[0.3333333333333333,\"#9c179e\"],[0.4444444444444444,\"#bd3786\"],[0.5555555555555556,\"#d8576b\"],[0.6666666666666666,\"#ed7953\"],[0.7777777777777778,\"#fb9f3a\"],[0.8888888888888888,\"#fdca26\"],[1.0,\"#f0f921\"]],\"type\":\"surface\"}],\"table\":[{\"cells\":{\"fill\":{\"color\":\"#EBF0F8\"},\"line\":{\"color\":\"white\"}},\"header\":{\"fill\":{\"color\":\"#C8D4E3\"},\"line\":{\"color\":\"white\"}},\"type\":\"table\"}]},\"layout\":{\"annotationdefaults\":{\"arrowcolor\":\"#2a3f5f\",\"arrowhead\":0,\"arrowwidth\":1},\"autotypenumbers\":\"strict\",\"coloraxis\":{\"colorbar\":{\"outlinewidth\":0,\"ticks\":\"\"}},\"colorscale\":{\"diverging\":[[0,\"#8e0152\"],[0.1,\"#c51b7d\"],[0.2,\"#de77ae\"],[0.3,\"#f1b6da\"],[0.4,\"#fde0ef\"],[0.5,\"#f7f7f7\"],[0.6,\"#e6f5d0\"],[0.7,\"#b8e186\"],[0.8,\"#7fbc41\"],[0.9,\"#4d9221\"],[1,\"#276419\"]],\"sequential\":[[0.0,\"#0d0887\"],[0.1111111111111111,\"#46039f\"],[0.2222222222222222,\"#7201a8\"],[0.3333333333333333,\"#9c179e\"],[0.4444444444444444,\"#bd3786\"],[0.5555555555555556,\"#d8576b\"],[0.6666666666666666,\"#ed7953\"],[0.7777777777777778,\"#fb9f3a\"],[0.8888888888888888,\"#fdca26\"],[1.0,\"#f0f921\"]],\"sequentialminus\":[[0.0,\"#0d0887\"],[0.1111111111111111,\"#46039f\"],[0.2222222222222222,\"#7201a8\"],[0.3333333333333333,\"#9c179e\"],[0.4444444444444444,\"#bd3786\"],[0.5555555555555556,\"#d8576b\"],[0.6666666666666666,\"#ed7953\"],[0.7777777777777778,\"#fb9f3a\"],[0.8888888888888888,\"#fdca26\"],[1.0,\"#f0f921\"]]},\"colorway\":[\"#636efa\",\"#EF553B\",\"#00cc96\",\"#ab63fa\",\"#FFA15A\",\"#19d3f3\",\"#FF6692\",\"#B6E880\",\"#FF97FF\",\"#FECB52\"],\"font\":{\"color\":\"#2a3f5f\"},\"geo\":{\"bgcolor\":\"white\",\"lakecolor\":\"white\",\"landcolor\":\"#E5ECF6\",\"showlakes\":true,\"showland\":true,\"subunitcolor\":\"white\"},\"hoverlabel\":{\"align\":\"left\"},\"hovermode\":\"closest\",\"mapbox\":{\"style\":\"light\"},\"paper_bgcolor\":\"white\",\"plot_bgcolor\":\"#E5ECF6\",\"polar\":{\"angularaxis\":{\"gridcolor\":\"white\",\"linecolor\":\"white\",\"ticks\":\"\"},\"bgcolor\":\"#E5ECF6\",\"radialaxis\":{\"gridcolor\":\"white\",\"linecolor\":\"white\",\"ticks\":\"\"}},\"scene\":{\"xaxis\":{\"backgroundcolor\":\"#E5ECF6\",\"gridcolor\":\"white\",\"gridwidth\":2,\"linecolor\":\"white\",\"showbackground\":true,\"ticks\":\"\",\"zerolinecolor\":\"white\"},\"yaxis\":{\"backgroundcolor\":\"#E5ECF6\",\"gridcolor\":\"white\",\"gridwidth\":2,\"linecolor\":\"white\",\"showbackground\":true,\"ticks\":\"\",\"zerolinecolor\":\"white\"},\"zaxis\":{\"backgroundcolor\":\"#E5ECF6\",\"gridcolor\":\"white\",\"gridwidth\":2,\"linecolor\":\"white\",\"showbackground\":true,\"ticks\":\"\",\"zerolinecolor\":\"white\"}},\"shapedefaults\":{\"line\":{\"color\":\"#2a3f5f\"}},\"ternary\":{\"aaxis\":{\"gridcolor\":\"white\",\"linecolor\":\"white\",\"ticks\":\"\"},\"baxis\":{\"gridcolor\":\"white\",\"linecolor\":\"white\",\"ticks\":\"\"},\"bgcolor\":\"#E5ECF6\",\"caxis\":{\"gridcolor\":\"white\",\"linecolor\":\"white\",\"ticks\":\"\"}},\"title\":{\"x\":0.05},\"xaxis\":{\"automargin\":true,\"gridcolor\":\"white\",\"linecolor\":\"white\",\"ticks\":\"\",\"title\":{\"standoff\":15},\"zerolinecolor\":\"white\",\"zerolinewidth\":2},\"yaxis\":{\"automargin\":true,\"gridcolor\":\"white\",\"linecolor\":\"white\",\"ticks\":\"\",\"title\":{\"standoff\":15},\"zerolinecolor\":\"white\",\"zerolinewidth\":2}}},\"title\":{\"font\":{\"color\":\"#4D5663\"}},\"width\":1000,\"xaxis\":{\"gridcolor\":\"#E1E5ED\",\"showgrid\":true,\"tickfont\":{\"color\":\"#4D5663\"},\"title\":{\"font\":{\"color\":\"#4D5663\"},\"text\":\"\"},\"zerolinecolor\":\"#E1E5ED\"},\"yaxis\":{\"gridcolor\":\"#E1E5ED\",\"showgrid\":true,\"tickfont\":{\"color\":\"#4D5663\"},\"title\":{\"font\":{\"color\":\"#4D5663\"},\"text\":\"\"},\"zerolinecolor\":\"#E1E5ED\"}},                        {\"showLink\": true, \"linkText\": \"Export to plot.ly\", \"plotlyServerURL\": \"https://plot.ly\", \"responsive\": true}                    ).then(function(){\n",
       "                            \n",
       "var gd = document.getElementById('5bcb34f3-c97f-44a4-8cc4-2e496af471ab');\n",
       "var x = new MutationObserver(function (mutations, observer) {{\n",
       "        var display = window.getComputedStyle(gd).display;\n",
       "        if (!display || display === 'none') {{\n",
       "            console.log([gd, 'removed!']);\n",
       "            Plotly.purge(gd);\n",
       "            observer.disconnect();\n",
       "        }}\n",
       "}});\n",
       "\n",
       "// Listen for the removal of the full notebook cells\n",
       "var notebookContainer = gd.closest('#notebook-container');\n",
       "if (notebookContainer) {{\n",
       "    x.observe(notebookContainer, {childList: true});\n",
       "}}\n",
       "\n",
       "// Listen for the clearing of the current output cell\n",
       "var outputEl = gd.closest('.output');\n",
       "if (outputEl) {{\n",
       "    x.observe(outputEl, {childList: true});\n",
       "}}\n",
       "\n",
       "                        })                };                });            </script>        </div>"
      ]
     },
     "metadata": {},
     "output_type": "display_data"
    }
   ],
   "source": [
    "pnl = train_pnl.sum(axis=1)\n",
    "print(sqrt(12)*pnl.mean()/pnl.std())\n",
    "print(sqrt(12)*y_train.sum(axis=1).mean()/y_train.sum(axis=1).std())\n",
    "pd.concat([pnl, y_train.sum(axis=1)], axis=1).cumsum().iplot()"
   ]
  },
  {
   "cell_type": "code",
   "execution_count": 263,
   "metadata": {},
   "outputs": [
    {
     "name": "stdout",
     "output_type": "stream",
     "text": [
      "0.7336048546743607\n"
     ]
    },
    {
     "data": {
      "application/vnd.plotly.v1+json": {
       "config": {
        "linkText": "Export to plot.ly",
        "plotlyServerURL": "https://plot.ly",
        "showLink": true
       },
       "data": [
        {
         "line": {
          "color": "rgba(255, 153, 51, 1.0)",
          "dash": "solid",
          "shape": "linear",
          "width": 1.3
         },
         "mode": "lines",
         "name": "None",
         "text": "",
         "type": "scatter",
         "x": [
          "2001-01-31",
          "2001-02-28",
          "2001-03-30",
          "2001-04-30",
          "2001-05-31",
          "2001-06-29",
          "2001-07-31",
          "2001-08-31",
          "2001-09-28",
          "2001-10-31",
          "2001-11-30",
          "2001-12-31",
          "2002-01-31",
          "2002-02-28",
          "2002-03-29",
          "2002-04-30",
          "2002-05-31",
          "2002-06-28",
          "2002-07-31",
          "2002-08-30",
          "2002-09-30",
          "2002-10-31",
          "2002-11-29",
          "2002-12-31",
          "2003-01-31",
          "2003-02-28",
          "2003-03-31",
          "2003-04-30",
          "2003-05-30",
          "2003-06-30",
          "2003-07-31",
          "2003-08-29",
          "2003-09-30",
          "2003-10-31",
          "2003-11-28",
          "2003-12-31",
          "2004-01-30",
          "2004-02-27",
          "2004-03-31",
          "2004-04-30",
          "2004-05-31",
          "2004-06-30",
          "2004-07-30",
          "2004-08-31",
          "2004-09-30",
          "2004-10-29",
          "2004-11-30",
          "2004-12-31",
          "2005-01-31",
          "2005-02-28",
          "2005-03-31",
          "2005-04-29",
          "2005-05-31",
          "2005-06-30",
          "2005-07-29",
          "2005-08-31",
          "2005-09-30",
          "2005-10-31",
          "2005-11-30",
          "2005-12-30",
          "2006-01-31",
          "2006-02-28",
          "2006-03-31",
          "2006-04-28",
          "2006-05-31",
          "2006-06-30",
          "2006-07-31",
          "2006-08-31",
          "2006-09-29",
          "2006-10-31",
          "2006-11-30",
          "2006-12-29",
          "2007-01-31",
          "2007-02-28",
          "2007-03-30",
          "2007-04-30",
          "2007-05-31",
          "2007-06-29",
          "2007-07-31",
          "2007-08-31",
          "2007-09-28",
          "2007-10-31",
          "2007-11-30",
          "2007-12-31",
          "2008-01-31",
          "2008-02-29",
          "2008-03-31",
          "2008-04-30",
          "2008-05-30",
          "2008-06-30",
          "2008-07-31",
          "2008-08-29",
          "2008-09-30",
          "2008-10-31",
          "2008-11-28",
          "2008-12-31",
          "2009-01-30",
          "2009-02-27",
          "2009-03-31",
          "2009-04-30",
          "2009-05-29",
          "2009-06-30",
          "2009-07-31",
          "2009-08-31",
          "2009-09-30",
          "2009-10-30",
          "2009-11-30",
          "2009-12-31",
          "2010-01-29",
          "2010-02-26",
          "2010-03-31",
          "2010-04-30",
          "2010-05-31",
          "2010-06-30",
          "2010-07-30",
          "2010-08-31",
          "2010-09-30",
          "2010-10-29",
          "2010-11-30",
          "2010-12-31",
          "2011-01-31",
          "2011-02-28",
          "2011-03-31",
          "2011-04-29",
          "2011-05-31",
          "2011-06-30",
          "2011-07-29",
          "2011-08-31",
          "2011-09-30",
          "2011-10-31",
          "2011-11-30",
          "2011-12-30",
          "2012-01-31",
          "2012-02-29",
          "2012-03-30",
          "2012-04-30",
          "2012-05-31",
          "2012-06-29",
          "2012-07-31",
          "2012-08-31",
          "2012-09-28",
          "2012-10-31",
          "2012-11-30",
          "2012-12-31",
          "2013-01-31",
          "2013-02-28",
          "2013-03-29",
          "2013-04-30",
          "2013-05-31",
          "2013-06-28",
          "2013-07-31",
          "2013-08-30",
          "2013-09-30",
          "2013-10-31",
          "2013-11-29",
          "2013-12-31",
          "2014-01-31",
          "2014-02-28",
          "2014-03-31",
          "2014-04-30",
          "2014-05-30",
          "2014-06-30",
          "2014-07-31",
          "2014-08-29",
          "2014-09-30",
          "2014-10-31",
          "2014-11-28",
          "2014-12-31",
          "2015-01-30",
          "2015-02-27",
          "2015-03-31",
          "2015-04-30",
          "2015-05-29",
          "2015-06-30",
          "2015-07-31",
          "2015-08-31",
          "2015-09-30",
          "2015-10-30",
          "2015-11-30",
          "2015-12-31",
          "2016-01-29",
          "2016-02-29",
          "2016-03-31",
          "2016-04-29",
          "2016-05-31",
          "2016-06-30",
          "2016-07-29",
          "2016-08-31",
          "2016-09-30",
          "2016-10-31",
          "2016-11-30",
          "2016-12-30",
          "2017-01-31",
          "2017-02-28",
          "2017-03-31",
          "2017-04-28",
          "2017-05-31",
          "2017-06-30",
          "2017-07-31",
          "2017-08-31",
          "2017-09-29",
          "2017-10-31",
          "2017-11-30",
          "2017-12-29",
          "2018-01-31",
          "2018-02-28",
          "2018-03-30",
          "2018-04-30",
          "2018-05-31",
          "2018-06-29",
          "2018-07-31",
          "2018-08-31",
          "2018-09-28",
          "2018-10-31",
          "2018-11-30",
          "2018-12-31",
          "2019-01-31",
          "2019-02-28",
          "2019-03-29",
          "2019-04-30"
         ],
         "y": [
          1.6280365687536857,
          5.978374699655239,
          5.879378380679639,
          11.808352812230535,
          11.777276457167655,
          5.8503045970272325,
          8.466407031578413,
          5.033771604371912,
          5.222813391508655,
          6.97250810850935,
          7.7717167144596235,
          9.87482791014849,
          13.706745881104062,
          14.711442873826147,
          12.953555321410382,
          18.302103582268483,
          15.551285736483186,
          17.649989007515437,
          17.40123489425242,
          17.129501360409787,
          22.62066940157844,
          26.684495946814707,
          24.890855751954255,
          18.882965312584524,
          19.370168964211466,
          17.859220261425172,
          18.172033749283223,
          20.535062971685313,
          25.048787156695575,
          33.024665091932626,
          35.212794635686855,
          35.936340465536944,
          29.167271658973178,
          30.050652530072426,
          30.463165330442212,
          23.49062444107507,
          25.909970668672784,
          27.208079429481316,
          27.993220566047007,
          31.413208317367364,
          34.82619888778603,
          36.15532864168641,
          32.53364873695708,
          30.286072895823438,
          30.86002412628946,
          33.03812345287671,
          30.425905397857065,
          29.844472775609617,
          27.171215805593057,
          27.857767936865056,
          26.391949278517863,
          28.592567616961833,
          28.137290893736747,
          29.285932490773153,
          29.88002347405199,
          31.256946530564647,
          31.546003233339714,
          32.9902432386778,
          38.83927460366881,
          39.884830532530586,
          41.49595950418216,
          43.6761097527544,
          47.05460313572035,
          47.85129400559589,
          47.612166892000964,
          51.1598025685559,
          53.30582898726661,
          59.18563142356044,
          60.01859029519646,
          61.853387371164594,
          61.9991483561022,
          63.07442883744425,
          67.4413107772006,
          72.50338208262879,
          75.5345973798706,
          74.00113740911219,
          76.25357851556788,
          77.21977042487579,
          84.4019427905848,
          81.23899026827006,
          85.7116773335035,
          86.33618280238639,
          84.38957149954831,
          82.55540783944454,
          87.98507191362033,
          93.26011975160877,
          94.58057134344845,
          96.22753793715266,
          100.14647878809645,
          99.103857182792,
          98.24541730501362,
          89.98781189286996,
          85.30136364075915,
          91.68821479319101,
          81.20637321543529,
          85.80743438671351,
          93.88509476373264,
          93.04843846272635,
          94.49957388619205,
          94.97503156334967,
          96.22526161207645,
          98.8631200650315,
          103.1225312895051,
          100.47579018197833,
          96.66956251581591,
          102.61413958303365,
          103.52836726126098,
          103.04670618902976,
          105.21946347045274,
          108.44833290132001,
          103.94568216298728,
          96.21586142015464,
          91.23624928939671,
          94.65347778850892,
          93.76692795959625,
          98.5921880249582,
          95.12212452820593,
          91.53385752882197,
          91.65393880345987,
          95.55351630355295,
          94.75130101353818,
          92.0848458955975,
          94.76299590128612,
          93.30182478758888,
          94.94503286178295,
          94.07656645783743,
          107.23446094699572,
          124.66791137969619,
          124.74719583557743,
          131.63049514318772,
          133.7722825959119,
          129.45254842401934,
          125.08693918570525,
          127.4944292370199,
          128.027832266096,
          130.68647030801822,
          130.21647039921237,
          130.40827078974453,
          129.9406931657921,
          133.12882203552698,
          131.88107703825887,
          130.2791945632689,
          131.85342370396623,
          134.93638904019295,
          134.49097091412182,
          133.5276915797497,
          139.10746204849914,
          142.55191544224803,
          144.62896773535317,
          143.36207758252664,
          145.01177759796914,
          146.48795965979016,
          142.9155732683969,
          140.64924945851962,
          142.76155221848418,
          141.8682449846606,
          139.35237088224616,
          140.73483043649358,
          140.4045635227478,
          139.9480228045956,
          138.93524300297895,
          141.65743299241979,
          141.9256078649721,
          138.54253129290032,
          135.69127161198477,
          135.0054816431226,
          135.19302661672506,
          131.28980708886013,
          131.82640749503534,
          128.5585723107681,
          130.29426968826087,
          131.96011685268215,
          132.808562452873,
          134.96371449549636,
          133.81169449632063,
          138.3035043331812,
          143.221664124333,
          145.53027647061097,
          147.63176935007505,
          149.39621341585683,
          153.00307716438004,
          158.01469703971676,
          165.94999535125265,
          163.89278563293672,
          162.2885072559934,
          166.6796879901266,
          171.16926608570648,
          169.91162917236778,
          168.69396934239475,
          167.79512240916782,
          169.108872986154,
          165.95637012146443,
          162.12169936581526,
          161.57690945058968,
          159.6975023505596,
          159.29507747294676,
          158.6374817263236,
          161.1396298436818,
          163.89057081971285,
          163.81506142855633,
          165.16337905269307,
          166.54874741914216,
          170.67376619806726,
          165.3481506102101,
          163.85125105309976,
          162.46141216122356,
          161.4067214059638,
          162.23232700628407,
          159.06734968767157,
          161.25613481885512,
          163.3184673726221,
          164.11843698489,
          165.19569670056893,
          161.86604129284322,
          154.56685865627324,
          155.8720181420951,
          159.61361067337484,
          159.81354970026723,
          163.88497333020132,
          160.4053919011609
         ]
        }
       ],
       "layout": {
        "height": 600,
        "legend": {
         "bgcolor": "#F5F6F9",
         "font": {
          "color": "#4D5663"
         }
        },
        "paper_bgcolor": "#F5F6F9",
        "plot_bgcolor": "#F5F6F9",
        "template": {
         "data": {
          "bar": [
           {
            "error_x": {
             "color": "#2a3f5f"
            },
            "error_y": {
             "color": "#2a3f5f"
            },
            "marker": {
             "line": {
              "color": "#E5ECF6",
              "width": 0.5
             },
             "pattern": {
              "fillmode": "overlay",
              "size": 10,
              "solidity": 0.2
             }
            },
            "type": "bar"
           }
          ],
          "barpolar": [
           {
            "marker": {
             "line": {
              "color": "#E5ECF6",
              "width": 0.5
             },
             "pattern": {
              "fillmode": "overlay",
              "size": 10,
              "solidity": 0.2
             }
            },
            "type": "barpolar"
           }
          ],
          "carpet": [
           {
            "aaxis": {
             "endlinecolor": "#2a3f5f",
             "gridcolor": "white",
             "linecolor": "white",
             "minorgridcolor": "white",
             "startlinecolor": "#2a3f5f"
            },
            "baxis": {
             "endlinecolor": "#2a3f5f",
             "gridcolor": "white",
             "linecolor": "white",
             "minorgridcolor": "white",
             "startlinecolor": "#2a3f5f"
            },
            "type": "carpet"
           }
          ],
          "choropleth": [
           {
            "colorbar": {
             "outlinewidth": 0,
             "ticks": ""
            },
            "type": "choropleth"
           }
          ],
          "contour": [
           {
            "colorbar": {
             "outlinewidth": 0,
             "ticks": ""
            },
            "colorscale": [
             [
              0,
              "#0d0887"
             ],
             [
              0.1111111111111111,
              "#46039f"
             ],
             [
              0.2222222222222222,
              "#7201a8"
             ],
             [
              0.3333333333333333,
              "#9c179e"
             ],
             [
              0.4444444444444444,
              "#bd3786"
             ],
             [
              0.5555555555555556,
              "#d8576b"
             ],
             [
              0.6666666666666666,
              "#ed7953"
             ],
             [
              0.7777777777777778,
              "#fb9f3a"
             ],
             [
              0.8888888888888888,
              "#fdca26"
             ],
             [
              1,
              "#f0f921"
             ]
            ],
            "type": "contour"
           }
          ],
          "contourcarpet": [
           {
            "colorbar": {
             "outlinewidth": 0,
             "ticks": ""
            },
            "type": "contourcarpet"
           }
          ],
          "heatmap": [
           {
            "colorbar": {
             "outlinewidth": 0,
             "ticks": ""
            },
            "colorscale": [
             [
              0,
              "#0d0887"
             ],
             [
              0.1111111111111111,
              "#46039f"
             ],
             [
              0.2222222222222222,
              "#7201a8"
             ],
             [
              0.3333333333333333,
              "#9c179e"
             ],
             [
              0.4444444444444444,
              "#bd3786"
             ],
             [
              0.5555555555555556,
              "#d8576b"
             ],
             [
              0.6666666666666666,
              "#ed7953"
             ],
             [
              0.7777777777777778,
              "#fb9f3a"
             ],
             [
              0.8888888888888888,
              "#fdca26"
             ],
             [
              1,
              "#f0f921"
             ]
            ],
            "type": "heatmap"
           }
          ],
          "heatmapgl": [
           {
            "colorbar": {
             "outlinewidth": 0,
             "ticks": ""
            },
            "colorscale": [
             [
              0,
              "#0d0887"
             ],
             [
              0.1111111111111111,
              "#46039f"
             ],
             [
              0.2222222222222222,
              "#7201a8"
             ],
             [
              0.3333333333333333,
              "#9c179e"
             ],
             [
              0.4444444444444444,
              "#bd3786"
             ],
             [
              0.5555555555555556,
              "#d8576b"
             ],
             [
              0.6666666666666666,
              "#ed7953"
             ],
             [
              0.7777777777777778,
              "#fb9f3a"
             ],
             [
              0.8888888888888888,
              "#fdca26"
             ],
             [
              1,
              "#f0f921"
             ]
            ],
            "type": "heatmapgl"
           }
          ],
          "histogram": [
           {
            "marker": {
             "pattern": {
              "fillmode": "overlay",
              "size": 10,
              "solidity": 0.2
             }
            },
            "type": "histogram"
           }
          ],
          "histogram2d": [
           {
            "colorbar": {
             "outlinewidth": 0,
             "ticks": ""
            },
            "colorscale": [
             [
              0,
              "#0d0887"
             ],
             [
              0.1111111111111111,
              "#46039f"
             ],
             [
              0.2222222222222222,
              "#7201a8"
             ],
             [
              0.3333333333333333,
              "#9c179e"
             ],
             [
              0.4444444444444444,
              "#bd3786"
             ],
             [
              0.5555555555555556,
              "#d8576b"
             ],
             [
              0.6666666666666666,
              "#ed7953"
             ],
             [
              0.7777777777777778,
              "#fb9f3a"
             ],
             [
              0.8888888888888888,
              "#fdca26"
             ],
             [
              1,
              "#f0f921"
             ]
            ],
            "type": "histogram2d"
           }
          ],
          "histogram2dcontour": [
           {
            "colorbar": {
             "outlinewidth": 0,
             "ticks": ""
            },
            "colorscale": [
             [
              0,
              "#0d0887"
             ],
             [
              0.1111111111111111,
              "#46039f"
             ],
             [
              0.2222222222222222,
              "#7201a8"
             ],
             [
              0.3333333333333333,
              "#9c179e"
             ],
             [
              0.4444444444444444,
              "#bd3786"
             ],
             [
              0.5555555555555556,
              "#d8576b"
             ],
             [
              0.6666666666666666,
              "#ed7953"
             ],
             [
              0.7777777777777778,
              "#fb9f3a"
             ],
             [
              0.8888888888888888,
              "#fdca26"
             ],
             [
              1,
              "#f0f921"
             ]
            ],
            "type": "histogram2dcontour"
           }
          ],
          "mesh3d": [
           {
            "colorbar": {
             "outlinewidth": 0,
             "ticks": ""
            },
            "type": "mesh3d"
           }
          ],
          "parcoords": [
           {
            "line": {
             "colorbar": {
              "outlinewidth": 0,
              "ticks": ""
             }
            },
            "type": "parcoords"
           }
          ],
          "pie": [
           {
            "automargin": true,
            "type": "pie"
           }
          ],
          "scatter": [
           {
            "fillpattern": {
             "fillmode": "overlay",
             "size": 10,
             "solidity": 0.2
            },
            "type": "scatter"
           }
          ],
          "scatter3d": [
           {
            "line": {
             "colorbar": {
              "outlinewidth": 0,
              "ticks": ""
             }
            },
            "marker": {
             "colorbar": {
              "outlinewidth": 0,
              "ticks": ""
             }
            },
            "type": "scatter3d"
           }
          ],
          "scattercarpet": [
           {
            "marker": {
             "colorbar": {
              "outlinewidth": 0,
              "ticks": ""
             }
            },
            "type": "scattercarpet"
           }
          ],
          "scattergeo": [
           {
            "marker": {
             "colorbar": {
              "outlinewidth": 0,
              "ticks": ""
             }
            },
            "type": "scattergeo"
           }
          ],
          "scattergl": [
           {
            "marker": {
             "colorbar": {
              "outlinewidth": 0,
              "ticks": ""
             }
            },
            "type": "scattergl"
           }
          ],
          "scattermapbox": [
           {
            "marker": {
             "colorbar": {
              "outlinewidth": 0,
              "ticks": ""
             }
            },
            "type": "scattermapbox"
           }
          ],
          "scatterpolar": [
           {
            "marker": {
             "colorbar": {
              "outlinewidth": 0,
              "ticks": ""
             }
            },
            "type": "scatterpolar"
           }
          ],
          "scatterpolargl": [
           {
            "marker": {
             "colorbar": {
              "outlinewidth": 0,
              "ticks": ""
             }
            },
            "type": "scatterpolargl"
           }
          ],
          "scatterternary": [
           {
            "marker": {
             "colorbar": {
              "outlinewidth": 0,
              "ticks": ""
             }
            },
            "type": "scatterternary"
           }
          ],
          "surface": [
           {
            "colorbar": {
             "outlinewidth": 0,
             "ticks": ""
            },
            "colorscale": [
             [
              0,
              "#0d0887"
             ],
             [
              0.1111111111111111,
              "#46039f"
             ],
             [
              0.2222222222222222,
              "#7201a8"
             ],
             [
              0.3333333333333333,
              "#9c179e"
             ],
             [
              0.4444444444444444,
              "#bd3786"
             ],
             [
              0.5555555555555556,
              "#d8576b"
             ],
             [
              0.6666666666666666,
              "#ed7953"
             ],
             [
              0.7777777777777778,
              "#fb9f3a"
             ],
             [
              0.8888888888888888,
              "#fdca26"
             ],
             [
              1,
              "#f0f921"
             ]
            ],
            "type": "surface"
           }
          ],
          "table": [
           {
            "cells": {
             "fill": {
              "color": "#EBF0F8"
             },
             "line": {
              "color": "white"
             }
            },
            "header": {
             "fill": {
              "color": "#C8D4E3"
             },
             "line": {
              "color": "white"
             }
            },
            "type": "table"
           }
          ]
         },
         "layout": {
          "annotationdefaults": {
           "arrowcolor": "#2a3f5f",
           "arrowhead": 0,
           "arrowwidth": 1
          },
          "autotypenumbers": "strict",
          "coloraxis": {
           "colorbar": {
            "outlinewidth": 0,
            "ticks": ""
           }
          },
          "colorscale": {
           "diverging": [
            [
             0,
             "#8e0152"
            ],
            [
             0.1,
             "#c51b7d"
            ],
            [
             0.2,
             "#de77ae"
            ],
            [
             0.3,
             "#f1b6da"
            ],
            [
             0.4,
             "#fde0ef"
            ],
            [
             0.5,
             "#f7f7f7"
            ],
            [
             0.6,
             "#e6f5d0"
            ],
            [
             0.7,
             "#b8e186"
            ],
            [
             0.8,
             "#7fbc41"
            ],
            [
             0.9,
             "#4d9221"
            ],
            [
             1,
             "#276419"
            ]
           ],
           "sequential": [
            [
             0,
             "#0d0887"
            ],
            [
             0.1111111111111111,
             "#46039f"
            ],
            [
             0.2222222222222222,
             "#7201a8"
            ],
            [
             0.3333333333333333,
             "#9c179e"
            ],
            [
             0.4444444444444444,
             "#bd3786"
            ],
            [
             0.5555555555555556,
             "#d8576b"
            ],
            [
             0.6666666666666666,
             "#ed7953"
            ],
            [
             0.7777777777777778,
             "#fb9f3a"
            ],
            [
             0.8888888888888888,
             "#fdca26"
            ],
            [
             1,
             "#f0f921"
            ]
           ],
           "sequentialminus": [
            [
             0,
             "#0d0887"
            ],
            [
             0.1111111111111111,
             "#46039f"
            ],
            [
             0.2222222222222222,
             "#7201a8"
            ],
            [
             0.3333333333333333,
             "#9c179e"
            ],
            [
             0.4444444444444444,
             "#bd3786"
            ],
            [
             0.5555555555555556,
             "#d8576b"
            ],
            [
             0.6666666666666666,
             "#ed7953"
            ],
            [
             0.7777777777777778,
             "#fb9f3a"
            ],
            [
             0.8888888888888888,
             "#fdca26"
            ],
            [
             1,
             "#f0f921"
            ]
           ]
          },
          "colorway": [
           "#636efa",
           "#EF553B",
           "#00cc96",
           "#ab63fa",
           "#FFA15A",
           "#19d3f3",
           "#FF6692",
           "#B6E880",
           "#FF97FF",
           "#FECB52"
          ],
          "font": {
           "color": "#2a3f5f"
          },
          "geo": {
           "bgcolor": "white",
           "lakecolor": "white",
           "landcolor": "#E5ECF6",
           "showlakes": true,
           "showland": true,
           "subunitcolor": "white"
          },
          "hoverlabel": {
           "align": "left"
          },
          "hovermode": "closest",
          "mapbox": {
           "style": "light"
          },
          "paper_bgcolor": "white",
          "plot_bgcolor": "#E5ECF6",
          "polar": {
           "angularaxis": {
            "gridcolor": "white",
            "linecolor": "white",
            "ticks": ""
           },
           "bgcolor": "#E5ECF6",
           "radialaxis": {
            "gridcolor": "white",
            "linecolor": "white",
            "ticks": ""
           }
          },
          "scene": {
           "xaxis": {
            "backgroundcolor": "#E5ECF6",
            "gridcolor": "white",
            "gridwidth": 2,
            "linecolor": "white",
            "showbackground": true,
            "ticks": "",
            "zerolinecolor": "white"
           },
           "yaxis": {
            "backgroundcolor": "#E5ECF6",
            "gridcolor": "white",
            "gridwidth": 2,
            "linecolor": "white",
            "showbackground": true,
            "ticks": "",
            "zerolinecolor": "white"
           },
           "zaxis": {
            "backgroundcolor": "#E5ECF6",
            "gridcolor": "white",
            "gridwidth": 2,
            "linecolor": "white",
            "showbackground": true,
            "ticks": "",
            "zerolinecolor": "white"
           }
          },
          "shapedefaults": {
           "line": {
            "color": "#2a3f5f"
           }
          },
          "ternary": {
           "aaxis": {
            "gridcolor": "white",
            "linecolor": "white",
            "ticks": ""
           },
           "baxis": {
            "gridcolor": "white",
            "linecolor": "white",
            "ticks": ""
           },
           "bgcolor": "#E5ECF6",
           "caxis": {
            "gridcolor": "white",
            "linecolor": "white",
            "ticks": ""
           }
          },
          "title": {
           "x": 0.05
          },
          "xaxis": {
           "automargin": true,
           "gridcolor": "white",
           "linecolor": "white",
           "ticks": "",
           "title": {
            "standoff": 15
           },
           "zerolinecolor": "white",
           "zerolinewidth": 2
          },
          "yaxis": {
           "automargin": true,
           "gridcolor": "white",
           "linecolor": "white",
           "ticks": "",
           "title": {
            "standoff": 15
           },
           "zerolinecolor": "white",
           "zerolinewidth": 2
          }
         }
        },
        "title": {
         "font": {
          "color": "#4D5663"
         }
        },
        "width": 1000,
        "xaxis": {
         "gridcolor": "#E1E5ED",
         "showgrid": true,
         "tickfont": {
          "color": "#4D5663"
         },
         "title": {
          "font": {
           "color": "#4D5663"
          },
          "text": ""
         },
         "zerolinecolor": "#E1E5ED"
        },
        "yaxis": {
         "gridcolor": "#E1E5ED",
         "showgrid": true,
         "tickfont": {
          "color": "#4D5663"
         },
         "title": {
          "font": {
           "color": "#4D5663"
          },
          "text": ""
         },
         "zerolinecolor": "#E1E5ED"
        }
       }
      },
      "text/html": [
       "<div>                            <div id=\"795ba10a-decc-4fb1-bac8-97a43707913a\" class=\"plotly-graph-div\" style=\"height:600px; width:1000px;\"></div>            <script type=\"text/javascript\">                require([\"plotly\"], function(Plotly) {                    window.PLOTLYENV=window.PLOTLYENV || {};\n",
       "                    window.PLOTLYENV.BASE_URL='https://plot.ly';                                    if (document.getElementById(\"795ba10a-decc-4fb1-bac8-97a43707913a\")) {                    Plotly.newPlot(                        \"795ba10a-decc-4fb1-bac8-97a43707913a\",                        [{\"line\":{\"color\":\"rgba(255, 153, 51, 1.0)\",\"dash\":\"solid\",\"shape\":\"linear\",\"width\":1.3},\"mode\":\"lines\",\"name\":\"None\",\"text\":\"\",\"x\":[\"2001-01-31\",\"2001-02-28\",\"2001-03-30\",\"2001-04-30\",\"2001-05-31\",\"2001-06-29\",\"2001-07-31\",\"2001-08-31\",\"2001-09-28\",\"2001-10-31\",\"2001-11-30\",\"2001-12-31\",\"2002-01-31\",\"2002-02-28\",\"2002-03-29\",\"2002-04-30\",\"2002-05-31\",\"2002-06-28\",\"2002-07-31\",\"2002-08-30\",\"2002-09-30\",\"2002-10-31\",\"2002-11-29\",\"2002-12-31\",\"2003-01-31\",\"2003-02-28\",\"2003-03-31\",\"2003-04-30\",\"2003-05-30\",\"2003-06-30\",\"2003-07-31\",\"2003-08-29\",\"2003-09-30\",\"2003-10-31\",\"2003-11-28\",\"2003-12-31\",\"2004-01-30\",\"2004-02-27\",\"2004-03-31\",\"2004-04-30\",\"2004-05-31\",\"2004-06-30\",\"2004-07-30\",\"2004-08-31\",\"2004-09-30\",\"2004-10-29\",\"2004-11-30\",\"2004-12-31\",\"2005-01-31\",\"2005-02-28\",\"2005-03-31\",\"2005-04-29\",\"2005-05-31\",\"2005-06-30\",\"2005-07-29\",\"2005-08-31\",\"2005-09-30\",\"2005-10-31\",\"2005-11-30\",\"2005-12-30\",\"2006-01-31\",\"2006-02-28\",\"2006-03-31\",\"2006-04-28\",\"2006-05-31\",\"2006-06-30\",\"2006-07-31\",\"2006-08-31\",\"2006-09-29\",\"2006-10-31\",\"2006-11-30\",\"2006-12-29\",\"2007-01-31\",\"2007-02-28\",\"2007-03-30\",\"2007-04-30\",\"2007-05-31\",\"2007-06-29\",\"2007-07-31\",\"2007-08-31\",\"2007-09-28\",\"2007-10-31\",\"2007-11-30\",\"2007-12-31\",\"2008-01-31\",\"2008-02-29\",\"2008-03-31\",\"2008-04-30\",\"2008-05-30\",\"2008-06-30\",\"2008-07-31\",\"2008-08-29\",\"2008-09-30\",\"2008-10-31\",\"2008-11-28\",\"2008-12-31\",\"2009-01-30\",\"2009-02-27\",\"2009-03-31\",\"2009-04-30\",\"2009-05-29\",\"2009-06-30\",\"2009-07-31\",\"2009-08-31\",\"2009-09-30\",\"2009-10-30\",\"2009-11-30\",\"2009-12-31\",\"2010-01-29\",\"2010-02-26\",\"2010-03-31\",\"2010-04-30\",\"2010-05-31\",\"2010-06-30\",\"2010-07-30\",\"2010-08-31\",\"2010-09-30\",\"2010-10-29\",\"2010-11-30\",\"2010-12-31\",\"2011-01-31\",\"2011-02-28\",\"2011-03-31\",\"2011-04-29\",\"2011-05-31\",\"2011-06-30\",\"2011-07-29\",\"2011-08-31\",\"2011-09-30\",\"2011-10-31\",\"2011-11-30\",\"2011-12-30\",\"2012-01-31\",\"2012-02-29\",\"2012-03-30\",\"2012-04-30\",\"2012-05-31\",\"2012-06-29\",\"2012-07-31\",\"2012-08-31\",\"2012-09-28\",\"2012-10-31\",\"2012-11-30\",\"2012-12-31\",\"2013-01-31\",\"2013-02-28\",\"2013-03-29\",\"2013-04-30\",\"2013-05-31\",\"2013-06-28\",\"2013-07-31\",\"2013-08-30\",\"2013-09-30\",\"2013-10-31\",\"2013-11-29\",\"2013-12-31\",\"2014-01-31\",\"2014-02-28\",\"2014-03-31\",\"2014-04-30\",\"2014-05-30\",\"2014-06-30\",\"2014-07-31\",\"2014-08-29\",\"2014-09-30\",\"2014-10-31\",\"2014-11-28\",\"2014-12-31\",\"2015-01-30\",\"2015-02-27\",\"2015-03-31\",\"2015-04-30\",\"2015-05-29\",\"2015-06-30\",\"2015-07-31\",\"2015-08-31\",\"2015-09-30\",\"2015-10-30\",\"2015-11-30\",\"2015-12-31\",\"2016-01-29\",\"2016-02-29\",\"2016-03-31\",\"2016-04-29\",\"2016-05-31\",\"2016-06-30\",\"2016-07-29\",\"2016-08-31\",\"2016-09-30\",\"2016-10-31\",\"2016-11-30\",\"2016-12-30\",\"2017-01-31\",\"2017-02-28\",\"2017-03-31\",\"2017-04-28\",\"2017-05-31\",\"2017-06-30\",\"2017-07-31\",\"2017-08-31\",\"2017-09-29\",\"2017-10-31\",\"2017-11-30\",\"2017-12-29\",\"2018-01-31\",\"2018-02-28\",\"2018-03-30\",\"2018-04-30\",\"2018-05-31\",\"2018-06-29\",\"2018-07-31\",\"2018-08-31\",\"2018-09-28\",\"2018-10-31\",\"2018-11-30\",\"2018-12-31\",\"2019-01-31\",\"2019-02-28\",\"2019-03-29\",\"2019-04-30\"],\"y\":[1.6280365687536857,5.978374699655239,5.879378380679639,11.808352812230535,11.777276457167655,5.8503045970272325,8.466407031578413,5.033771604371912,5.222813391508655,6.97250810850935,7.7717167144596235,9.87482791014849,13.706745881104062,14.711442873826147,12.953555321410382,18.302103582268483,15.551285736483186,17.649989007515437,17.40123489425242,17.129501360409787,22.62066940157844,26.684495946814707,24.890855751954255,18.882965312584524,19.370168964211466,17.859220261425172,18.172033749283223,20.535062971685313,25.048787156695575,33.024665091932626,35.212794635686855,35.936340465536944,29.167271658973178,30.050652530072426,30.463165330442212,23.49062444107507,25.909970668672784,27.208079429481316,27.993220566047007,31.413208317367364,34.82619888778603,36.15532864168641,32.53364873695708,30.286072895823438,30.86002412628946,33.03812345287671,30.425905397857065,29.844472775609617,27.171215805593057,27.857767936865056,26.391949278517863,28.592567616961833,28.137290893736747,29.285932490773153,29.88002347405199,31.256946530564647,31.546003233339714,32.9902432386778,38.83927460366881,39.884830532530586,41.49595950418216,43.6761097527544,47.05460313572035,47.85129400559589,47.612166892000964,51.1598025685559,53.30582898726661,59.18563142356044,60.01859029519646,61.853387371164594,61.9991483561022,63.07442883744425,67.4413107772006,72.50338208262879,75.5345973798706,74.00113740911219,76.25357851556788,77.21977042487579,84.4019427905848,81.23899026827006,85.7116773335035,86.33618280238639,84.38957149954831,82.55540783944454,87.98507191362033,93.26011975160877,94.58057134344845,96.22753793715266,100.14647878809645,99.103857182792,98.24541730501362,89.98781189286996,85.30136364075915,91.68821479319101,81.20637321543529,85.80743438671351,93.88509476373264,93.04843846272635,94.49957388619205,94.97503156334967,96.22526161207645,98.8631200650315,103.1225312895051,100.47579018197833,96.66956251581591,102.61413958303365,103.52836726126098,103.04670618902976,105.21946347045274,108.44833290132001,103.94568216298728,96.21586142015464,91.23624928939671,94.65347778850892,93.76692795959625,98.5921880249582,95.12212452820593,91.53385752882197,91.65393880345987,95.55351630355295,94.75130101353818,92.0848458955975,94.76299590128612,93.30182478758888,94.94503286178295,94.07656645783743,107.23446094699572,124.66791137969619,124.74719583557743,131.63049514318772,133.7722825959119,129.45254842401934,125.08693918570525,127.4944292370199,128.027832266096,130.68647030801822,130.21647039921237,130.40827078974453,129.9406931657921,133.12882203552698,131.88107703825887,130.2791945632689,131.85342370396623,134.93638904019295,134.49097091412182,133.5276915797497,139.10746204849914,142.55191544224803,144.62896773535317,143.36207758252664,145.01177759796914,146.48795965979016,142.9155732683969,140.64924945851962,142.76155221848418,141.8682449846606,139.35237088224616,140.73483043649358,140.4045635227478,139.9480228045956,138.93524300297895,141.65743299241979,141.9256078649721,138.54253129290032,135.69127161198477,135.0054816431226,135.19302661672506,131.28980708886013,131.82640749503534,128.5585723107681,130.29426968826087,131.96011685268215,132.808562452873,134.96371449549636,133.81169449632063,138.3035043331812,143.221664124333,145.53027647061097,147.63176935007505,149.39621341585683,153.00307716438004,158.01469703971676,165.94999535125265,163.89278563293672,162.2885072559934,166.6796879901266,171.16926608570648,169.91162917236778,168.69396934239475,167.79512240916782,169.108872986154,165.95637012146443,162.12169936581526,161.57690945058968,159.6975023505596,159.29507747294676,158.6374817263236,161.1396298436818,163.89057081971285,163.81506142855633,165.16337905269307,166.54874741914216,170.67376619806726,165.3481506102101,163.85125105309976,162.46141216122356,161.4067214059638,162.23232700628407,159.06734968767157,161.25613481885512,163.3184673726221,164.11843698489,165.19569670056893,161.86604129284322,154.56685865627324,155.8720181420951,159.61361067337484,159.81354970026723,163.88497333020132,160.4053919011609],\"type\":\"scatter\"}],                        {\"height\":600,\"legend\":{\"bgcolor\":\"#F5F6F9\",\"font\":{\"color\":\"#4D5663\"}},\"paper_bgcolor\":\"#F5F6F9\",\"plot_bgcolor\":\"#F5F6F9\",\"template\":{\"data\":{\"barpolar\":[{\"marker\":{\"line\":{\"color\":\"#E5ECF6\",\"width\":0.5},\"pattern\":{\"fillmode\":\"overlay\",\"size\":10,\"solidity\":0.2}},\"type\":\"barpolar\"}],\"bar\":[{\"error_x\":{\"color\":\"#2a3f5f\"},\"error_y\":{\"color\":\"#2a3f5f\"},\"marker\":{\"line\":{\"color\":\"#E5ECF6\",\"width\":0.5},\"pattern\":{\"fillmode\":\"overlay\",\"size\":10,\"solidity\":0.2}},\"type\":\"bar\"}],\"carpet\":[{\"aaxis\":{\"endlinecolor\":\"#2a3f5f\",\"gridcolor\":\"white\",\"linecolor\":\"white\",\"minorgridcolor\":\"white\",\"startlinecolor\":\"#2a3f5f\"},\"baxis\":{\"endlinecolor\":\"#2a3f5f\",\"gridcolor\":\"white\",\"linecolor\":\"white\",\"minorgridcolor\":\"white\",\"startlinecolor\":\"#2a3f5f\"},\"type\":\"carpet\"}],\"choropleth\":[{\"colorbar\":{\"outlinewidth\":0,\"ticks\":\"\"},\"type\":\"choropleth\"}],\"contourcarpet\":[{\"colorbar\":{\"outlinewidth\":0,\"ticks\":\"\"},\"type\":\"contourcarpet\"}],\"contour\":[{\"colorbar\":{\"outlinewidth\":0,\"ticks\":\"\"},\"colorscale\":[[0.0,\"#0d0887\"],[0.1111111111111111,\"#46039f\"],[0.2222222222222222,\"#7201a8\"],[0.3333333333333333,\"#9c179e\"],[0.4444444444444444,\"#bd3786\"],[0.5555555555555556,\"#d8576b\"],[0.6666666666666666,\"#ed7953\"],[0.7777777777777778,\"#fb9f3a\"],[0.8888888888888888,\"#fdca26\"],[1.0,\"#f0f921\"]],\"type\":\"contour\"}],\"heatmapgl\":[{\"colorbar\":{\"outlinewidth\":0,\"ticks\":\"\"},\"colorscale\":[[0.0,\"#0d0887\"],[0.1111111111111111,\"#46039f\"],[0.2222222222222222,\"#7201a8\"],[0.3333333333333333,\"#9c179e\"],[0.4444444444444444,\"#bd3786\"],[0.5555555555555556,\"#d8576b\"],[0.6666666666666666,\"#ed7953\"],[0.7777777777777778,\"#fb9f3a\"],[0.8888888888888888,\"#fdca26\"],[1.0,\"#f0f921\"]],\"type\":\"heatmapgl\"}],\"heatmap\":[{\"colorbar\":{\"outlinewidth\":0,\"ticks\":\"\"},\"colorscale\":[[0.0,\"#0d0887\"],[0.1111111111111111,\"#46039f\"],[0.2222222222222222,\"#7201a8\"],[0.3333333333333333,\"#9c179e\"],[0.4444444444444444,\"#bd3786\"],[0.5555555555555556,\"#d8576b\"],[0.6666666666666666,\"#ed7953\"],[0.7777777777777778,\"#fb9f3a\"],[0.8888888888888888,\"#fdca26\"],[1.0,\"#f0f921\"]],\"type\":\"heatmap\"}],\"histogram2dcontour\":[{\"colorbar\":{\"outlinewidth\":0,\"ticks\":\"\"},\"colorscale\":[[0.0,\"#0d0887\"],[0.1111111111111111,\"#46039f\"],[0.2222222222222222,\"#7201a8\"],[0.3333333333333333,\"#9c179e\"],[0.4444444444444444,\"#bd3786\"],[0.5555555555555556,\"#d8576b\"],[0.6666666666666666,\"#ed7953\"],[0.7777777777777778,\"#fb9f3a\"],[0.8888888888888888,\"#fdca26\"],[1.0,\"#f0f921\"]],\"type\":\"histogram2dcontour\"}],\"histogram2d\":[{\"colorbar\":{\"outlinewidth\":0,\"ticks\":\"\"},\"colorscale\":[[0.0,\"#0d0887\"],[0.1111111111111111,\"#46039f\"],[0.2222222222222222,\"#7201a8\"],[0.3333333333333333,\"#9c179e\"],[0.4444444444444444,\"#bd3786\"],[0.5555555555555556,\"#d8576b\"],[0.6666666666666666,\"#ed7953\"],[0.7777777777777778,\"#fb9f3a\"],[0.8888888888888888,\"#fdca26\"],[1.0,\"#f0f921\"]],\"type\":\"histogram2d\"}],\"histogram\":[{\"marker\":{\"pattern\":{\"fillmode\":\"overlay\",\"size\":10,\"solidity\":0.2}},\"type\":\"histogram\"}],\"mesh3d\":[{\"colorbar\":{\"outlinewidth\":0,\"ticks\":\"\"},\"type\":\"mesh3d\"}],\"parcoords\":[{\"line\":{\"colorbar\":{\"outlinewidth\":0,\"ticks\":\"\"}},\"type\":\"parcoords\"}],\"pie\":[{\"automargin\":true,\"type\":\"pie\"}],\"scatter3d\":[{\"line\":{\"colorbar\":{\"outlinewidth\":0,\"ticks\":\"\"}},\"marker\":{\"colorbar\":{\"outlinewidth\":0,\"ticks\":\"\"}},\"type\":\"scatter3d\"}],\"scattercarpet\":[{\"marker\":{\"colorbar\":{\"outlinewidth\":0,\"ticks\":\"\"}},\"type\":\"scattercarpet\"}],\"scattergeo\":[{\"marker\":{\"colorbar\":{\"outlinewidth\":0,\"ticks\":\"\"}},\"type\":\"scattergeo\"}],\"scattergl\":[{\"marker\":{\"colorbar\":{\"outlinewidth\":0,\"ticks\":\"\"}},\"type\":\"scattergl\"}],\"scattermapbox\":[{\"marker\":{\"colorbar\":{\"outlinewidth\":0,\"ticks\":\"\"}},\"type\":\"scattermapbox\"}],\"scatterpolargl\":[{\"marker\":{\"colorbar\":{\"outlinewidth\":0,\"ticks\":\"\"}},\"type\":\"scatterpolargl\"}],\"scatterpolar\":[{\"marker\":{\"colorbar\":{\"outlinewidth\":0,\"ticks\":\"\"}},\"type\":\"scatterpolar\"}],\"scatter\":[{\"fillpattern\":{\"fillmode\":\"overlay\",\"size\":10,\"solidity\":0.2},\"type\":\"scatter\"}],\"scatterternary\":[{\"marker\":{\"colorbar\":{\"outlinewidth\":0,\"ticks\":\"\"}},\"type\":\"scatterternary\"}],\"surface\":[{\"colorbar\":{\"outlinewidth\":0,\"ticks\":\"\"},\"colorscale\":[[0.0,\"#0d0887\"],[0.1111111111111111,\"#46039f\"],[0.2222222222222222,\"#7201a8\"],[0.3333333333333333,\"#9c179e\"],[0.4444444444444444,\"#bd3786\"],[0.5555555555555556,\"#d8576b\"],[0.6666666666666666,\"#ed7953\"],[0.7777777777777778,\"#fb9f3a\"],[0.8888888888888888,\"#fdca26\"],[1.0,\"#f0f921\"]],\"type\":\"surface\"}],\"table\":[{\"cells\":{\"fill\":{\"color\":\"#EBF0F8\"},\"line\":{\"color\":\"white\"}},\"header\":{\"fill\":{\"color\":\"#C8D4E3\"},\"line\":{\"color\":\"white\"}},\"type\":\"table\"}]},\"layout\":{\"annotationdefaults\":{\"arrowcolor\":\"#2a3f5f\",\"arrowhead\":0,\"arrowwidth\":1},\"autotypenumbers\":\"strict\",\"coloraxis\":{\"colorbar\":{\"outlinewidth\":0,\"ticks\":\"\"}},\"colorscale\":{\"diverging\":[[0,\"#8e0152\"],[0.1,\"#c51b7d\"],[0.2,\"#de77ae\"],[0.3,\"#f1b6da\"],[0.4,\"#fde0ef\"],[0.5,\"#f7f7f7\"],[0.6,\"#e6f5d0\"],[0.7,\"#b8e186\"],[0.8,\"#7fbc41\"],[0.9,\"#4d9221\"],[1,\"#276419\"]],\"sequential\":[[0.0,\"#0d0887\"],[0.1111111111111111,\"#46039f\"],[0.2222222222222222,\"#7201a8\"],[0.3333333333333333,\"#9c179e\"],[0.4444444444444444,\"#bd3786\"],[0.5555555555555556,\"#d8576b\"],[0.6666666666666666,\"#ed7953\"],[0.7777777777777778,\"#fb9f3a\"],[0.8888888888888888,\"#fdca26\"],[1.0,\"#f0f921\"]],\"sequentialminus\":[[0.0,\"#0d0887\"],[0.1111111111111111,\"#46039f\"],[0.2222222222222222,\"#7201a8\"],[0.3333333333333333,\"#9c179e\"],[0.4444444444444444,\"#bd3786\"],[0.5555555555555556,\"#d8576b\"],[0.6666666666666666,\"#ed7953\"],[0.7777777777777778,\"#fb9f3a\"],[0.8888888888888888,\"#fdca26\"],[1.0,\"#f0f921\"]]},\"colorway\":[\"#636efa\",\"#EF553B\",\"#00cc96\",\"#ab63fa\",\"#FFA15A\",\"#19d3f3\",\"#FF6692\",\"#B6E880\",\"#FF97FF\",\"#FECB52\"],\"font\":{\"color\":\"#2a3f5f\"},\"geo\":{\"bgcolor\":\"white\",\"lakecolor\":\"white\",\"landcolor\":\"#E5ECF6\",\"showlakes\":true,\"showland\":true,\"subunitcolor\":\"white\"},\"hoverlabel\":{\"align\":\"left\"},\"hovermode\":\"closest\",\"mapbox\":{\"style\":\"light\"},\"paper_bgcolor\":\"white\",\"plot_bgcolor\":\"#E5ECF6\",\"polar\":{\"angularaxis\":{\"gridcolor\":\"white\",\"linecolor\":\"white\",\"ticks\":\"\"},\"bgcolor\":\"#E5ECF6\",\"radialaxis\":{\"gridcolor\":\"white\",\"linecolor\":\"white\",\"ticks\":\"\"}},\"scene\":{\"xaxis\":{\"backgroundcolor\":\"#E5ECF6\",\"gridcolor\":\"white\",\"gridwidth\":2,\"linecolor\":\"white\",\"showbackground\":true,\"ticks\":\"\",\"zerolinecolor\":\"white\"},\"yaxis\":{\"backgroundcolor\":\"#E5ECF6\",\"gridcolor\":\"white\",\"gridwidth\":2,\"linecolor\":\"white\",\"showbackground\":true,\"ticks\":\"\",\"zerolinecolor\":\"white\"},\"zaxis\":{\"backgroundcolor\":\"#E5ECF6\",\"gridcolor\":\"white\",\"gridwidth\":2,\"linecolor\":\"white\",\"showbackground\":true,\"ticks\":\"\",\"zerolinecolor\":\"white\"}},\"shapedefaults\":{\"line\":{\"color\":\"#2a3f5f\"}},\"ternary\":{\"aaxis\":{\"gridcolor\":\"white\",\"linecolor\":\"white\",\"ticks\":\"\"},\"baxis\":{\"gridcolor\":\"white\",\"linecolor\":\"white\",\"ticks\":\"\"},\"bgcolor\":\"#E5ECF6\",\"caxis\":{\"gridcolor\":\"white\",\"linecolor\":\"white\",\"ticks\":\"\"}},\"title\":{\"x\":0.05},\"xaxis\":{\"automargin\":true,\"gridcolor\":\"white\",\"linecolor\":\"white\",\"ticks\":\"\",\"title\":{\"standoff\":15},\"zerolinecolor\":\"white\",\"zerolinewidth\":2},\"yaxis\":{\"automargin\":true,\"gridcolor\":\"white\",\"linecolor\":\"white\",\"ticks\":\"\",\"title\":{\"standoff\":15},\"zerolinecolor\":\"white\",\"zerolinewidth\":2}}},\"title\":{\"font\":{\"color\":\"#4D5663\"}},\"width\":1000,\"xaxis\":{\"gridcolor\":\"#E1E5ED\",\"showgrid\":true,\"tickfont\":{\"color\":\"#4D5663\"},\"title\":{\"font\":{\"color\":\"#4D5663\"},\"text\":\"\"},\"zerolinecolor\":\"#E1E5ED\"},\"yaxis\":{\"gridcolor\":\"#E1E5ED\",\"showgrid\":true,\"tickfont\":{\"color\":\"#4D5663\"},\"title\":{\"font\":{\"color\":\"#4D5663\"},\"text\":\"\"},\"zerolinecolor\":\"#E1E5ED\"}},                        {\"showLink\": true, \"linkText\": \"Export to plot.ly\", \"plotlyServerURL\": \"https://plot.ly\", \"responsive\": true}                    ).then(function(){\n",
       "                            \n",
       "var gd = document.getElementById('795ba10a-decc-4fb1-bac8-97a43707913a');\n",
       "var x = new MutationObserver(function (mutations, observer) {{\n",
       "        var display = window.getComputedStyle(gd).display;\n",
       "        if (!display || display === 'none') {{\n",
       "            console.log([gd, 'removed!']);\n",
       "            Plotly.purge(gd);\n",
       "            observer.disconnect();\n",
       "        }}\n",
       "}});\n",
       "\n",
       "// Listen for the removal of the full notebook cells\n",
       "var notebookContainer = gd.closest('#notebook-container');\n",
       "if (notebookContainer) {{\n",
       "    x.observe(notebookContainer, {childList: true});\n",
       "}}\n",
       "\n",
       "// Listen for the clearing of the current output cell\n",
       "var outputEl = gd.closest('.output');\n",
       "if (outputEl) {{\n",
       "    x.observe(outputEl, {childList: true});\n",
       "}}\n",
       "\n",
       "                        })                };                });            </script>        </div>"
      ]
     },
     "metadata": {},
     "output_type": "display_data"
    }
   ],
   "source": [
    "ls_position = (proba.rank(axis=1) >= (len(proba.columns) - 1)).astype(int) - (proba.rank(axis=1) <= 2).astype(int)\n",
    "ls_pnl = (ls_position * y_train).sum(axis=1)\n",
    "print(sqrt(12)*ls_pnl.mean()/ls_pnl.std())\n",
    "ls_pnl.cumsum().iplot()"
   ]
  },
  {
   "cell_type": "code",
   "execution_count": 265,
   "metadata": {},
   "outputs": [
    {
     "name": "stdout",
     "output_type": "stream",
     "text": [
      "Test Set ROC-AUC Score: 0.522\n",
      "              precision    recall  f1-score   support\n",
      "\n",
      "           0       0.59      0.46      0.52       217\n",
      "           1       0.46      0.58      0.51       168\n",
      "\n",
      "    accuracy                           0.51       385\n",
      "   macro avg       0.52      0.52      0.51       385\n",
      "weighted avg       0.53      0.51      0.51       385\n",
      "\n"
     ]
    }
   ],
   "source": [
    "print (\"Test Set ROC-AUC Score: %.3f\" % roc_auc_score(labels_test, pipeline.predict(X_test_flat)))\n",
    "print(classification_report(labels_test, pipeline.predict(X_test_flat)))"
   ]
  },
  {
   "cell_type": "code",
   "execution_count": 264,
   "metadata": {},
   "outputs": [
    {
     "name": "stderr",
     "output_type": "stream",
     "text": [
      "/opt/anaconda3/lib/python3.8/site-packages/sklearn/base.py:439: UserWarning:\n",
      "\n",
      "X does not have valid feature names, but SVC was fitted with feature names\n",
      "\n",
      "/opt/anaconda3/lib/python3.8/site-packages/sklearn/base.py:439: UserWarning:\n",
      "\n",
      "X does not have valid feature names, but SVC was fitted with feature names\n",
      "\n",
      "/opt/anaconda3/lib/python3.8/site-packages/sklearn/base.py:439: UserWarning:\n",
      "\n",
      "X does not have valid feature names, but SVC was fitted with feature names\n",
      "\n",
      "/opt/anaconda3/lib/python3.8/site-packages/sklearn/base.py:439: UserWarning:\n",
      "\n",
      "X does not have valid feature names, but SVC was fitted with feature names\n",
      "\n",
      "/opt/anaconda3/lib/python3.8/site-packages/sklearn/base.py:439: UserWarning:\n",
      "\n",
      "X does not have valid feature names, but SVC was fitted with feature names\n",
      "\n",
      "/opt/anaconda3/lib/python3.8/site-packages/sklearn/base.py:439: UserWarning:\n",
      "\n",
      "X does not have valid feature names, but SVC was fitted with feature names\n",
      "\n",
      "/opt/anaconda3/lib/python3.8/site-packages/sklearn/base.py:439: UserWarning:\n",
      "\n",
      "X does not have valid feature names, but SVC was fitted with feature names\n",
      "\n",
      "/opt/anaconda3/lib/python3.8/site-packages/sklearn/base.py:439: UserWarning:\n",
      "\n",
      "X does not have valid feature names, but SVC was fitted with feature names\n",
      "\n",
      "/opt/anaconda3/lib/python3.8/site-packages/sklearn/base.py:439: UserWarning:\n",
      "\n",
      "X does not have valid feature names, but SVC was fitted with feature names\n",
      "\n",
      "/opt/anaconda3/lib/python3.8/site-packages/sklearn/base.py:439: UserWarning:\n",
      "\n",
      "X does not have valid feature names, but SVC was fitted with feature names\n",
      "\n",
      "/opt/anaconda3/lib/python3.8/site-packages/sklearn/base.py:439: UserWarning:\n",
      "\n",
      "X does not have valid feature names, but SVC was fitted with feature names\n",
      "\n"
     ]
    },
    {
     "name": "stdout",
     "output_type": "stream",
     "text": [
      "0.7242794010833719\n",
      "-0.03015303936240962\n"
     ]
    },
    {
     "name": "stderr",
     "output_type": "stream",
     "text": [
      "/opt/anaconda3/lib/python3.8/site-packages/sklearn/base.py:439: UserWarning:\n",
      "\n",
      "X does not have valid feature names, but SVC was fitted with feature names\n",
      "\n",
      "/opt/anaconda3/lib/python3.8/site-packages/sklearn/base.py:439: UserWarning:\n",
      "\n",
      "X does not have valid feature names, but SVC was fitted with feature names\n",
      "\n",
      "/opt/anaconda3/lib/python3.8/site-packages/sklearn/base.py:439: UserWarning:\n",
      "\n",
      "X does not have valid feature names, but SVC was fitted with feature names\n",
      "\n"
     ]
    },
    {
     "data": {
      "application/vnd.plotly.v1+json": {
       "config": {
        "linkText": "Export to plot.ly",
        "plotlyServerURL": "https://plot.ly",
        "showLink": true
       },
       "data": [
        {
         "line": {
          "color": "rgba(255, 153, 51, 1.0)",
          "dash": "solid",
          "shape": "linear",
          "width": 1.3
         },
         "mode": "lines",
         "name": "0",
         "text": "",
         "type": "scatter",
         "x": [
          "2019-05-31",
          "2019-06-28",
          "2019-07-31",
          "2019-08-30",
          "2019-09-30",
          "2019-10-31",
          "2019-11-29",
          "2019-12-31",
          "2020-01-31",
          "2020-02-28",
          "2020-03-31",
          "2020-04-30",
          "2020-05-29",
          "2020-06-30",
          "2020-07-31",
          "2020-08-31",
          "2020-09-30",
          "2020-10-30",
          "2020-11-30",
          "2020-12-31",
          "2021-01-29",
          "2021-02-26",
          "2021-03-31",
          "2021-04-30",
          "2021-06-30",
          "2021-07-30",
          "2021-08-31",
          "2021-09-30",
          "2021-10-29",
          "2021-11-30",
          "2021-12-31",
          "2022-01-31",
          "2022-02-28",
          "2022-03-31",
          "2022-04-29",
          "2022-05-31",
          "2022-06-30",
          "2022-07-29",
          "2022-08-31",
          "2022-09-30",
          "2022-10-31",
          "2022-11-30",
          "2022-12-30",
          "2023-01-31",
          "2023-02-28",
          "2023-03-31",
          "2023-04-28",
          "2023-05-31",
          "2023-06-30",
          "2023-07-31",
          "2023-08-31",
          "2023-09-29",
          "2023-10-31",
          "2023-11-30",
          "2023-12-29"
         ],
         "y": [
          -2.862687034772123,
          -0.5632955741685324,
          -0.5411959011131051,
          0.38696725992282843,
          7.349023304867967,
          9.271036975564996,
          11.578004200586356,
          16.7150477590258,
          13.75239088342182,
          -3.5510986905912016,
          -3.5510986905912016,
          -3.5510986905912016,
          -6.1808802835628835,
          2.7326528146507716,
          6.260521662358193,
          14.635424563327103,
          16.317610749038465,
          32.10165092862033,
          36.65369384673669,
          40.19187983861538,
          38.37290151525186,
          43.782480563078266,
          50.94380637084022,
          49.44360195644093,
          47.479111770930274,
          46.44327985211707,
          46.949990285844635,
          49.838584131040975,
          46.988471814548284,
          52.024363805806544,
          52.18406624236807,
          53.195480580927494,
          50.22048468061888,
          50.011259588008336,
          50.011259588008336,
          48.922808601172065,
          53.33937392322102,
          54.60905585793358,
          52.62514462929076,
          52.62514462929076,
          41.292273139461074,
          41.292273139461074,
          45.20824644226669,
          47.513026250811414,
          41.45818303469239,
          42.53970185631395,
          42.53970185631395,
          45.47596068734601,
          38.39746367310519,
          51.28486247417288,
          66.3066093827687,
          66.54786368316745,
          59.31385656107342,
          53.41154264382256,
          67.82690661149333
         ]
        },
        {
         "line": {
          "color": "rgba(55, 128, 191, 1.0)",
          "dash": "solid",
          "shape": "linear",
          "width": 1.3
         },
         "mode": "lines",
         "name": "1",
         "text": "",
         "type": "scatter",
         "x": [
          "2019-05-31",
          "2019-06-28",
          "2019-07-31",
          "2019-08-30",
          "2019-09-30",
          "2019-10-31",
          "2019-11-29",
          "2019-12-31",
          "2020-01-31",
          "2020-02-28",
          "2020-03-31",
          "2020-04-30",
          "2020-05-29",
          "2020-06-30",
          "2020-07-31",
          "2020-08-31",
          "2020-09-30",
          "2020-10-30",
          "2020-11-30",
          "2020-12-31",
          "2021-01-29",
          "2021-02-26",
          "2021-03-31",
          "2021-04-30",
          "2021-06-30",
          "2021-07-30",
          "2021-08-31",
          "2021-09-30",
          "2021-10-29",
          "2021-11-30",
          "2021-12-31",
          "2022-01-31",
          "2022-02-28",
          "2022-03-31",
          "2022-04-29",
          "2022-05-31",
          "2022-06-30",
          "2022-07-29",
          "2022-08-31",
          "2022-09-30",
          "2022-10-31",
          "2022-11-30",
          "2022-12-30",
          "2023-01-31",
          "2023-02-28",
          "2023-03-31",
          "2023-04-28",
          "2023-05-31",
          "2023-06-30",
          "2023-07-31",
          "2023-08-31",
          "2023-09-29",
          "2023-10-31",
          "2023-11-30",
          "2023-12-29"
         ],
         "y": [
          -1.47637209135703,
          -0.8548476972544661,
          -7.902916073539663,
          0.5998301178392946,
          7.561886162784433,
          16.75721001084073,
          17.26508881464479,
          23.523030564043637,
          12.578131779987942,
          -74.39925775690853,
          -51.9695591960853,
          -58.81447611748464,
          -68.89223120601795,
          -57.09876368530949,
          -54.32859157938956,
          -46.14468489906946,
          -42.01909579756045,
          -26.235055617978592,
          -19.88247205073952,
          -14.182460189125822,
          -17.118837773670393,
          -11.709258725843991,
          -3.9736572337218776,
          -9.920432368066042,
          -11.492880715452428,
          -12.786924900038176,
          -10.962272128368387,
          -1.581375114384322,
          -6.112767510713351,
          6.6884291865174355,
          -0.4887049917895112,
          1.5502184779454282,
          -2.5158759527738024,
          -1.7282933571217596,
          -10.352680421159942,
          -28.007283331381796,
          -19.4749121046163,
          -20.30862647842178,
          -35.486658687166425,
          -33.13374015664408,
          -55.40018472528753,
          -47.066656333040775,
          -42.387812955883575,
          -37.329390779546785,
          -41.55988883220384,
          -33.9458928263297,
          -33.20599632925165,
          -29.628178317951708,
          -38.70965842224463,
          -25.82225962117694,
          -10.800512712581117,
          -10.559258412182366,
          -17.793265534276397,
          -23.719525910311134,
          -7.108686504210965
         ]
        }
       ],
       "layout": {
        "height": 600,
        "legend": {
         "bgcolor": "#F5F6F9",
         "font": {
          "color": "#4D5663"
         }
        },
        "paper_bgcolor": "#F5F6F9",
        "plot_bgcolor": "#F5F6F9",
        "template": {
         "data": {
          "bar": [
           {
            "error_x": {
             "color": "#2a3f5f"
            },
            "error_y": {
             "color": "#2a3f5f"
            },
            "marker": {
             "line": {
              "color": "#E5ECF6",
              "width": 0.5
             },
             "pattern": {
              "fillmode": "overlay",
              "size": 10,
              "solidity": 0.2
             }
            },
            "type": "bar"
           }
          ],
          "barpolar": [
           {
            "marker": {
             "line": {
              "color": "#E5ECF6",
              "width": 0.5
             },
             "pattern": {
              "fillmode": "overlay",
              "size": 10,
              "solidity": 0.2
             }
            },
            "type": "barpolar"
           }
          ],
          "carpet": [
           {
            "aaxis": {
             "endlinecolor": "#2a3f5f",
             "gridcolor": "white",
             "linecolor": "white",
             "minorgridcolor": "white",
             "startlinecolor": "#2a3f5f"
            },
            "baxis": {
             "endlinecolor": "#2a3f5f",
             "gridcolor": "white",
             "linecolor": "white",
             "minorgridcolor": "white",
             "startlinecolor": "#2a3f5f"
            },
            "type": "carpet"
           }
          ],
          "choropleth": [
           {
            "colorbar": {
             "outlinewidth": 0,
             "ticks": ""
            },
            "type": "choropleth"
           }
          ],
          "contour": [
           {
            "colorbar": {
             "outlinewidth": 0,
             "ticks": ""
            },
            "colorscale": [
             [
              0,
              "#0d0887"
             ],
             [
              0.1111111111111111,
              "#46039f"
             ],
             [
              0.2222222222222222,
              "#7201a8"
             ],
             [
              0.3333333333333333,
              "#9c179e"
             ],
             [
              0.4444444444444444,
              "#bd3786"
             ],
             [
              0.5555555555555556,
              "#d8576b"
             ],
             [
              0.6666666666666666,
              "#ed7953"
             ],
             [
              0.7777777777777778,
              "#fb9f3a"
             ],
             [
              0.8888888888888888,
              "#fdca26"
             ],
             [
              1,
              "#f0f921"
             ]
            ],
            "type": "contour"
           }
          ],
          "contourcarpet": [
           {
            "colorbar": {
             "outlinewidth": 0,
             "ticks": ""
            },
            "type": "contourcarpet"
           }
          ],
          "heatmap": [
           {
            "colorbar": {
             "outlinewidth": 0,
             "ticks": ""
            },
            "colorscale": [
             [
              0,
              "#0d0887"
             ],
             [
              0.1111111111111111,
              "#46039f"
             ],
             [
              0.2222222222222222,
              "#7201a8"
             ],
             [
              0.3333333333333333,
              "#9c179e"
             ],
             [
              0.4444444444444444,
              "#bd3786"
             ],
             [
              0.5555555555555556,
              "#d8576b"
             ],
             [
              0.6666666666666666,
              "#ed7953"
             ],
             [
              0.7777777777777778,
              "#fb9f3a"
             ],
             [
              0.8888888888888888,
              "#fdca26"
             ],
             [
              1,
              "#f0f921"
             ]
            ],
            "type": "heatmap"
           }
          ],
          "heatmapgl": [
           {
            "colorbar": {
             "outlinewidth": 0,
             "ticks": ""
            },
            "colorscale": [
             [
              0,
              "#0d0887"
             ],
             [
              0.1111111111111111,
              "#46039f"
             ],
             [
              0.2222222222222222,
              "#7201a8"
             ],
             [
              0.3333333333333333,
              "#9c179e"
             ],
             [
              0.4444444444444444,
              "#bd3786"
             ],
             [
              0.5555555555555556,
              "#d8576b"
             ],
             [
              0.6666666666666666,
              "#ed7953"
             ],
             [
              0.7777777777777778,
              "#fb9f3a"
             ],
             [
              0.8888888888888888,
              "#fdca26"
             ],
             [
              1,
              "#f0f921"
             ]
            ],
            "type": "heatmapgl"
           }
          ],
          "histogram": [
           {
            "marker": {
             "pattern": {
              "fillmode": "overlay",
              "size": 10,
              "solidity": 0.2
             }
            },
            "type": "histogram"
           }
          ],
          "histogram2d": [
           {
            "colorbar": {
             "outlinewidth": 0,
             "ticks": ""
            },
            "colorscale": [
             [
              0,
              "#0d0887"
             ],
             [
              0.1111111111111111,
              "#46039f"
             ],
             [
              0.2222222222222222,
              "#7201a8"
             ],
             [
              0.3333333333333333,
              "#9c179e"
             ],
             [
              0.4444444444444444,
              "#bd3786"
             ],
             [
              0.5555555555555556,
              "#d8576b"
             ],
             [
              0.6666666666666666,
              "#ed7953"
             ],
             [
              0.7777777777777778,
              "#fb9f3a"
             ],
             [
              0.8888888888888888,
              "#fdca26"
             ],
             [
              1,
              "#f0f921"
             ]
            ],
            "type": "histogram2d"
           }
          ],
          "histogram2dcontour": [
           {
            "colorbar": {
             "outlinewidth": 0,
             "ticks": ""
            },
            "colorscale": [
             [
              0,
              "#0d0887"
             ],
             [
              0.1111111111111111,
              "#46039f"
             ],
             [
              0.2222222222222222,
              "#7201a8"
             ],
             [
              0.3333333333333333,
              "#9c179e"
             ],
             [
              0.4444444444444444,
              "#bd3786"
             ],
             [
              0.5555555555555556,
              "#d8576b"
             ],
             [
              0.6666666666666666,
              "#ed7953"
             ],
             [
              0.7777777777777778,
              "#fb9f3a"
             ],
             [
              0.8888888888888888,
              "#fdca26"
             ],
             [
              1,
              "#f0f921"
             ]
            ],
            "type": "histogram2dcontour"
           }
          ],
          "mesh3d": [
           {
            "colorbar": {
             "outlinewidth": 0,
             "ticks": ""
            },
            "type": "mesh3d"
           }
          ],
          "parcoords": [
           {
            "line": {
             "colorbar": {
              "outlinewidth": 0,
              "ticks": ""
             }
            },
            "type": "parcoords"
           }
          ],
          "pie": [
           {
            "automargin": true,
            "type": "pie"
           }
          ],
          "scatter": [
           {
            "fillpattern": {
             "fillmode": "overlay",
             "size": 10,
             "solidity": 0.2
            },
            "type": "scatter"
           }
          ],
          "scatter3d": [
           {
            "line": {
             "colorbar": {
              "outlinewidth": 0,
              "ticks": ""
             }
            },
            "marker": {
             "colorbar": {
              "outlinewidth": 0,
              "ticks": ""
             }
            },
            "type": "scatter3d"
           }
          ],
          "scattercarpet": [
           {
            "marker": {
             "colorbar": {
              "outlinewidth": 0,
              "ticks": ""
             }
            },
            "type": "scattercarpet"
           }
          ],
          "scattergeo": [
           {
            "marker": {
             "colorbar": {
              "outlinewidth": 0,
              "ticks": ""
             }
            },
            "type": "scattergeo"
           }
          ],
          "scattergl": [
           {
            "marker": {
             "colorbar": {
              "outlinewidth": 0,
              "ticks": ""
             }
            },
            "type": "scattergl"
           }
          ],
          "scattermapbox": [
           {
            "marker": {
             "colorbar": {
              "outlinewidth": 0,
              "ticks": ""
             }
            },
            "type": "scattermapbox"
           }
          ],
          "scatterpolar": [
           {
            "marker": {
             "colorbar": {
              "outlinewidth": 0,
              "ticks": ""
             }
            },
            "type": "scatterpolar"
           }
          ],
          "scatterpolargl": [
           {
            "marker": {
             "colorbar": {
              "outlinewidth": 0,
              "ticks": ""
             }
            },
            "type": "scatterpolargl"
           }
          ],
          "scatterternary": [
           {
            "marker": {
             "colorbar": {
              "outlinewidth": 0,
              "ticks": ""
             }
            },
            "type": "scatterternary"
           }
          ],
          "surface": [
           {
            "colorbar": {
             "outlinewidth": 0,
             "ticks": ""
            },
            "colorscale": [
             [
              0,
              "#0d0887"
             ],
             [
              0.1111111111111111,
              "#46039f"
             ],
             [
              0.2222222222222222,
              "#7201a8"
             ],
             [
              0.3333333333333333,
              "#9c179e"
             ],
             [
              0.4444444444444444,
              "#bd3786"
             ],
             [
              0.5555555555555556,
              "#d8576b"
             ],
             [
              0.6666666666666666,
              "#ed7953"
             ],
             [
              0.7777777777777778,
              "#fb9f3a"
             ],
             [
              0.8888888888888888,
              "#fdca26"
             ],
             [
              1,
              "#f0f921"
             ]
            ],
            "type": "surface"
           }
          ],
          "table": [
           {
            "cells": {
             "fill": {
              "color": "#EBF0F8"
             },
             "line": {
              "color": "white"
             }
            },
            "header": {
             "fill": {
              "color": "#C8D4E3"
             },
             "line": {
              "color": "white"
             }
            },
            "type": "table"
           }
          ]
         },
         "layout": {
          "annotationdefaults": {
           "arrowcolor": "#2a3f5f",
           "arrowhead": 0,
           "arrowwidth": 1
          },
          "autotypenumbers": "strict",
          "coloraxis": {
           "colorbar": {
            "outlinewidth": 0,
            "ticks": ""
           }
          },
          "colorscale": {
           "diverging": [
            [
             0,
             "#8e0152"
            ],
            [
             0.1,
             "#c51b7d"
            ],
            [
             0.2,
             "#de77ae"
            ],
            [
             0.3,
             "#f1b6da"
            ],
            [
             0.4,
             "#fde0ef"
            ],
            [
             0.5,
             "#f7f7f7"
            ],
            [
             0.6,
             "#e6f5d0"
            ],
            [
             0.7,
             "#b8e186"
            ],
            [
             0.8,
             "#7fbc41"
            ],
            [
             0.9,
             "#4d9221"
            ],
            [
             1,
             "#276419"
            ]
           ],
           "sequential": [
            [
             0,
             "#0d0887"
            ],
            [
             0.1111111111111111,
             "#46039f"
            ],
            [
             0.2222222222222222,
             "#7201a8"
            ],
            [
             0.3333333333333333,
             "#9c179e"
            ],
            [
             0.4444444444444444,
             "#bd3786"
            ],
            [
             0.5555555555555556,
             "#d8576b"
            ],
            [
             0.6666666666666666,
             "#ed7953"
            ],
            [
             0.7777777777777778,
             "#fb9f3a"
            ],
            [
             0.8888888888888888,
             "#fdca26"
            ],
            [
             1,
             "#f0f921"
            ]
           ],
           "sequentialminus": [
            [
             0,
             "#0d0887"
            ],
            [
             0.1111111111111111,
             "#46039f"
            ],
            [
             0.2222222222222222,
             "#7201a8"
            ],
            [
             0.3333333333333333,
             "#9c179e"
            ],
            [
             0.4444444444444444,
             "#bd3786"
            ],
            [
             0.5555555555555556,
             "#d8576b"
            ],
            [
             0.6666666666666666,
             "#ed7953"
            ],
            [
             0.7777777777777778,
             "#fb9f3a"
            ],
            [
             0.8888888888888888,
             "#fdca26"
            ],
            [
             1,
             "#f0f921"
            ]
           ]
          },
          "colorway": [
           "#636efa",
           "#EF553B",
           "#00cc96",
           "#ab63fa",
           "#FFA15A",
           "#19d3f3",
           "#FF6692",
           "#B6E880",
           "#FF97FF",
           "#FECB52"
          ],
          "font": {
           "color": "#2a3f5f"
          },
          "geo": {
           "bgcolor": "white",
           "lakecolor": "white",
           "landcolor": "#E5ECF6",
           "showlakes": true,
           "showland": true,
           "subunitcolor": "white"
          },
          "hoverlabel": {
           "align": "left"
          },
          "hovermode": "closest",
          "mapbox": {
           "style": "light"
          },
          "paper_bgcolor": "white",
          "plot_bgcolor": "#E5ECF6",
          "polar": {
           "angularaxis": {
            "gridcolor": "white",
            "linecolor": "white",
            "ticks": ""
           },
           "bgcolor": "#E5ECF6",
           "radialaxis": {
            "gridcolor": "white",
            "linecolor": "white",
            "ticks": ""
           }
          },
          "scene": {
           "xaxis": {
            "backgroundcolor": "#E5ECF6",
            "gridcolor": "white",
            "gridwidth": 2,
            "linecolor": "white",
            "showbackground": true,
            "ticks": "",
            "zerolinecolor": "white"
           },
           "yaxis": {
            "backgroundcolor": "#E5ECF6",
            "gridcolor": "white",
            "gridwidth": 2,
            "linecolor": "white",
            "showbackground": true,
            "ticks": "",
            "zerolinecolor": "white"
           },
           "zaxis": {
            "backgroundcolor": "#E5ECF6",
            "gridcolor": "white",
            "gridwidth": 2,
            "linecolor": "white",
            "showbackground": true,
            "ticks": "",
            "zerolinecolor": "white"
           }
          },
          "shapedefaults": {
           "line": {
            "color": "#2a3f5f"
           }
          },
          "ternary": {
           "aaxis": {
            "gridcolor": "white",
            "linecolor": "white",
            "ticks": ""
           },
           "baxis": {
            "gridcolor": "white",
            "linecolor": "white",
            "ticks": ""
           },
           "bgcolor": "#E5ECF6",
           "caxis": {
            "gridcolor": "white",
            "linecolor": "white",
            "ticks": ""
           }
          },
          "title": {
           "x": 0.05
          },
          "xaxis": {
           "automargin": true,
           "gridcolor": "white",
           "linecolor": "white",
           "ticks": "",
           "title": {
            "standoff": 15
           },
           "zerolinecolor": "white",
           "zerolinewidth": 2
          },
          "yaxis": {
           "automargin": true,
           "gridcolor": "white",
           "linecolor": "white",
           "ticks": "",
           "title": {
            "standoff": 15
           },
           "zerolinecolor": "white",
           "zerolinewidth": 2
          }
         }
        },
        "title": {
         "font": {
          "color": "#4D5663"
         }
        },
        "width": 1000,
        "xaxis": {
         "gridcolor": "#E1E5ED",
         "showgrid": true,
         "tickfont": {
          "color": "#4D5663"
         },
         "title": {
          "font": {
           "color": "#4D5663"
          },
          "text": ""
         },
         "zerolinecolor": "#E1E5ED"
        },
        "yaxis": {
         "gridcolor": "#E1E5ED",
         "showgrid": true,
         "tickfont": {
          "color": "#4D5663"
         },
         "title": {
          "font": {
           "color": "#4D5663"
          },
          "text": ""
         },
         "zerolinecolor": "#E1E5ED"
        }
       }
      },
      "text/html": [
       "<div>                            <div id=\"936ffde6-aa1b-4a62-a5f2-6036b37616fb\" class=\"plotly-graph-div\" style=\"height:600px; width:1000px;\"></div>            <script type=\"text/javascript\">                require([\"plotly\"], function(Plotly) {                    window.PLOTLYENV=window.PLOTLYENV || {};\n",
       "                    window.PLOTLYENV.BASE_URL='https://plot.ly';                                    if (document.getElementById(\"936ffde6-aa1b-4a62-a5f2-6036b37616fb\")) {                    Plotly.newPlot(                        \"936ffde6-aa1b-4a62-a5f2-6036b37616fb\",                        [{\"line\":{\"color\":\"rgba(255, 153, 51, 1.0)\",\"dash\":\"solid\",\"shape\":\"linear\",\"width\":1.3},\"mode\":\"lines\",\"name\":\"0\",\"text\":\"\",\"x\":[\"2019-05-31\",\"2019-06-28\",\"2019-07-31\",\"2019-08-30\",\"2019-09-30\",\"2019-10-31\",\"2019-11-29\",\"2019-12-31\",\"2020-01-31\",\"2020-02-28\",\"2020-03-31\",\"2020-04-30\",\"2020-05-29\",\"2020-06-30\",\"2020-07-31\",\"2020-08-31\",\"2020-09-30\",\"2020-10-30\",\"2020-11-30\",\"2020-12-31\",\"2021-01-29\",\"2021-02-26\",\"2021-03-31\",\"2021-04-30\",\"2021-06-30\",\"2021-07-30\",\"2021-08-31\",\"2021-09-30\",\"2021-10-29\",\"2021-11-30\",\"2021-12-31\",\"2022-01-31\",\"2022-02-28\",\"2022-03-31\",\"2022-04-29\",\"2022-05-31\",\"2022-06-30\",\"2022-07-29\",\"2022-08-31\",\"2022-09-30\",\"2022-10-31\",\"2022-11-30\",\"2022-12-30\",\"2023-01-31\",\"2023-02-28\",\"2023-03-31\",\"2023-04-28\",\"2023-05-31\",\"2023-06-30\",\"2023-07-31\",\"2023-08-31\",\"2023-09-29\",\"2023-10-31\",\"2023-11-30\",\"2023-12-29\"],\"y\":[-2.862687034772123,-0.5632955741685324,-0.5411959011131051,0.38696725992282843,7.349023304867967,9.271036975564996,11.578004200586356,16.7150477590258,13.75239088342182,-3.5510986905912016,-3.5510986905912016,-3.5510986905912016,-6.1808802835628835,2.7326528146507716,6.260521662358193,14.635424563327103,16.317610749038465,32.10165092862033,36.65369384673669,40.19187983861538,38.37290151525186,43.782480563078266,50.94380637084022,49.44360195644093,47.479111770930274,46.44327985211707,46.949990285844635,49.838584131040975,46.988471814548284,52.024363805806544,52.18406624236807,53.195480580927494,50.22048468061888,50.011259588008336,50.011259588008336,48.922808601172065,53.33937392322102,54.60905585793358,52.62514462929076,52.62514462929076,41.292273139461074,41.292273139461074,45.20824644226669,47.513026250811414,41.45818303469239,42.53970185631395,42.53970185631395,45.47596068734601,38.39746367310519,51.28486247417288,66.3066093827687,66.54786368316745,59.31385656107342,53.41154264382256,67.82690661149333],\"type\":\"scatter\"},{\"line\":{\"color\":\"rgba(55, 128, 191, 1.0)\",\"dash\":\"solid\",\"shape\":\"linear\",\"width\":1.3},\"mode\":\"lines\",\"name\":\"1\",\"text\":\"\",\"x\":[\"2019-05-31\",\"2019-06-28\",\"2019-07-31\",\"2019-08-30\",\"2019-09-30\",\"2019-10-31\",\"2019-11-29\",\"2019-12-31\",\"2020-01-31\",\"2020-02-28\",\"2020-03-31\",\"2020-04-30\",\"2020-05-29\",\"2020-06-30\",\"2020-07-31\",\"2020-08-31\",\"2020-09-30\",\"2020-10-30\",\"2020-11-30\",\"2020-12-31\",\"2021-01-29\",\"2021-02-26\",\"2021-03-31\",\"2021-04-30\",\"2021-06-30\",\"2021-07-30\",\"2021-08-31\",\"2021-09-30\",\"2021-10-29\",\"2021-11-30\",\"2021-12-31\",\"2022-01-31\",\"2022-02-28\",\"2022-03-31\",\"2022-04-29\",\"2022-05-31\",\"2022-06-30\",\"2022-07-29\",\"2022-08-31\",\"2022-09-30\",\"2022-10-31\",\"2022-11-30\",\"2022-12-30\",\"2023-01-31\",\"2023-02-28\",\"2023-03-31\",\"2023-04-28\",\"2023-05-31\",\"2023-06-30\",\"2023-07-31\",\"2023-08-31\",\"2023-09-29\",\"2023-10-31\",\"2023-11-30\",\"2023-12-29\"],\"y\":[-1.47637209135703,-0.8548476972544661,-7.902916073539663,0.5998301178392946,7.561886162784433,16.75721001084073,17.26508881464479,23.523030564043637,12.578131779987942,-74.39925775690853,-51.9695591960853,-58.81447611748464,-68.89223120601795,-57.09876368530949,-54.32859157938956,-46.14468489906946,-42.01909579756045,-26.235055617978592,-19.88247205073952,-14.182460189125822,-17.118837773670393,-11.709258725843991,-3.9736572337218776,-9.920432368066042,-11.492880715452428,-12.786924900038176,-10.962272128368387,-1.581375114384322,-6.112767510713351,6.6884291865174355,-0.4887049917895112,1.5502184779454282,-2.5158759527738024,-1.7282933571217596,-10.352680421159942,-28.007283331381796,-19.4749121046163,-20.30862647842178,-35.486658687166425,-33.13374015664408,-55.40018472528753,-47.066656333040775,-42.387812955883575,-37.329390779546785,-41.55988883220384,-33.9458928263297,-33.20599632925165,-29.628178317951708,-38.70965842224463,-25.82225962117694,-10.800512712581117,-10.559258412182366,-17.793265534276397,-23.719525910311134,-7.108686504210965],\"type\":\"scatter\"}],                        {\"height\":600,\"legend\":{\"bgcolor\":\"#F5F6F9\",\"font\":{\"color\":\"#4D5663\"}},\"paper_bgcolor\":\"#F5F6F9\",\"plot_bgcolor\":\"#F5F6F9\",\"template\":{\"data\":{\"barpolar\":[{\"marker\":{\"line\":{\"color\":\"#E5ECF6\",\"width\":0.5},\"pattern\":{\"fillmode\":\"overlay\",\"size\":10,\"solidity\":0.2}},\"type\":\"barpolar\"}],\"bar\":[{\"error_x\":{\"color\":\"#2a3f5f\"},\"error_y\":{\"color\":\"#2a3f5f\"},\"marker\":{\"line\":{\"color\":\"#E5ECF6\",\"width\":0.5},\"pattern\":{\"fillmode\":\"overlay\",\"size\":10,\"solidity\":0.2}},\"type\":\"bar\"}],\"carpet\":[{\"aaxis\":{\"endlinecolor\":\"#2a3f5f\",\"gridcolor\":\"white\",\"linecolor\":\"white\",\"minorgridcolor\":\"white\",\"startlinecolor\":\"#2a3f5f\"},\"baxis\":{\"endlinecolor\":\"#2a3f5f\",\"gridcolor\":\"white\",\"linecolor\":\"white\",\"minorgridcolor\":\"white\",\"startlinecolor\":\"#2a3f5f\"},\"type\":\"carpet\"}],\"choropleth\":[{\"colorbar\":{\"outlinewidth\":0,\"ticks\":\"\"},\"type\":\"choropleth\"}],\"contourcarpet\":[{\"colorbar\":{\"outlinewidth\":0,\"ticks\":\"\"},\"type\":\"contourcarpet\"}],\"contour\":[{\"colorbar\":{\"outlinewidth\":0,\"ticks\":\"\"},\"colorscale\":[[0.0,\"#0d0887\"],[0.1111111111111111,\"#46039f\"],[0.2222222222222222,\"#7201a8\"],[0.3333333333333333,\"#9c179e\"],[0.4444444444444444,\"#bd3786\"],[0.5555555555555556,\"#d8576b\"],[0.6666666666666666,\"#ed7953\"],[0.7777777777777778,\"#fb9f3a\"],[0.8888888888888888,\"#fdca26\"],[1.0,\"#f0f921\"]],\"type\":\"contour\"}],\"heatmapgl\":[{\"colorbar\":{\"outlinewidth\":0,\"ticks\":\"\"},\"colorscale\":[[0.0,\"#0d0887\"],[0.1111111111111111,\"#46039f\"],[0.2222222222222222,\"#7201a8\"],[0.3333333333333333,\"#9c179e\"],[0.4444444444444444,\"#bd3786\"],[0.5555555555555556,\"#d8576b\"],[0.6666666666666666,\"#ed7953\"],[0.7777777777777778,\"#fb9f3a\"],[0.8888888888888888,\"#fdca26\"],[1.0,\"#f0f921\"]],\"type\":\"heatmapgl\"}],\"heatmap\":[{\"colorbar\":{\"outlinewidth\":0,\"ticks\":\"\"},\"colorscale\":[[0.0,\"#0d0887\"],[0.1111111111111111,\"#46039f\"],[0.2222222222222222,\"#7201a8\"],[0.3333333333333333,\"#9c179e\"],[0.4444444444444444,\"#bd3786\"],[0.5555555555555556,\"#d8576b\"],[0.6666666666666666,\"#ed7953\"],[0.7777777777777778,\"#fb9f3a\"],[0.8888888888888888,\"#fdca26\"],[1.0,\"#f0f921\"]],\"type\":\"heatmap\"}],\"histogram2dcontour\":[{\"colorbar\":{\"outlinewidth\":0,\"ticks\":\"\"},\"colorscale\":[[0.0,\"#0d0887\"],[0.1111111111111111,\"#46039f\"],[0.2222222222222222,\"#7201a8\"],[0.3333333333333333,\"#9c179e\"],[0.4444444444444444,\"#bd3786\"],[0.5555555555555556,\"#d8576b\"],[0.6666666666666666,\"#ed7953\"],[0.7777777777777778,\"#fb9f3a\"],[0.8888888888888888,\"#fdca26\"],[1.0,\"#f0f921\"]],\"type\":\"histogram2dcontour\"}],\"histogram2d\":[{\"colorbar\":{\"outlinewidth\":0,\"ticks\":\"\"},\"colorscale\":[[0.0,\"#0d0887\"],[0.1111111111111111,\"#46039f\"],[0.2222222222222222,\"#7201a8\"],[0.3333333333333333,\"#9c179e\"],[0.4444444444444444,\"#bd3786\"],[0.5555555555555556,\"#d8576b\"],[0.6666666666666666,\"#ed7953\"],[0.7777777777777778,\"#fb9f3a\"],[0.8888888888888888,\"#fdca26\"],[1.0,\"#f0f921\"]],\"type\":\"histogram2d\"}],\"histogram\":[{\"marker\":{\"pattern\":{\"fillmode\":\"overlay\",\"size\":10,\"solidity\":0.2}},\"type\":\"histogram\"}],\"mesh3d\":[{\"colorbar\":{\"outlinewidth\":0,\"ticks\":\"\"},\"type\":\"mesh3d\"}],\"parcoords\":[{\"line\":{\"colorbar\":{\"outlinewidth\":0,\"ticks\":\"\"}},\"type\":\"parcoords\"}],\"pie\":[{\"automargin\":true,\"type\":\"pie\"}],\"scatter3d\":[{\"line\":{\"colorbar\":{\"outlinewidth\":0,\"ticks\":\"\"}},\"marker\":{\"colorbar\":{\"outlinewidth\":0,\"ticks\":\"\"}},\"type\":\"scatter3d\"}],\"scattercarpet\":[{\"marker\":{\"colorbar\":{\"outlinewidth\":0,\"ticks\":\"\"}},\"type\":\"scattercarpet\"}],\"scattergeo\":[{\"marker\":{\"colorbar\":{\"outlinewidth\":0,\"ticks\":\"\"}},\"type\":\"scattergeo\"}],\"scattergl\":[{\"marker\":{\"colorbar\":{\"outlinewidth\":0,\"ticks\":\"\"}},\"type\":\"scattergl\"}],\"scattermapbox\":[{\"marker\":{\"colorbar\":{\"outlinewidth\":0,\"ticks\":\"\"}},\"type\":\"scattermapbox\"}],\"scatterpolargl\":[{\"marker\":{\"colorbar\":{\"outlinewidth\":0,\"ticks\":\"\"}},\"type\":\"scatterpolargl\"}],\"scatterpolar\":[{\"marker\":{\"colorbar\":{\"outlinewidth\":0,\"ticks\":\"\"}},\"type\":\"scatterpolar\"}],\"scatter\":[{\"fillpattern\":{\"fillmode\":\"overlay\",\"size\":10,\"solidity\":0.2},\"type\":\"scatter\"}],\"scatterternary\":[{\"marker\":{\"colorbar\":{\"outlinewidth\":0,\"ticks\":\"\"}},\"type\":\"scatterternary\"}],\"surface\":[{\"colorbar\":{\"outlinewidth\":0,\"ticks\":\"\"},\"colorscale\":[[0.0,\"#0d0887\"],[0.1111111111111111,\"#46039f\"],[0.2222222222222222,\"#7201a8\"],[0.3333333333333333,\"#9c179e\"],[0.4444444444444444,\"#bd3786\"],[0.5555555555555556,\"#d8576b\"],[0.6666666666666666,\"#ed7953\"],[0.7777777777777778,\"#fb9f3a\"],[0.8888888888888888,\"#fdca26\"],[1.0,\"#f0f921\"]],\"type\":\"surface\"}],\"table\":[{\"cells\":{\"fill\":{\"color\":\"#EBF0F8\"},\"line\":{\"color\":\"white\"}},\"header\":{\"fill\":{\"color\":\"#C8D4E3\"},\"line\":{\"color\":\"white\"}},\"type\":\"table\"}]},\"layout\":{\"annotationdefaults\":{\"arrowcolor\":\"#2a3f5f\",\"arrowhead\":0,\"arrowwidth\":1},\"autotypenumbers\":\"strict\",\"coloraxis\":{\"colorbar\":{\"outlinewidth\":0,\"ticks\":\"\"}},\"colorscale\":{\"diverging\":[[0,\"#8e0152\"],[0.1,\"#c51b7d\"],[0.2,\"#de77ae\"],[0.3,\"#f1b6da\"],[0.4,\"#fde0ef\"],[0.5,\"#f7f7f7\"],[0.6,\"#e6f5d0\"],[0.7,\"#b8e186\"],[0.8,\"#7fbc41\"],[0.9,\"#4d9221\"],[1,\"#276419\"]],\"sequential\":[[0.0,\"#0d0887\"],[0.1111111111111111,\"#46039f\"],[0.2222222222222222,\"#7201a8\"],[0.3333333333333333,\"#9c179e\"],[0.4444444444444444,\"#bd3786\"],[0.5555555555555556,\"#d8576b\"],[0.6666666666666666,\"#ed7953\"],[0.7777777777777778,\"#fb9f3a\"],[0.8888888888888888,\"#fdca26\"],[1.0,\"#f0f921\"]],\"sequentialminus\":[[0.0,\"#0d0887\"],[0.1111111111111111,\"#46039f\"],[0.2222222222222222,\"#7201a8\"],[0.3333333333333333,\"#9c179e\"],[0.4444444444444444,\"#bd3786\"],[0.5555555555555556,\"#d8576b\"],[0.6666666666666666,\"#ed7953\"],[0.7777777777777778,\"#fb9f3a\"],[0.8888888888888888,\"#fdca26\"],[1.0,\"#f0f921\"]]},\"colorway\":[\"#636efa\",\"#EF553B\",\"#00cc96\",\"#ab63fa\",\"#FFA15A\",\"#19d3f3\",\"#FF6692\",\"#B6E880\",\"#FF97FF\",\"#FECB52\"],\"font\":{\"color\":\"#2a3f5f\"},\"geo\":{\"bgcolor\":\"white\",\"lakecolor\":\"white\",\"landcolor\":\"#E5ECF6\",\"showlakes\":true,\"showland\":true,\"subunitcolor\":\"white\"},\"hoverlabel\":{\"align\":\"left\"},\"hovermode\":\"closest\",\"mapbox\":{\"style\":\"light\"},\"paper_bgcolor\":\"white\",\"plot_bgcolor\":\"#E5ECF6\",\"polar\":{\"angularaxis\":{\"gridcolor\":\"white\",\"linecolor\":\"white\",\"ticks\":\"\"},\"bgcolor\":\"#E5ECF6\",\"radialaxis\":{\"gridcolor\":\"white\",\"linecolor\":\"white\",\"ticks\":\"\"}},\"scene\":{\"xaxis\":{\"backgroundcolor\":\"#E5ECF6\",\"gridcolor\":\"white\",\"gridwidth\":2,\"linecolor\":\"white\",\"showbackground\":true,\"ticks\":\"\",\"zerolinecolor\":\"white\"},\"yaxis\":{\"backgroundcolor\":\"#E5ECF6\",\"gridcolor\":\"white\",\"gridwidth\":2,\"linecolor\":\"white\",\"showbackground\":true,\"ticks\":\"\",\"zerolinecolor\":\"white\"},\"zaxis\":{\"backgroundcolor\":\"#E5ECF6\",\"gridcolor\":\"white\",\"gridwidth\":2,\"linecolor\":\"white\",\"showbackground\":true,\"ticks\":\"\",\"zerolinecolor\":\"white\"}},\"shapedefaults\":{\"line\":{\"color\":\"#2a3f5f\"}},\"ternary\":{\"aaxis\":{\"gridcolor\":\"white\",\"linecolor\":\"white\",\"ticks\":\"\"},\"baxis\":{\"gridcolor\":\"white\",\"linecolor\":\"white\",\"ticks\":\"\"},\"bgcolor\":\"#E5ECF6\",\"caxis\":{\"gridcolor\":\"white\",\"linecolor\":\"white\",\"ticks\":\"\"}},\"title\":{\"x\":0.05},\"xaxis\":{\"automargin\":true,\"gridcolor\":\"white\",\"linecolor\":\"white\",\"ticks\":\"\",\"title\":{\"standoff\":15},\"zerolinecolor\":\"white\",\"zerolinewidth\":2},\"yaxis\":{\"automargin\":true,\"gridcolor\":\"white\",\"linecolor\":\"white\",\"ticks\":\"\",\"title\":{\"standoff\":15},\"zerolinecolor\":\"white\",\"zerolinewidth\":2}}},\"title\":{\"font\":{\"color\":\"#4D5663\"}},\"width\":1000,\"xaxis\":{\"gridcolor\":\"#E1E5ED\",\"showgrid\":true,\"tickfont\":{\"color\":\"#4D5663\"},\"title\":{\"font\":{\"color\":\"#4D5663\"},\"text\":\"\"},\"zerolinecolor\":\"#E1E5ED\"},\"yaxis\":{\"gridcolor\":\"#E1E5ED\",\"showgrid\":true,\"tickfont\":{\"color\":\"#4D5663\"},\"title\":{\"font\":{\"color\":\"#4D5663\"},\"text\":\"\"},\"zerolinecolor\":\"#E1E5ED\"}},                        {\"showLink\": true, \"linkText\": \"Export to plot.ly\", \"plotlyServerURL\": \"https://plot.ly\", \"responsive\": true}                    ).then(function(){\n",
       "                            \n",
       "var gd = document.getElementById('936ffde6-aa1b-4a62-a5f2-6036b37616fb');\n",
       "var x = new MutationObserver(function (mutations, observer) {{\n",
       "        var display = window.getComputedStyle(gd).display;\n",
       "        if (!display || display === 'none') {{\n",
       "            console.log([gd, 'removed!']);\n",
       "            Plotly.purge(gd);\n",
       "            observer.disconnect();\n",
       "        }}\n",
       "}});\n",
       "\n",
       "// Listen for the removal of the full notebook cells\n",
       "var notebookContainer = gd.closest('#notebook-container');\n",
       "if (notebookContainer) {{\n",
       "    x.observe(notebookContainer, {childList: true});\n",
       "}}\n",
       "\n",
       "// Listen for the clearing of the current output cell\n",
       "var outputEl = gd.closest('.output');\n",
       "if (outputEl) {{\n",
       "    x.observe(outputEl, {childList: true});\n",
       "}}\n",
       "\n",
       "                        })                };                });            </script>        </div>"
      ]
     },
     "metadata": {},
     "output_type": "display_data"
    },
    {
     "name": "stdout",
     "output_type": "stream",
     "text": [
      "0.27473271022237805\n"
     ]
    },
    {
     "data": {
      "application/vnd.plotly.v1+json": {
       "config": {
        "linkText": "Export to plot.ly",
        "plotlyServerURL": "https://plot.ly",
        "showLink": true
       },
       "data": [
        {
         "line": {
          "color": "rgba(255, 153, 51, 1.0)",
          "dash": "solid",
          "shape": "linear",
          "width": 1.3
         },
         "mode": "lines",
         "name": "None",
         "text": "",
         "type": "scatter",
         "x": [
          "2019-05-31",
          "2019-06-28",
          "2019-07-31",
          "2019-08-30",
          "2019-09-30",
          "2019-10-31",
          "2019-11-29",
          "2019-12-31",
          "2020-01-31",
          "2020-02-28",
          "2020-03-31",
          "2020-04-30",
          "2020-05-29",
          "2020-06-30",
          "2020-07-31",
          "2020-08-31",
          "2020-09-30",
          "2020-10-30",
          "2020-11-30",
          "2020-12-31",
          "2021-01-29",
          "2021-02-26",
          "2021-03-31",
          "2021-04-30",
          "2021-06-30",
          "2021-07-30",
          "2021-08-31",
          "2021-09-30",
          "2021-10-29",
          "2021-11-30",
          "2021-12-31",
          "2022-01-31",
          "2022-02-28",
          "2022-03-31",
          "2022-04-29",
          "2022-05-31",
          "2022-06-30",
          "2022-07-29",
          "2022-08-31",
          "2022-09-30",
          "2022-10-31",
          "2022-11-30",
          "2022-12-30",
          "2023-01-31",
          "2023-02-28",
          "2023-03-31",
          "2023-04-28",
          "2023-05-31",
          "2023-06-30",
          "2023-07-31",
          "2023-08-31",
          "2023-09-29",
          "2023-10-31",
          "2023-11-30",
          "2023-12-29"
         ],
         "y": [
          -4.259562264192373,
          -1.7566943808150262,
          2.2705162435092507,
          -1.948780185652116,
          -3.3403363589140267,
          -3.4915070521368223,
          -0.9122221024177888,
          -1.1433960889608112,
          -0.0608915593630277,
          -17.36438113337605,
          -10.957935583964842,
          -9.262556876703798,
          -9.575572755755784,
          -10.558696452392743,
          -7.724325599496631,
          -1.0777997871708402,
          0.5075757871791513,
          1.5176831656075596,
          1.904102520779674,
          -0.5326454483859,
          -1.2643346893164051,
          -1.1578260591243068,
          -0.3451680580218386,
          4.192591439985261,
          5.1098419401725135,
          6.227063236197126,
          6.483441103269981,
          6.704233062799322,
          4.202496175284716,
          3.1153404568419854,
          4.390777415890319,
          6.66116111482943,
          7.632739967361267,
          9.8816660044759,
          15.444564715335767,
          16.964182145187188,
          11.519619900930621,
          11.459510454451213,
          13.730577389530088,
          15.404617137935809,
          14.229359301486552,
          24.02288392974489,
          23.66417349411897,
          22.457335101583965,
          18.94439828256288,
          18.210717128531858,
          20.895486710136744,
          18.34013105640356,
          21.601240840619788,
          21.84371997739479,
          19.809361209382345,
          19.23193362303236,
          18.55569227462609,
          15.731718896066662,
          16.08276690317472
         ]
        }
       ],
       "layout": {
        "height": 600,
        "legend": {
         "bgcolor": "#F5F6F9",
         "font": {
          "color": "#4D5663"
         }
        },
        "paper_bgcolor": "#F5F6F9",
        "plot_bgcolor": "#F5F6F9",
        "template": {
         "data": {
          "bar": [
           {
            "error_x": {
             "color": "#2a3f5f"
            },
            "error_y": {
             "color": "#2a3f5f"
            },
            "marker": {
             "line": {
              "color": "#E5ECF6",
              "width": 0.5
             },
             "pattern": {
              "fillmode": "overlay",
              "size": 10,
              "solidity": 0.2
             }
            },
            "type": "bar"
           }
          ],
          "barpolar": [
           {
            "marker": {
             "line": {
              "color": "#E5ECF6",
              "width": 0.5
             },
             "pattern": {
              "fillmode": "overlay",
              "size": 10,
              "solidity": 0.2
             }
            },
            "type": "barpolar"
           }
          ],
          "carpet": [
           {
            "aaxis": {
             "endlinecolor": "#2a3f5f",
             "gridcolor": "white",
             "linecolor": "white",
             "minorgridcolor": "white",
             "startlinecolor": "#2a3f5f"
            },
            "baxis": {
             "endlinecolor": "#2a3f5f",
             "gridcolor": "white",
             "linecolor": "white",
             "minorgridcolor": "white",
             "startlinecolor": "#2a3f5f"
            },
            "type": "carpet"
           }
          ],
          "choropleth": [
           {
            "colorbar": {
             "outlinewidth": 0,
             "ticks": ""
            },
            "type": "choropleth"
           }
          ],
          "contour": [
           {
            "colorbar": {
             "outlinewidth": 0,
             "ticks": ""
            },
            "colorscale": [
             [
              0,
              "#0d0887"
             ],
             [
              0.1111111111111111,
              "#46039f"
             ],
             [
              0.2222222222222222,
              "#7201a8"
             ],
             [
              0.3333333333333333,
              "#9c179e"
             ],
             [
              0.4444444444444444,
              "#bd3786"
             ],
             [
              0.5555555555555556,
              "#d8576b"
             ],
             [
              0.6666666666666666,
              "#ed7953"
             ],
             [
              0.7777777777777778,
              "#fb9f3a"
             ],
             [
              0.8888888888888888,
              "#fdca26"
             ],
             [
              1,
              "#f0f921"
             ]
            ],
            "type": "contour"
           }
          ],
          "contourcarpet": [
           {
            "colorbar": {
             "outlinewidth": 0,
             "ticks": ""
            },
            "type": "contourcarpet"
           }
          ],
          "heatmap": [
           {
            "colorbar": {
             "outlinewidth": 0,
             "ticks": ""
            },
            "colorscale": [
             [
              0,
              "#0d0887"
             ],
             [
              0.1111111111111111,
              "#46039f"
             ],
             [
              0.2222222222222222,
              "#7201a8"
             ],
             [
              0.3333333333333333,
              "#9c179e"
             ],
             [
              0.4444444444444444,
              "#bd3786"
             ],
             [
              0.5555555555555556,
              "#d8576b"
             ],
             [
              0.6666666666666666,
              "#ed7953"
             ],
             [
              0.7777777777777778,
              "#fb9f3a"
             ],
             [
              0.8888888888888888,
              "#fdca26"
             ],
             [
              1,
              "#f0f921"
             ]
            ],
            "type": "heatmap"
           }
          ],
          "heatmapgl": [
           {
            "colorbar": {
             "outlinewidth": 0,
             "ticks": ""
            },
            "colorscale": [
             [
              0,
              "#0d0887"
             ],
             [
              0.1111111111111111,
              "#46039f"
             ],
             [
              0.2222222222222222,
              "#7201a8"
             ],
             [
              0.3333333333333333,
              "#9c179e"
             ],
             [
              0.4444444444444444,
              "#bd3786"
             ],
             [
              0.5555555555555556,
              "#d8576b"
             ],
             [
              0.6666666666666666,
              "#ed7953"
             ],
             [
              0.7777777777777778,
              "#fb9f3a"
             ],
             [
              0.8888888888888888,
              "#fdca26"
             ],
             [
              1,
              "#f0f921"
             ]
            ],
            "type": "heatmapgl"
           }
          ],
          "histogram": [
           {
            "marker": {
             "pattern": {
              "fillmode": "overlay",
              "size": 10,
              "solidity": 0.2
             }
            },
            "type": "histogram"
           }
          ],
          "histogram2d": [
           {
            "colorbar": {
             "outlinewidth": 0,
             "ticks": ""
            },
            "colorscale": [
             [
              0,
              "#0d0887"
             ],
             [
              0.1111111111111111,
              "#46039f"
             ],
             [
              0.2222222222222222,
              "#7201a8"
             ],
             [
              0.3333333333333333,
              "#9c179e"
             ],
             [
              0.4444444444444444,
              "#bd3786"
             ],
             [
              0.5555555555555556,
              "#d8576b"
             ],
             [
              0.6666666666666666,
              "#ed7953"
             ],
             [
              0.7777777777777778,
              "#fb9f3a"
             ],
             [
              0.8888888888888888,
              "#fdca26"
             ],
             [
              1,
              "#f0f921"
             ]
            ],
            "type": "histogram2d"
           }
          ],
          "histogram2dcontour": [
           {
            "colorbar": {
             "outlinewidth": 0,
             "ticks": ""
            },
            "colorscale": [
             [
              0,
              "#0d0887"
             ],
             [
              0.1111111111111111,
              "#46039f"
             ],
             [
              0.2222222222222222,
              "#7201a8"
             ],
             [
              0.3333333333333333,
              "#9c179e"
             ],
             [
              0.4444444444444444,
              "#bd3786"
             ],
             [
              0.5555555555555556,
              "#d8576b"
             ],
             [
              0.6666666666666666,
              "#ed7953"
             ],
             [
              0.7777777777777778,
              "#fb9f3a"
             ],
             [
              0.8888888888888888,
              "#fdca26"
             ],
             [
              1,
              "#f0f921"
             ]
            ],
            "type": "histogram2dcontour"
           }
          ],
          "mesh3d": [
           {
            "colorbar": {
             "outlinewidth": 0,
             "ticks": ""
            },
            "type": "mesh3d"
           }
          ],
          "parcoords": [
           {
            "line": {
             "colorbar": {
              "outlinewidth": 0,
              "ticks": ""
             }
            },
            "type": "parcoords"
           }
          ],
          "pie": [
           {
            "automargin": true,
            "type": "pie"
           }
          ],
          "scatter": [
           {
            "fillpattern": {
             "fillmode": "overlay",
             "size": 10,
             "solidity": 0.2
            },
            "type": "scatter"
           }
          ],
          "scatter3d": [
           {
            "line": {
             "colorbar": {
              "outlinewidth": 0,
              "ticks": ""
             }
            },
            "marker": {
             "colorbar": {
              "outlinewidth": 0,
              "ticks": ""
             }
            },
            "type": "scatter3d"
           }
          ],
          "scattercarpet": [
           {
            "marker": {
             "colorbar": {
              "outlinewidth": 0,
              "ticks": ""
             }
            },
            "type": "scattercarpet"
           }
          ],
          "scattergeo": [
           {
            "marker": {
             "colorbar": {
              "outlinewidth": 0,
              "ticks": ""
             }
            },
            "type": "scattergeo"
           }
          ],
          "scattergl": [
           {
            "marker": {
             "colorbar": {
              "outlinewidth": 0,
              "ticks": ""
             }
            },
            "type": "scattergl"
           }
          ],
          "scattermapbox": [
           {
            "marker": {
             "colorbar": {
              "outlinewidth": 0,
              "ticks": ""
             }
            },
            "type": "scattermapbox"
           }
          ],
          "scatterpolar": [
           {
            "marker": {
             "colorbar": {
              "outlinewidth": 0,
              "ticks": ""
             }
            },
            "type": "scatterpolar"
           }
          ],
          "scatterpolargl": [
           {
            "marker": {
             "colorbar": {
              "outlinewidth": 0,
              "ticks": ""
             }
            },
            "type": "scatterpolargl"
           }
          ],
          "scatterternary": [
           {
            "marker": {
             "colorbar": {
              "outlinewidth": 0,
              "ticks": ""
             }
            },
            "type": "scatterternary"
           }
          ],
          "surface": [
           {
            "colorbar": {
             "outlinewidth": 0,
             "ticks": ""
            },
            "colorscale": [
             [
              0,
              "#0d0887"
             ],
             [
              0.1111111111111111,
              "#46039f"
             ],
             [
              0.2222222222222222,
              "#7201a8"
             ],
             [
              0.3333333333333333,
              "#9c179e"
             ],
             [
              0.4444444444444444,
              "#bd3786"
             ],
             [
              0.5555555555555556,
              "#d8576b"
             ],
             [
              0.6666666666666666,
              "#ed7953"
             ],
             [
              0.7777777777777778,
              "#fb9f3a"
             ],
             [
              0.8888888888888888,
              "#fdca26"
             ],
             [
              1,
              "#f0f921"
             ]
            ],
            "type": "surface"
           }
          ],
          "table": [
           {
            "cells": {
             "fill": {
              "color": "#EBF0F8"
             },
             "line": {
              "color": "white"
             }
            },
            "header": {
             "fill": {
              "color": "#C8D4E3"
             },
             "line": {
              "color": "white"
             }
            },
            "type": "table"
           }
          ]
         },
         "layout": {
          "annotationdefaults": {
           "arrowcolor": "#2a3f5f",
           "arrowhead": 0,
           "arrowwidth": 1
          },
          "autotypenumbers": "strict",
          "coloraxis": {
           "colorbar": {
            "outlinewidth": 0,
            "ticks": ""
           }
          },
          "colorscale": {
           "diverging": [
            [
             0,
             "#8e0152"
            ],
            [
             0.1,
             "#c51b7d"
            ],
            [
             0.2,
             "#de77ae"
            ],
            [
             0.3,
             "#f1b6da"
            ],
            [
             0.4,
             "#fde0ef"
            ],
            [
             0.5,
             "#f7f7f7"
            ],
            [
             0.6,
             "#e6f5d0"
            ],
            [
             0.7,
             "#b8e186"
            ],
            [
             0.8,
             "#7fbc41"
            ],
            [
             0.9,
             "#4d9221"
            ],
            [
             1,
             "#276419"
            ]
           ],
           "sequential": [
            [
             0,
             "#0d0887"
            ],
            [
             0.1111111111111111,
             "#46039f"
            ],
            [
             0.2222222222222222,
             "#7201a8"
            ],
            [
             0.3333333333333333,
             "#9c179e"
            ],
            [
             0.4444444444444444,
             "#bd3786"
            ],
            [
             0.5555555555555556,
             "#d8576b"
            ],
            [
             0.6666666666666666,
             "#ed7953"
            ],
            [
             0.7777777777777778,
             "#fb9f3a"
            ],
            [
             0.8888888888888888,
             "#fdca26"
            ],
            [
             1,
             "#f0f921"
            ]
           ],
           "sequentialminus": [
            [
             0,
             "#0d0887"
            ],
            [
             0.1111111111111111,
             "#46039f"
            ],
            [
             0.2222222222222222,
             "#7201a8"
            ],
            [
             0.3333333333333333,
             "#9c179e"
            ],
            [
             0.4444444444444444,
             "#bd3786"
            ],
            [
             0.5555555555555556,
             "#d8576b"
            ],
            [
             0.6666666666666666,
             "#ed7953"
            ],
            [
             0.7777777777777778,
             "#fb9f3a"
            ],
            [
             0.8888888888888888,
             "#fdca26"
            ],
            [
             1,
             "#f0f921"
            ]
           ]
          },
          "colorway": [
           "#636efa",
           "#EF553B",
           "#00cc96",
           "#ab63fa",
           "#FFA15A",
           "#19d3f3",
           "#FF6692",
           "#B6E880",
           "#FF97FF",
           "#FECB52"
          ],
          "font": {
           "color": "#2a3f5f"
          },
          "geo": {
           "bgcolor": "white",
           "lakecolor": "white",
           "landcolor": "#E5ECF6",
           "showlakes": true,
           "showland": true,
           "subunitcolor": "white"
          },
          "hoverlabel": {
           "align": "left"
          },
          "hovermode": "closest",
          "mapbox": {
           "style": "light"
          },
          "paper_bgcolor": "white",
          "plot_bgcolor": "#E5ECF6",
          "polar": {
           "angularaxis": {
            "gridcolor": "white",
            "linecolor": "white",
            "ticks": ""
           },
           "bgcolor": "#E5ECF6",
           "radialaxis": {
            "gridcolor": "white",
            "linecolor": "white",
            "ticks": ""
           }
          },
          "scene": {
           "xaxis": {
            "backgroundcolor": "#E5ECF6",
            "gridcolor": "white",
            "gridwidth": 2,
            "linecolor": "white",
            "showbackground": true,
            "ticks": "",
            "zerolinecolor": "white"
           },
           "yaxis": {
            "backgroundcolor": "#E5ECF6",
            "gridcolor": "white",
            "gridwidth": 2,
            "linecolor": "white",
            "showbackground": true,
            "ticks": "",
            "zerolinecolor": "white"
           },
           "zaxis": {
            "backgroundcolor": "#E5ECF6",
            "gridcolor": "white",
            "gridwidth": 2,
            "linecolor": "white",
            "showbackground": true,
            "ticks": "",
            "zerolinecolor": "white"
           }
          },
          "shapedefaults": {
           "line": {
            "color": "#2a3f5f"
           }
          },
          "ternary": {
           "aaxis": {
            "gridcolor": "white",
            "linecolor": "white",
            "ticks": ""
           },
           "baxis": {
            "gridcolor": "white",
            "linecolor": "white",
            "ticks": ""
           },
           "bgcolor": "#E5ECF6",
           "caxis": {
            "gridcolor": "white",
            "linecolor": "white",
            "ticks": ""
           }
          },
          "title": {
           "x": 0.05
          },
          "xaxis": {
           "automargin": true,
           "gridcolor": "white",
           "linecolor": "white",
           "ticks": "",
           "title": {
            "standoff": 15
           },
           "zerolinecolor": "white",
           "zerolinewidth": 2
          },
          "yaxis": {
           "automargin": true,
           "gridcolor": "white",
           "linecolor": "white",
           "ticks": "",
           "title": {
            "standoff": 15
           },
           "zerolinecolor": "white",
           "zerolinewidth": 2
          }
         }
        },
        "title": {
         "font": {
          "color": "#4D5663"
         }
        },
        "width": 1000,
        "xaxis": {
         "gridcolor": "#E1E5ED",
         "showgrid": true,
         "tickfont": {
          "color": "#4D5663"
         },
         "title": {
          "font": {
           "color": "#4D5663"
          },
          "text": ""
         },
         "zerolinecolor": "#E1E5ED"
        },
        "yaxis": {
         "gridcolor": "#E1E5ED",
         "showgrid": true,
         "tickfont": {
          "color": "#4D5663"
         },
         "title": {
          "font": {
           "color": "#4D5663"
          },
          "text": ""
         },
         "zerolinecolor": "#E1E5ED"
        }
       }
      },
      "text/html": [
       "<div>                            <div id=\"9914e036-8eb9-430b-81e0-7a64578e6680\" class=\"plotly-graph-div\" style=\"height:600px; width:1000px;\"></div>            <script type=\"text/javascript\">                require([\"plotly\"], function(Plotly) {                    window.PLOTLYENV=window.PLOTLYENV || {};\n",
       "                    window.PLOTLYENV.BASE_URL='https://plot.ly';                                    if (document.getElementById(\"9914e036-8eb9-430b-81e0-7a64578e6680\")) {                    Plotly.newPlot(                        \"9914e036-8eb9-430b-81e0-7a64578e6680\",                        [{\"line\":{\"color\":\"rgba(255, 153, 51, 1.0)\",\"dash\":\"solid\",\"shape\":\"linear\",\"width\":1.3},\"mode\":\"lines\",\"name\":\"None\",\"text\":\"\",\"x\":[\"2019-05-31\",\"2019-06-28\",\"2019-07-31\",\"2019-08-30\",\"2019-09-30\",\"2019-10-31\",\"2019-11-29\",\"2019-12-31\",\"2020-01-31\",\"2020-02-28\",\"2020-03-31\",\"2020-04-30\",\"2020-05-29\",\"2020-06-30\",\"2020-07-31\",\"2020-08-31\",\"2020-09-30\",\"2020-10-30\",\"2020-11-30\",\"2020-12-31\",\"2021-01-29\",\"2021-02-26\",\"2021-03-31\",\"2021-04-30\",\"2021-06-30\",\"2021-07-30\",\"2021-08-31\",\"2021-09-30\",\"2021-10-29\",\"2021-11-30\",\"2021-12-31\",\"2022-01-31\",\"2022-02-28\",\"2022-03-31\",\"2022-04-29\",\"2022-05-31\",\"2022-06-30\",\"2022-07-29\",\"2022-08-31\",\"2022-09-30\",\"2022-10-31\",\"2022-11-30\",\"2022-12-30\",\"2023-01-31\",\"2023-02-28\",\"2023-03-31\",\"2023-04-28\",\"2023-05-31\",\"2023-06-30\",\"2023-07-31\",\"2023-08-31\",\"2023-09-29\",\"2023-10-31\",\"2023-11-30\",\"2023-12-29\"],\"y\":[-4.259562264192373,-1.7566943808150262,2.2705162435092507,-1.948780185652116,-3.3403363589140267,-3.4915070521368223,-0.9122221024177888,-1.1433960889608112,-0.0608915593630277,-17.36438113337605,-10.957935583964842,-9.262556876703798,-9.575572755755784,-10.558696452392743,-7.724325599496631,-1.0777997871708402,0.5075757871791513,1.5176831656075596,1.904102520779674,-0.5326454483859,-1.2643346893164051,-1.1578260591243068,-0.3451680580218386,4.192591439985261,5.1098419401725135,6.227063236197126,6.483441103269981,6.704233062799322,4.202496175284716,3.1153404568419854,4.390777415890319,6.66116111482943,7.632739967361267,9.8816660044759,15.444564715335767,16.964182145187188,11.519619900930621,11.459510454451213,13.730577389530088,15.404617137935809,14.229359301486552,24.02288392974489,23.66417349411897,22.457335101583965,18.94439828256288,18.210717128531858,20.895486710136744,18.34013105640356,21.601240840619788,21.84371997739479,19.809361209382345,19.23193362303236,18.55569227462609,15.731718896066662,16.08276690317472],\"type\":\"scatter\"}],                        {\"height\":600,\"legend\":{\"bgcolor\":\"#F5F6F9\",\"font\":{\"color\":\"#4D5663\"}},\"paper_bgcolor\":\"#F5F6F9\",\"plot_bgcolor\":\"#F5F6F9\",\"template\":{\"data\":{\"barpolar\":[{\"marker\":{\"line\":{\"color\":\"#E5ECF6\",\"width\":0.5},\"pattern\":{\"fillmode\":\"overlay\",\"size\":10,\"solidity\":0.2}},\"type\":\"barpolar\"}],\"bar\":[{\"error_x\":{\"color\":\"#2a3f5f\"},\"error_y\":{\"color\":\"#2a3f5f\"},\"marker\":{\"line\":{\"color\":\"#E5ECF6\",\"width\":0.5},\"pattern\":{\"fillmode\":\"overlay\",\"size\":10,\"solidity\":0.2}},\"type\":\"bar\"}],\"carpet\":[{\"aaxis\":{\"endlinecolor\":\"#2a3f5f\",\"gridcolor\":\"white\",\"linecolor\":\"white\",\"minorgridcolor\":\"white\",\"startlinecolor\":\"#2a3f5f\"},\"baxis\":{\"endlinecolor\":\"#2a3f5f\",\"gridcolor\":\"white\",\"linecolor\":\"white\",\"minorgridcolor\":\"white\",\"startlinecolor\":\"#2a3f5f\"},\"type\":\"carpet\"}],\"choropleth\":[{\"colorbar\":{\"outlinewidth\":0,\"ticks\":\"\"},\"type\":\"choropleth\"}],\"contourcarpet\":[{\"colorbar\":{\"outlinewidth\":0,\"ticks\":\"\"},\"type\":\"contourcarpet\"}],\"contour\":[{\"colorbar\":{\"outlinewidth\":0,\"ticks\":\"\"},\"colorscale\":[[0.0,\"#0d0887\"],[0.1111111111111111,\"#46039f\"],[0.2222222222222222,\"#7201a8\"],[0.3333333333333333,\"#9c179e\"],[0.4444444444444444,\"#bd3786\"],[0.5555555555555556,\"#d8576b\"],[0.6666666666666666,\"#ed7953\"],[0.7777777777777778,\"#fb9f3a\"],[0.8888888888888888,\"#fdca26\"],[1.0,\"#f0f921\"]],\"type\":\"contour\"}],\"heatmapgl\":[{\"colorbar\":{\"outlinewidth\":0,\"ticks\":\"\"},\"colorscale\":[[0.0,\"#0d0887\"],[0.1111111111111111,\"#46039f\"],[0.2222222222222222,\"#7201a8\"],[0.3333333333333333,\"#9c179e\"],[0.4444444444444444,\"#bd3786\"],[0.5555555555555556,\"#d8576b\"],[0.6666666666666666,\"#ed7953\"],[0.7777777777777778,\"#fb9f3a\"],[0.8888888888888888,\"#fdca26\"],[1.0,\"#f0f921\"]],\"type\":\"heatmapgl\"}],\"heatmap\":[{\"colorbar\":{\"outlinewidth\":0,\"ticks\":\"\"},\"colorscale\":[[0.0,\"#0d0887\"],[0.1111111111111111,\"#46039f\"],[0.2222222222222222,\"#7201a8\"],[0.3333333333333333,\"#9c179e\"],[0.4444444444444444,\"#bd3786\"],[0.5555555555555556,\"#d8576b\"],[0.6666666666666666,\"#ed7953\"],[0.7777777777777778,\"#fb9f3a\"],[0.8888888888888888,\"#fdca26\"],[1.0,\"#f0f921\"]],\"type\":\"heatmap\"}],\"histogram2dcontour\":[{\"colorbar\":{\"outlinewidth\":0,\"ticks\":\"\"},\"colorscale\":[[0.0,\"#0d0887\"],[0.1111111111111111,\"#46039f\"],[0.2222222222222222,\"#7201a8\"],[0.3333333333333333,\"#9c179e\"],[0.4444444444444444,\"#bd3786\"],[0.5555555555555556,\"#d8576b\"],[0.6666666666666666,\"#ed7953\"],[0.7777777777777778,\"#fb9f3a\"],[0.8888888888888888,\"#fdca26\"],[1.0,\"#f0f921\"]],\"type\":\"histogram2dcontour\"}],\"histogram2d\":[{\"colorbar\":{\"outlinewidth\":0,\"ticks\":\"\"},\"colorscale\":[[0.0,\"#0d0887\"],[0.1111111111111111,\"#46039f\"],[0.2222222222222222,\"#7201a8\"],[0.3333333333333333,\"#9c179e\"],[0.4444444444444444,\"#bd3786\"],[0.5555555555555556,\"#d8576b\"],[0.6666666666666666,\"#ed7953\"],[0.7777777777777778,\"#fb9f3a\"],[0.8888888888888888,\"#fdca26\"],[1.0,\"#f0f921\"]],\"type\":\"histogram2d\"}],\"histogram\":[{\"marker\":{\"pattern\":{\"fillmode\":\"overlay\",\"size\":10,\"solidity\":0.2}},\"type\":\"histogram\"}],\"mesh3d\":[{\"colorbar\":{\"outlinewidth\":0,\"ticks\":\"\"},\"type\":\"mesh3d\"}],\"parcoords\":[{\"line\":{\"colorbar\":{\"outlinewidth\":0,\"ticks\":\"\"}},\"type\":\"parcoords\"}],\"pie\":[{\"automargin\":true,\"type\":\"pie\"}],\"scatter3d\":[{\"line\":{\"colorbar\":{\"outlinewidth\":0,\"ticks\":\"\"}},\"marker\":{\"colorbar\":{\"outlinewidth\":0,\"ticks\":\"\"}},\"type\":\"scatter3d\"}],\"scattercarpet\":[{\"marker\":{\"colorbar\":{\"outlinewidth\":0,\"ticks\":\"\"}},\"type\":\"scattercarpet\"}],\"scattergeo\":[{\"marker\":{\"colorbar\":{\"outlinewidth\":0,\"ticks\":\"\"}},\"type\":\"scattergeo\"}],\"scattergl\":[{\"marker\":{\"colorbar\":{\"outlinewidth\":0,\"ticks\":\"\"}},\"type\":\"scattergl\"}],\"scattermapbox\":[{\"marker\":{\"colorbar\":{\"outlinewidth\":0,\"ticks\":\"\"}},\"type\":\"scattermapbox\"}],\"scatterpolargl\":[{\"marker\":{\"colorbar\":{\"outlinewidth\":0,\"ticks\":\"\"}},\"type\":\"scatterpolargl\"}],\"scatterpolar\":[{\"marker\":{\"colorbar\":{\"outlinewidth\":0,\"ticks\":\"\"}},\"type\":\"scatterpolar\"}],\"scatter\":[{\"fillpattern\":{\"fillmode\":\"overlay\",\"size\":10,\"solidity\":0.2},\"type\":\"scatter\"}],\"scatterternary\":[{\"marker\":{\"colorbar\":{\"outlinewidth\":0,\"ticks\":\"\"}},\"type\":\"scatterternary\"}],\"surface\":[{\"colorbar\":{\"outlinewidth\":0,\"ticks\":\"\"},\"colorscale\":[[0.0,\"#0d0887\"],[0.1111111111111111,\"#46039f\"],[0.2222222222222222,\"#7201a8\"],[0.3333333333333333,\"#9c179e\"],[0.4444444444444444,\"#bd3786\"],[0.5555555555555556,\"#d8576b\"],[0.6666666666666666,\"#ed7953\"],[0.7777777777777778,\"#fb9f3a\"],[0.8888888888888888,\"#fdca26\"],[1.0,\"#f0f921\"]],\"type\":\"surface\"}],\"table\":[{\"cells\":{\"fill\":{\"color\":\"#EBF0F8\"},\"line\":{\"color\":\"white\"}},\"header\":{\"fill\":{\"color\":\"#C8D4E3\"},\"line\":{\"color\":\"white\"}},\"type\":\"table\"}]},\"layout\":{\"annotationdefaults\":{\"arrowcolor\":\"#2a3f5f\",\"arrowhead\":0,\"arrowwidth\":1},\"autotypenumbers\":\"strict\",\"coloraxis\":{\"colorbar\":{\"outlinewidth\":0,\"ticks\":\"\"}},\"colorscale\":{\"diverging\":[[0,\"#8e0152\"],[0.1,\"#c51b7d\"],[0.2,\"#de77ae\"],[0.3,\"#f1b6da\"],[0.4,\"#fde0ef\"],[0.5,\"#f7f7f7\"],[0.6,\"#e6f5d0\"],[0.7,\"#b8e186\"],[0.8,\"#7fbc41\"],[0.9,\"#4d9221\"],[1,\"#276419\"]],\"sequential\":[[0.0,\"#0d0887\"],[0.1111111111111111,\"#46039f\"],[0.2222222222222222,\"#7201a8\"],[0.3333333333333333,\"#9c179e\"],[0.4444444444444444,\"#bd3786\"],[0.5555555555555556,\"#d8576b\"],[0.6666666666666666,\"#ed7953\"],[0.7777777777777778,\"#fb9f3a\"],[0.8888888888888888,\"#fdca26\"],[1.0,\"#f0f921\"]],\"sequentialminus\":[[0.0,\"#0d0887\"],[0.1111111111111111,\"#46039f\"],[0.2222222222222222,\"#7201a8\"],[0.3333333333333333,\"#9c179e\"],[0.4444444444444444,\"#bd3786\"],[0.5555555555555556,\"#d8576b\"],[0.6666666666666666,\"#ed7953\"],[0.7777777777777778,\"#fb9f3a\"],[0.8888888888888888,\"#fdca26\"],[1.0,\"#f0f921\"]]},\"colorway\":[\"#636efa\",\"#EF553B\",\"#00cc96\",\"#ab63fa\",\"#FFA15A\",\"#19d3f3\",\"#FF6692\",\"#B6E880\",\"#FF97FF\",\"#FECB52\"],\"font\":{\"color\":\"#2a3f5f\"},\"geo\":{\"bgcolor\":\"white\",\"lakecolor\":\"white\",\"landcolor\":\"#E5ECF6\",\"showlakes\":true,\"showland\":true,\"subunitcolor\":\"white\"},\"hoverlabel\":{\"align\":\"left\"},\"hovermode\":\"closest\",\"mapbox\":{\"style\":\"light\"},\"paper_bgcolor\":\"white\",\"plot_bgcolor\":\"#E5ECF6\",\"polar\":{\"angularaxis\":{\"gridcolor\":\"white\",\"linecolor\":\"white\",\"ticks\":\"\"},\"bgcolor\":\"#E5ECF6\",\"radialaxis\":{\"gridcolor\":\"white\",\"linecolor\":\"white\",\"ticks\":\"\"}},\"scene\":{\"xaxis\":{\"backgroundcolor\":\"#E5ECF6\",\"gridcolor\":\"white\",\"gridwidth\":2,\"linecolor\":\"white\",\"showbackground\":true,\"ticks\":\"\",\"zerolinecolor\":\"white\"},\"yaxis\":{\"backgroundcolor\":\"#E5ECF6\",\"gridcolor\":\"white\",\"gridwidth\":2,\"linecolor\":\"white\",\"showbackground\":true,\"ticks\":\"\",\"zerolinecolor\":\"white\"},\"zaxis\":{\"backgroundcolor\":\"#E5ECF6\",\"gridcolor\":\"white\",\"gridwidth\":2,\"linecolor\":\"white\",\"showbackground\":true,\"ticks\":\"\",\"zerolinecolor\":\"white\"}},\"shapedefaults\":{\"line\":{\"color\":\"#2a3f5f\"}},\"ternary\":{\"aaxis\":{\"gridcolor\":\"white\",\"linecolor\":\"white\",\"ticks\":\"\"},\"baxis\":{\"gridcolor\":\"white\",\"linecolor\":\"white\",\"ticks\":\"\"},\"bgcolor\":\"#E5ECF6\",\"caxis\":{\"gridcolor\":\"white\",\"linecolor\":\"white\",\"ticks\":\"\"}},\"title\":{\"x\":0.05},\"xaxis\":{\"automargin\":true,\"gridcolor\":\"white\",\"linecolor\":\"white\",\"ticks\":\"\",\"title\":{\"standoff\":15},\"zerolinecolor\":\"white\",\"zerolinewidth\":2},\"yaxis\":{\"automargin\":true,\"gridcolor\":\"white\",\"linecolor\":\"white\",\"ticks\":\"\",\"title\":{\"standoff\":15},\"zerolinecolor\":\"white\",\"zerolinewidth\":2}}},\"title\":{\"font\":{\"color\":\"#4D5663\"}},\"width\":1000,\"xaxis\":{\"gridcolor\":\"#E1E5ED\",\"showgrid\":true,\"tickfont\":{\"color\":\"#4D5663\"},\"title\":{\"font\":{\"color\":\"#4D5663\"},\"text\":\"\"},\"zerolinecolor\":\"#E1E5ED\"},\"yaxis\":{\"gridcolor\":\"#E1E5ED\",\"showgrid\":true,\"tickfont\":{\"color\":\"#4D5663\"},\"title\":{\"font\":{\"color\":\"#4D5663\"},\"text\":\"\"},\"zerolinecolor\":\"#E1E5ED\"}},                        {\"showLink\": true, \"linkText\": \"Export to plot.ly\", \"plotlyServerURL\": \"https://plot.ly\", \"responsive\": true}                    ).then(function(){\n",
       "                            \n",
       "var gd = document.getElementById('9914e036-8eb9-430b-81e0-7a64578e6680');\n",
       "var x = new MutationObserver(function (mutations, observer) {{\n",
       "        var display = window.getComputedStyle(gd).display;\n",
       "        if (!display || display === 'none') {{\n",
       "            console.log([gd, 'removed!']);\n",
       "            Plotly.purge(gd);\n",
       "            observer.disconnect();\n",
       "        }}\n",
       "}});\n",
       "\n",
       "// Listen for the removal of the full notebook cells\n",
       "var notebookContainer = gd.closest('#notebook-container');\n",
       "if (notebookContainer) {{\n",
       "    x.observe(notebookContainer, {childList: true});\n",
       "}}\n",
       "\n",
       "// Listen for the clearing of the current output cell\n",
       "var outputEl = gd.closest('.output');\n",
       "if (outputEl) {{\n",
       "    x.observe(outputEl, {childList: true});\n",
       "}}\n",
       "\n",
       "                        })                };                });            </script>        </div>"
      ]
     },
     "metadata": {},
     "output_type": "display_data"
    }
   ],
   "source": [
    "test_pnl = pd.DataFrame(index=X_test.index, columns=selected_currencies)\n",
    "proba = pd.DataFrame(index=X_test.index, columns=selected_currencies)\n",
    "for ccy in selected_currencies:\n",
    "    c = [f + '_' + ccy for f in selected_features]\n",
    "    test_pnl[ccy] = pipeline.predict(X_test[c].values) * y_test[ccy]\n",
    "    proba[ccy] = pipeline.predict_proba(X_test[c].values)[:,1]\n",
    "pnl = test_pnl.sum(axis=1)\n",
    "print(sqrt(12)*pnl.mean()/pnl.std())\n",
    "print(sqrt(12)*y_test.sum(axis=1).mean()/y_test.sum(axis=1).std())\n",
    "pd.concat([pnl, y_test.sum(axis=1)], axis=1).cumsum().iplot()\n",
    "ls_position = (proba.rank(axis=1) >= (len(proba.columns) - 1)).astype(int) - (proba.rank(axis=1) <= 2).astype(int)\n",
    "ls_pnl = (ls_position * y_test).sum(axis=1)\n",
    "print(sqrt(12)*ls_pnl.mean()/ls_pnl.std())\n",
    "ls_pnl.cumsum().iplot()"
   ]
  },
  {
   "cell_type": "code",
   "execution_count": 243,
   "metadata": {},
   "outputs": [
    {
     "ename": "IndexError",
     "evalue": "only integers, slices (`:`), ellipsis (`...`), numpy.newaxis (`None`) and integer or boolean arrays are valid indices",
     "output_type": "error",
     "traceback": [
      "\u001b[0;31m---------------------------------------------------------------------------\u001b[0m",
      "\u001b[0;31m_RemoteTraceback\u001b[0m                          Traceback (most recent call last)",
      "\u001b[0;31m_RemoteTraceback\u001b[0m: \n\"\"\"\nTraceback (most recent call last):\n  File \"/opt/anaconda3/lib/python3.8/site-packages/joblib/externals/loky/process_executor.py\", line 428, in _process_worker\n    r = call_item()\n  File \"/opt/anaconda3/lib/python3.8/site-packages/joblib/externals/loky/process_executor.py\", line 275, in __call__\n    return self.fn(*self.args, **self.kwargs)\n  File \"/opt/anaconda3/lib/python3.8/site-packages/joblib/_parallel_backends.py\", line 620, in __call__\n    return self.func(*args, **kwargs)\n  File \"/opt/anaconda3/lib/python3.8/site-packages/joblib/parallel.py\", line 288, in __call__\n    return [func(*args, **kwargs)\n  File \"/opt/anaconda3/lib/python3.8/site-packages/joblib/parallel.py\", line 288, in <listcomp>\n    return [func(*args, **kwargs)\n  File \"/opt/anaconda3/lib/python3.8/site-packages/sklearn/utils/parallel.py\", line 123, in __call__\n    return self.function(*args, **kwargs)\n  File \"/opt/anaconda3/lib/python3.8/site-packages/sklearn/model_selection/_validation.py\", line 686, in _fit_and_score\n    estimator.fit(X_train, y_train, **fit_params)\n  File \"/opt/anaconda3/lib/python3.8/site-packages/sklearn/compose/_target.py\", line 245, in fit\n    self._fit_transformer(y_2d)\n  File \"/opt/anaconda3/lib/python3.8/site-packages/sklearn/compose/_target.py\", line 188, in _fit_transformer\n    y_sel_t = self.transformer_.transform(y_sel)\n  File \"/opt/anaconda3/lib/python3.8/site-packages/sklearn/utils/_set_output.py\", line 140, in wrapped\n    data_to_wrap = f(self, X, *args, **kwargs)\n  File \"/opt/anaconda3/lib/python3.8/site-packages/sklearn/preprocessing/_function_transformer.py\", line 238, in transform\n    return self._transform(X, func=self.func, kw_args=self.kw_args)\n  File \"/opt/anaconda3/lib/python3.8/site-packages/sklearn/preprocessing/_function_transformer.py\", line 310, in _transform\n    return func(X, **(kw_args if kw_args else {}))\n  File \"<ipython-input-242-9180c62ffec7>\", line 36, in target_flat_\nIndexError: only integers, slices (`:`), ellipsis (`...`), numpy.newaxis (`None`) and integer or boolean arrays are valid indices\n\"\"\"",
      "\nThe above exception was the direct cause of the following exception:\n",
      "\u001b[0;31mIndexError\u001b[0m                                Traceback (most recent call last)",
      "\u001b[0;32m<ipython-input-243-8f1633279236>\u001b[0m in \u001b[0;36m<module>\u001b[0;34m\u001b[0m\n\u001b[1;32m     12\u001b[0m                    'regressor__svm__gamma':[\"scale\", \"auto\", 1e-07, 1e-06, 1e-05, 0.0001, 0.001, 0.01, 0.1, 1]}]\n\u001b[1;32m     13\u001b[0m \u001b[0mgrid_search\u001b[0m \u001b[0;34m=\u001b[0m \u001b[0mGridSearchCV\u001b[0m\u001b[0;34m(\u001b[0m\u001b[0mmodel\u001b[0m\u001b[0;34m,\u001b[0m \u001b[0mparam_grid_svm\u001b[0m\u001b[0;34m,\u001b[0m \u001b[0mn_jobs\u001b[0m\u001b[0;34m=\u001b[0m\u001b[0;34m-\u001b[0m\u001b[0;36m1\u001b[0m\u001b[0;34m,\u001b[0m \u001b[0mcv\u001b[0m\u001b[0;34m=\u001b[0m\u001b[0mtscv\u001b[0m\u001b[0;34m,\u001b[0m \u001b[0mscoring\u001b[0m\u001b[0;34m=\u001b[0m\u001b[0;34m'f1_macro'\u001b[0m\u001b[0;34m,\u001b[0m \u001b[0merror_score\u001b[0m\u001b[0;34m=\u001b[0m\u001b[0;34m'raise'\u001b[0m\u001b[0;34m)\u001b[0m\u001b[0;34m\u001b[0m\u001b[0;34m\u001b[0m\u001b[0m\n\u001b[0;32m---> 14\u001b[0;31m \u001b[0mgrid_search\u001b[0m\u001b[0;34m.\u001b[0m\u001b[0mfit\u001b[0m\u001b[0;34m(\u001b[0m\u001b[0mX_train\u001b[0m\u001b[0;34m,\u001b[0m \u001b[0;34m(\u001b[0m\u001b[0my_train\u001b[0m\u001b[0;34m>\u001b[0m\u001b[0;36m0.5\u001b[0m\u001b[0;34m)\u001b[0m\u001b[0;34m.\u001b[0m\u001b[0mastype\u001b[0m\u001b[0;34m(\u001b[0m\u001b[0mint\u001b[0m\u001b[0;34m)\u001b[0m\u001b[0;34m)\u001b[0m\u001b[0;34m\u001b[0m\u001b[0;34m\u001b[0m\u001b[0m\n\u001b[0m\u001b[1;32m     15\u001b[0m \u001b[0mgrid_search\u001b[0m\u001b[0;34m.\u001b[0m\u001b[0mbest_params_\u001b[0m\u001b[0;34m\u001b[0m\u001b[0;34m\u001b[0m\u001b[0m\n",
      "\u001b[0;32m/opt/anaconda3/lib/python3.8/site-packages/sklearn/model_selection/_search.py\u001b[0m in \u001b[0;36mfit\u001b[0;34m(self, X, y, groups, **fit_params)\u001b[0m\n\u001b[1;32m    872\u001b[0m                 \u001b[0;32mreturn\u001b[0m \u001b[0mresults\u001b[0m\u001b[0;34m\u001b[0m\u001b[0;34m\u001b[0m\u001b[0m\n\u001b[1;32m    873\u001b[0m \u001b[0;34m\u001b[0m\u001b[0m\n\u001b[0;32m--> 874\u001b[0;31m             \u001b[0mself\u001b[0m\u001b[0;34m.\u001b[0m\u001b[0m_run_search\u001b[0m\u001b[0;34m(\u001b[0m\u001b[0mevaluate_candidates\u001b[0m\u001b[0;34m)\u001b[0m\u001b[0;34m\u001b[0m\u001b[0;34m\u001b[0m\u001b[0m\n\u001b[0m\u001b[1;32m    875\u001b[0m \u001b[0;34m\u001b[0m\u001b[0m\n\u001b[1;32m    876\u001b[0m             \u001b[0;31m# multimetric is determined here because in the case of a callable\u001b[0m\u001b[0;34m\u001b[0m\u001b[0;34m\u001b[0m\u001b[0;34m\u001b[0m\u001b[0m\n",
      "\u001b[0;32m/opt/anaconda3/lib/python3.8/site-packages/sklearn/model_selection/_search.py\u001b[0m in \u001b[0;36m_run_search\u001b[0;34m(self, evaluate_candidates)\u001b[0m\n\u001b[1;32m   1386\u001b[0m     \u001b[0;32mdef\u001b[0m \u001b[0m_run_search\u001b[0m\u001b[0;34m(\u001b[0m\u001b[0mself\u001b[0m\u001b[0;34m,\u001b[0m \u001b[0mevaluate_candidates\u001b[0m\u001b[0;34m)\u001b[0m\u001b[0;34m:\u001b[0m\u001b[0;34m\u001b[0m\u001b[0;34m\u001b[0m\u001b[0m\n\u001b[1;32m   1387\u001b[0m         \u001b[0;34m\"\"\"Search all candidates in param_grid\"\"\"\u001b[0m\u001b[0;34m\u001b[0m\u001b[0;34m\u001b[0m\u001b[0m\n\u001b[0;32m-> 1388\u001b[0;31m         \u001b[0mevaluate_candidates\u001b[0m\u001b[0;34m(\u001b[0m\u001b[0mParameterGrid\u001b[0m\u001b[0;34m(\u001b[0m\u001b[0mself\u001b[0m\u001b[0;34m.\u001b[0m\u001b[0mparam_grid\u001b[0m\u001b[0;34m)\u001b[0m\u001b[0;34m)\u001b[0m\u001b[0;34m\u001b[0m\u001b[0;34m\u001b[0m\u001b[0m\n\u001b[0m\u001b[1;32m   1389\u001b[0m \u001b[0;34m\u001b[0m\u001b[0m\n\u001b[1;32m   1390\u001b[0m \u001b[0;34m\u001b[0m\u001b[0m\n",
      "\u001b[0;32m/opt/anaconda3/lib/python3.8/site-packages/sklearn/model_selection/_search.py\u001b[0m in \u001b[0;36mevaluate_candidates\u001b[0;34m(candidate_params, cv, more_results)\u001b[0m\n\u001b[1;32m    819\u001b[0m                     )\n\u001b[1;32m    820\u001b[0m \u001b[0;34m\u001b[0m\u001b[0m\n\u001b[0;32m--> 821\u001b[0;31m                 out = parallel(\n\u001b[0m\u001b[1;32m    822\u001b[0m                     delayed(_fit_and_score)(\n\u001b[1;32m    823\u001b[0m                         \u001b[0mclone\u001b[0m\u001b[0;34m(\u001b[0m\u001b[0mbase_estimator\u001b[0m\u001b[0;34m)\u001b[0m\u001b[0;34m,\u001b[0m\u001b[0;34m\u001b[0m\u001b[0;34m\u001b[0m\u001b[0m\n",
      "\u001b[0;32m/opt/anaconda3/lib/python3.8/site-packages/sklearn/utils/parallel.py\u001b[0m in \u001b[0;36m__call__\u001b[0;34m(self, iterable)\u001b[0m\n\u001b[1;32m     61\u001b[0m             \u001b[0;32mfor\u001b[0m \u001b[0mdelayed_func\u001b[0m\u001b[0;34m,\u001b[0m \u001b[0margs\u001b[0m\u001b[0;34m,\u001b[0m \u001b[0mkwargs\u001b[0m \u001b[0;32min\u001b[0m \u001b[0miterable\u001b[0m\u001b[0;34m\u001b[0m\u001b[0;34m\u001b[0m\u001b[0m\n\u001b[1;32m     62\u001b[0m         )\n\u001b[0;32m---> 63\u001b[0;31m         \u001b[0;32mreturn\u001b[0m \u001b[0msuper\u001b[0m\u001b[0;34m(\u001b[0m\u001b[0;34m)\u001b[0m\u001b[0;34m.\u001b[0m\u001b[0m__call__\u001b[0m\u001b[0;34m(\u001b[0m\u001b[0miterable_with_config\u001b[0m\u001b[0;34m)\u001b[0m\u001b[0;34m\u001b[0m\u001b[0;34m\u001b[0m\u001b[0m\n\u001b[0m\u001b[1;32m     64\u001b[0m \u001b[0;34m\u001b[0m\u001b[0m\n\u001b[1;32m     65\u001b[0m \u001b[0;34m\u001b[0m\u001b[0m\n",
      "\u001b[0;32m/opt/anaconda3/lib/python3.8/site-packages/joblib/parallel.py\u001b[0m in \u001b[0;36m__call__\u001b[0;34m(self, iterable)\u001b[0m\n\u001b[1;32m   1096\u001b[0m \u001b[0;34m\u001b[0m\u001b[0m\n\u001b[1;32m   1097\u001b[0m             \u001b[0;32mwith\u001b[0m \u001b[0mself\u001b[0m\u001b[0;34m.\u001b[0m\u001b[0m_backend\u001b[0m\u001b[0;34m.\u001b[0m\u001b[0mretrieval_context\u001b[0m\u001b[0;34m(\u001b[0m\u001b[0;34m)\u001b[0m\u001b[0;34m:\u001b[0m\u001b[0;34m\u001b[0m\u001b[0;34m\u001b[0m\u001b[0m\n\u001b[0;32m-> 1098\u001b[0;31m                 \u001b[0mself\u001b[0m\u001b[0;34m.\u001b[0m\u001b[0mretrieve\u001b[0m\u001b[0;34m(\u001b[0m\u001b[0;34m)\u001b[0m\u001b[0;34m\u001b[0m\u001b[0;34m\u001b[0m\u001b[0m\n\u001b[0m\u001b[1;32m   1099\u001b[0m             \u001b[0;31m# Make sure that we get a last message telling us we are done\u001b[0m\u001b[0;34m\u001b[0m\u001b[0;34m\u001b[0m\u001b[0;34m\u001b[0m\u001b[0m\n\u001b[1;32m   1100\u001b[0m             \u001b[0melapsed_time\u001b[0m \u001b[0;34m=\u001b[0m \u001b[0mtime\u001b[0m\u001b[0;34m.\u001b[0m\u001b[0mtime\u001b[0m\u001b[0;34m(\u001b[0m\u001b[0;34m)\u001b[0m \u001b[0;34m-\u001b[0m \u001b[0mself\u001b[0m\u001b[0;34m.\u001b[0m\u001b[0m_start_time\u001b[0m\u001b[0;34m\u001b[0m\u001b[0;34m\u001b[0m\u001b[0m\n",
      "\u001b[0;32m/opt/anaconda3/lib/python3.8/site-packages/joblib/parallel.py\u001b[0m in \u001b[0;36mretrieve\u001b[0;34m(self)\u001b[0m\n\u001b[1;32m    973\u001b[0m             \u001b[0;32mtry\u001b[0m\u001b[0;34m:\u001b[0m\u001b[0;34m\u001b[0m\u001b[0;34m\u001b[0m\u001b[0m\n\u001b[1;32m    974\u001b[0m                 \u001b[0;32mif\u001b[0m \u001b[0mgetattr\u001b[0m\u001b[0;34m(\u001b[0m\u001b[0mself\u001b[0m\u001b[0;34m.\u001b[0m\u001b[0m_backend\u001b[0m\u001b[0;34m,\u001b[0m \u001b[0;34m'supports_timeout'\u001b[0m\u001b[0;34m,\u001b[0m \u001b[0;32mFalse\u001b[0m\u001b[0;34m)\u001b[0m\u001b[0;34m:\u001b[0m\u001b[0;34m\u001b[0m\u001b[0;34m\u001b[0m\u001b[0m\n\u001b[0;32m--> 975\u001b[0;31m                     \u001b[0mself\u001b[0m\u001b[0;34m.\u001b[0m\u001b[0m_output\u001b[0m\u001b[0;34m.\u001b[0m\u001b[0mextend\u001b[0m\u001b[0;34m(\u001b[0m\u001b[0mjob\u001b[0m\u001b[0;34m.\u001b[0m\u001b[0mget\u001b[0m\u001b[0;34m(\u001b[0m\u001b[0mtimeout\u001b[0m\u001b[0;34m=\u001b[0m\u001b[0mself\u001b[0m\u001b[0;34m.\u001b[0m\u001b[0mtimeout\u001b[0m\u001b[0;34m)\u001b[0m\u001b[0;34m)\u001b[0m\u001b[0;34m\u001b[0m\u001b[0;34m\u001b[0m\u001b[0m\n\u001b[0m\u001b[1;32m    976\u001b[0m                 \u001b[0;32melse\u001b[0m\u001b[0;34m:\u001b[0m\u001b[0;34m\u001b[0m\u001b[0;34m\u001b[0m\u001b[0m\n\u001b[1;32m    977\u001b[0m                     \u001b[0mself\u001b[0m\u001b[0;34m.\u001b[0m\u001b[0m_output\u001b[0m\u001b[0;34m.\u001b[0m\u001b[0mextend\u001b[0m\u001b[0;34m(\u001b[0m\u001b[0mjob\u001b[0m\u001b[0;34m.\u001b[0m\u001b[0mget\u001b[0m\u001b[0;34m(\u001b[0m\u001b[0;34m)\u001b[0m\u001b[0;34m)\u001b[0m\u001b[0;34m\u001b[0m\u001b[0;34m\u001b[0m\u001b[0m\n",
      "\u001b[0;32m/opt/anaconda3/lib/python3.8/site-packages/joblib/_parallel_backends.py\u001b[0m in \u001b[0;36mwrap_future_result\u001b[0;34m(future, timeout)\u001b[0m\n\u001b[1;32m    565\u001b[0m         AsyncResults.get from multiprocessing.\"\"\"\n\u001b[1;32m    566\u001b[0m         \u001b[0;32mtry\u001b[0m\u001b[0;34m:\u001b[0m\u001b[0;34m\u001b[0m\u001b[0;34m\u001b[0m\u001b[0m\n\u001b[0;32m--> 567\u001b[0;31m             \u001b[0;32mreturn\u001b[0m \u001b[0mfuture\u001b[0m\u001b[0;34m.\u001b[0m\u001b[0mresult\u001b[0m\u001b[0;34m(\u001b[0m\u001b[0mtimeout\u001b[0m\u001b[0;34m=\u001b[0m\u001b[0mtimeout\u001b[0m\u001b[0;34m)\u001b[0m\u001b[0;34m\u001b[0m\u001b[0;34m\u001b[0m\u001b[0m\n\u001b[0m\u001b[1;32m    568\u001b[0m         \u001b[0;32mexcept\u001b[0m \u001b[0mCfTimeoutError\u001b[0m \u001b[0;32mas\u001b[0m \u001b[0me\u001b[0m\u001b[0;34m:\u001b[0m\u001b[0;34m\u001b[0m\u001b[0;34m\u001b[0m\u001b[0m\n\u001b[1;32m    569\u001b[0m             \u001b[0;32mraise\u001b[0m \u001b[0mTimeoutError\u001b[0m \u001b[0;32mfrom\u001b[0m \u001b[0me\u001b[0m\u001b[0;34m\u001b[0m\u001b[0;34m\u001b[0m\u001b[0m\n",
      "\u001b[0;32m/opt/anaconda3/lib/python3.8/concurrent/futures/_base.py\u001b[0m in \u001b[0;36mresult\u001b[0;34m(self, timeout)\u001b[0m\n\u001b[1;32m    437\u001b[0m                 \u001b[0;32mraise\u001b[0m \u001b[0mCancelledError\u001b[0m\u001b[0;34m(\u001b[0m\u001b[0;34m)\u001b[0m\u001b[0;34m\u001b[0m\u001b[0;34m\u001b[0m\u001b[0m\n\u001b[1;32m    438\u001b[0m             \u001b[0;32melif\u001b[0m \u001b[0mself\u001b[0m\u001b[0;34m.\u001b[0m\u001b[0m_state\u001b[0m \u001b[0;34m==\u001b[0m \u001b[0mFINISHED\u001b[0m\u001b[0;34m:\u001b[0m\u001b[0;34m\u001b[0m\u001b[0;34m\u001b[0m\u001b[0m\n\u001b[0;32m--> 439\u001b[0;31m                 \u001b[0;32mreturn\u001b[0m \u001b[0mself\u001b[0m\u001b[0;34m.\u001b[0m\u001b[0m__get_result\u001b[0m\u001b[0;34m(\u001b[0m\u001b[0;34m)\u001b[0m\u001b[0;34m\u001b[0m\u001b[0;34m\u001b[0m\u001b[0m\n\u001b[0m\u001b[1;32m    440\u001b[0m             \u001b[0;32melse\u001b[0m\u001b[0;34m:\u001b[0m\u001b[0;34m\u001b[0m\u001b[0;34m\u001b[0m\u001b[0m\n\u001b[1;32m    441\u001b[0m                 \u001b[0;32mraise\u001b[0m \u001b[0mTimeoutError\u001b[0m\u001b[0;34m(\u001b[0m\u001b[0;34m)\u001b[0m\u001b[0;34m\u001b[0m\u001b[0;34m\u001b[0m\u001b[0m\n",
      "\u001b[0;32m/opt/anaconda3/lib/python3.8/concurrent/futures/_base.py\u001b[0m in \u001b[0;36m__get_result\u001b[0;34m(self)\u001b[0m\n\u001b[1;32m    386\u001b[0m     \u001b[0;32mdef\u001b[0m \u001b[0m__get_result\u001b[0m\u001b[0;34m(\u001b[0m\u001b[0mself\u001b[0m\u001b[0;34m)\u001b[0m\u001b[0;34m:\u001b[0m\u001b[0;34m\u001b[0m\u001b[0;34m\u001b[0m\u001b[0m\n\u001b[1;32m    387\u001b[0m         \u001b[0;32mif\u001b[0m \u001b[0mself\u001b[0m\u001b[0;34m.\u001b[0m\u001b[0m_exception\u001b[0m\u001b[0;34m:\u001b[0m\u001b[0;34m\u001b[0m\u001b[0;34m\u001b[0m\u001b[0m\n\u001b[0;32m--> 388\u001b[0;31m             \u001b[0;32mraise\u001b[0m \u001b[0mself\u001b[0m\u001b[0;34m.\u001b[0m\u001b[0m_exception\u001b[0m\u001b[0;34m\u001b[0m\u001b[0;34m\u001b[0m\u001b[0m\n\u001b[0m\u001b[1;32m    389\u001b[0m         \u001b[0;32melse\u001b[0m\u001b[0;34m:\u001b[0m\u001b[0;34m\u001b[0m\u001b[0;34m\u001b[0m\u001b[0m\n\u001b[1;32m    390\u001b[0m             \u001b[0;32mreturn\u001b[0m \u001b[0mself\u001b[0m\u001b[0;34m.\u001b[0m\u001b[0m_result\u001b[0m\u001b[0;34m\u001b[0m\u001b[0;34m\u001b[0m\u001b[0m\n",
      "\u001b[0;31mIndexError\u001b[0m: only integers, slices (`:`), ellipsis (`...`), numpy.newaxis (`None`) and integer or boolean arrays are valid indices"
     ]
    }
   ],
   "source": [
    "data_flat_transformer = FunctionTransformer(data_flat_, kw_args={'selected_features':selected_features, 'selected_currencies':selected_currencies})\n",
    "target_flat_transformer = FunctionTransformer(target_flat_, kw_args={'selected_currencies':selected_currencies})\n",
    "pipeline_cv = Pipeline([\n",
    "    ('preprocess', data_flat_transformer),\n",
    "    ('svm', SVC())  # SVM classifier\n",
    "])\n",
    "model = TransformedTargetRegressor(regressor=pipeline_cv, transformer=target_flat_transformer)\n",
    "param_grid_svm = [ {'regressor__svm__C':[0.001, 0.01, 0.05, 0.1, 0.5, 1.0, 10.0, 100, 125, 150, 175, 200],\n",
    "                    'regressor__svm__kernel':['linear']},\n",
    "                  {'regressor__svm__C':[0.001, 0.01, 0.05, 0.1, 0.5, 1.0, 10.0, 100, 125, 150, 175, 200],\n",
    "                   'regressor__svm__kernel':['rbf'],\n",
    "                   'regressor__svm__gamma':[\"scale\", \"auto\", 1e-07, 1e-06, 1e-05, 0.0001, 0.001, 0.01, 0.1, 1]}]\n",
    "grid_search = GridSearchCV(model, param_grid_svm, n_jobs=-1, cv=tscv, scoring='f1_macro', error_score='raise')\n",
    "grid_search.fit(X_train, (y_train>0.5).astype(int))\n",
    "grid_search.best_params_"
   ]
  },
  {
   "cell_type": "code",
   "execution_count": 233,
   "metadata": {},
   "outputs": [
    {
     "data": {
      "text/plain": [
       "{'cv': TimeSeriesSplit(gap=1, max_train_size=None, n_splits=5, test_size=None),\n",
       " 'error_score': nan,\n",
       " 'estimator__check_inverse': True,\n",
       " 'estimator__func': None,\n",
       " 'estimator__inverse_func': None,\n",
       " 'estimator__regressor__memory': None,\n",
       " 'estimator__regressor__steps': [('preprocess',\n",
       "   FunctionTransformer(func=<function data_flat_ at 0x7fe98b83f8b0>,\n",
       "                       kw_args={'selected_currencies': ['EUR', 'JPY', 'GBP', 'CAD',\n",
       "                                                        'AUD', 'NZD', 'CHF'],\n",
       "                                'selected_features': ['pct_implied_atm',\n",
       "                                                      'pct_spread_realised_ewm']})),\n",
       "  ('svm', SVC())],\n",
       " 'estimator__regressor__verbose': False,\n",
       " 'estimator__regressor__preprocess': FunctionTransformer(func=<function data_flat_ at 0x7fe98b83f8b0>,\n",
       "                     kw_args={'selected_currencies': ['EUR', 'JPY', 'GBP', 'CAD',\n",
       "                                                      'AUD', 'NZD', 'CHF'],\n",
       "                              'selected_features': ['pct_implied_atm',\n",
       "                                                    'pct_spread_realised_ewm']}),\n",
       " 'estimator__regressor__svm': SVC(),\n",
       " 'estimator__regressor__preprocess__accept_sparse': False,\n",
       " 'estimator__regressor__preprocess__check_inverse': True,\n",
       " 'estimator__regressor__preprocess__feature_names_out': None,\n",
       " 'estimator__regressor__preprocess__func': <function __main__.data_flat_(X, selected_features, selected_currencies, add_common=False)>,\n",
       " 'estimator__regressor__preprocess__inv_kw_args': None,\n",
       " 'estimator__regressor__preprocess__inverse_func': None,\n",
       " 'estimator__regressor__preprocess__kw_args': {'selected_features': ['pct_implied_atm',\n",
       "   'pct_spread_realised_ewm'],\n",
       "  'selected_currencies': ['EUR', 'JPY', 'GBP', 'CAD', 'AUD', 'NZD', 'CHF']},\n",
       " 'estimator__regressor__preprocess__validate': False,\n",
       " 'estimator__regressor__svm__C': 1.0,\n",
       " 'estimator__regressor__svm__break_ties': False,\n",
       " 'estimator__regressor__svm__cache_size': 200,\n",
       " 'estimator__regressor__svm__class_weight': None,\n",
       " 'estimator__regressor__svm__coef0': 0.0,\n",
       " 'estimator__regressor__svm__decision_function_shape': 'ovr',\n",
       " 'estimator__regressor__svm__degree': 3,\n",
       " 'estimator__regressor__svm__gamma': 'scale',\n",
       " 'estimator__regressor__svm__kernel': 'rbf',\n",
       " 'estimator__regressor__svm__max_iter': -1,\n",
       " 'estimator__regressor__svm__probability': False,\n",
       " 'estimator__regressor__svm__random_state': None,\n",
       " 'estimator__regressor__svm__shrinking': True,\n",
       " 'estimator__regressor__svm__tol': 0.001,\n",
       " 'estimator__regressor__svm__verbose': False,\n",
       " 'estimator__regressor': Pipeline(steps=[('preprocess',\n",
       "                  FunctionTransformer(func=<function data_flat_ at 0x7fe98b83f8b0>,\n",
       "                                      kw_args={'selected_currencies': ['EUR',\n",
       "                                                                       'JPY',\n",
       "                                                                       'GBP',\n",
       "                                                                       'CAD',\n",
       "                                                                       'AUD',\n",
       "                                                                       'NZD',\n",
       "                                                                       'CHF'],\n",
       "                                               'selected_features': ['pct_implied_atm',\n",
       "                                                                     'pct_spread_realised_ewm']})),\n",
       "                 ('svm', SVC())]),\n",
       " 'estimator__transformer__accept_sparse': False,\n",
       " 'estimator__transformer__check_inverse': True,\n",
       " 'estimator__transformer__feature_names_out': None,\n",
       " 'estimator__transformer__func': <function __main__.target_flat_(y, selected_currencies)>,\n",
       " 'estimator__transformer__inv_kw_args': None,\n",
       " 'estimator__transformer__inverse_func': None,\n",
       " 'estimator__transformer__kw_args': {'selected_currencies': ['EUR',\n",
       "   'JPY',\n",
       "   'GBP',\n",
       "   'CAD',\n",
       "   'AUD',\n",
       "   'NZD',\n",
       "   'CHF']},\n",
       " 'estimator__transformer__validate': False,\n",
       " 'estimator__transformer': FunctionTransformer(func=<function target_flat_ at 0x7fe96d36d9d0>,\n",
       "                     kw_args={'selected_currencies': ['EUR', 'JPY', 'GBP', 'CAD',\n",
       "                                                      'AUD', 'NZD', 'CHF']}),\n",
       " 'estimator': TransformedTargetRegressor(regressor=Pipeline(steps=[('preprocess',\n",
       "                                                       FunctionTransformer(func=<function data_flat_ at 0x7fe98b83f8b0>,\n",
       "                                                                           kw_args={'selected_currencies': ['EUR',\n",
       "                                                                                                            'JPY',\n",
       "                                                                                                            'GBP',\n",
       "                                                                                                            'CAD',\n",
       "                                                                                                            'AUD',\n",
       "                                                                                                            'NZD',\n",
       "                                                                                                            'CHF'],\n",
       "                                                                                    'selected_features': ['pct_implied_atm',\n",
       "                                                                                                          'pct_spread_realised_ewm']})),\n",
       "                                                      ('svm', SVC())]),\n",
       "                            transformer=FunctionTransformer(func=<function target_flat_ at 0x7fe96d36d9d0>,\n",
       "                                                            kw_args={'selected_currencies': ['EUR',\n",
       "                                                                                             'JPY',\n",
       "                                                                                             'GBP',\n",
       "                                                                                             'CAD',\n",
       "                                                                                             'AUD',\n",
       "                                                                                             'NZD',\n",
       "                                                                                             'CHF']})),\n",
       " 'n_jobs': -1,\n",
       " 'param_grid': [{'regressor__svm__C': [0.001,\n",
       "    0.01,\n",
       "    0.05,\n",
       "    0.1,\n",
       "    0.5,\n",
       "    1.0,\n",
       "    10.0,\n",
       "    100,\n",
       "    125,\n",
       "    150,\n",
       "    175,\n",
       "    200],\n",
       "   'regressor__svm__kernel': ['linear']},\n",
       "  {'regressor__svm__C': [0.001,\n",
       "    0.01,\n",
       "    0.05,\n",
       "    0.1,\n",
       "    0.5,\n",
       "    1.0,\n",
       "    10.0,\n",
       "    100,\n",
       "    125,\n",
       "    150,\n",
       "    175,\n",
       "    200],\n",
       "   'regressor__svm__kernel': ['rbf'],\n",
       "   'regressor__svm__gamma': ['scale',\n",
       "    'auto',\n",
       "    1e-07,\n",
       "    1e-06,\n",
       "    1e-05,\n",
       "    0.0001,\n",
       "    0.001,\n",
       "    0.01,\n",
       "    0.1,\n",
       "    1]}],\n",
       " 'pre_dispatch': '2*n_jobs',\n",
       " 'refit': True,\n",
       " 'return_train_score': False,\n",
       " 'scoring': 'f1_macro',\n",
       " 'verbose': 0}"
      ]
     },
     "execution_count": 233,
     "metadata": {},
     "output_type": "execute_result"
    }
   ],
   "source": [
    "grid_search.get_params()"
   ]
  },
  {
   "cell_type": "code",
   "execution_count": 108,
   "metadata": {},
   "outputs": [
    {
     "name": "stdout",
     "output_type": "stream",
     "text": [
      "0.6968862109634592\n",
      "0.31108572056647654\n",
      "0.3526540300714039 0.27793777548720205\n"
     ]
    }
   ],
   "source": [
    "print(sqrt(12)*(pipeline.predict(X_train_flat) * y_train_flat).mean()/(pipeline.predict(X_train_flat) * y_train_flat).std())\n",
    "print(sqrt(12)*(y_train_flat).mean()/(y_train_flat).std())\n",
    "print((pipeline.predict(X_train_flat) * y_train_flat).mean(), y_train_flat.mean())"
   ]
  },
  {
   "cell_type": "code",
   "execution_count": 91,
   "metadata": {},
   "outputs": [],
   "source": [
    "selected_features = ['pct_implied_atm', 'pct_spread_realised_ewm']\n",
    "selected_currencies = ccies\n",
    "X_train_flat = data_flat(X_train, selected_features, selected_currencies)\n",
    "X_test_flat = data_flat(X_test, selected_features, selected_currencies)\n",
    "y_train_flat = pd.Series(y_train[selected_currencies].values.flatten(order='F'))\n",
    "y_test_flat = pd.Series(y_test[selected_currencies].values.flatten(order='F'))"
   ]
  },
  {
   "cell_type": "code",
   "execution_count": 21,
   "metadata": {},
   "outputs": [],
   "source": [
    "selected_features = [s[:-4] for s in list(X.filter(regex='EUR').columns)]\n",
    "selected_currencies = ccies\n",
    "X_train_flat = data_flat(X_train, selected_features, selected_currencies, add_common=True)\n",
    "X_test_flat = data_flat(X_test, selected_features, selected_currencies, add_common=True)\n",
    "y_train_flat = pd.Series(y_train[selected_currencies].values.flatten(order='F'))\n",
    "y_test_flat = pd.Series(y_test[selected_currencies].values.flatten(order='F'))\n",
    "threshold = 0.5\n",
    "labels_train = (y_train_flat > threshold).astype(int)\n",
    "labels_test = (y_test_flat > threshold).astype(int)"
   ]
  },
  {
   "cell_type": "code",
   "execution_count": 22,
   "metadata": {},
   "outputs": [
    {
     "data": {
      "text/plain": [
       "spread_realised_ctc    0.011467\n",
       "spread_realised_gk     0.064245\n",
       "spread_realised_par    0.066192\n",
       "spread_realised_rs     0.081599\n",
       "spread_realised_yz     0.134437\n",
       "z_implied_atm          0.159194\n",
       "spread_realised_ewm    0.194169\n",
       "z_implied_kurt         0.213771\n",
       "z_spot_range           0.262517\n",
       "z_realised_yz          0.262537\n",
       "z_realised_gk          0.298420\n",
       "z_realised_rs          0.299059\n",
       "z_realised_par         0.306514\n",
       "z_realised_ewm         0.364563\n",
       "z_CVIX1I Index_all     0.379059\n",
       "dtype: float64"
      ]
     },
     "execution_count": 22,
     "metadata": {},
     "output_type": "execute_result"
    }
   ],
   "source": [
    "fs = SelectKBest(score_func=f_classif)\n",
    "fit = fs.fit(X_train_flat,labels_train)\n",
    "features_p = pd.Series(index=X_train_flat.columns, data=fit.pvalues_)\n",
    "#X_train.drop(features_p[features_p > 0.05].index, axis=1, inplace=True)\n",
    "features_p.sort_values().head(15)"
   ]
  },
  {
   "cell_type": "code",
   "execution_count": 15,
   "metadata": {},
   "outputs": [],
   "source": [
    "features_to_drop = []\n",
    "features_corr = X_train_flat.corr()\n",
    "for i in features_corr[(features_corr > 0.9) & (features_corr < 1)].\\\n",
    "unstack().dropna().sort_values(ascending=False).index:\n",
    "    if features_p[i[0]] > features_p[i[1]]:\n",
    "        features_to_drop.append(i[0])\n",
    "    else:\n",
    "        features_to_drop.append(i[1])"
   ]
  },
  {
   "cell_type": "code",
   "execution_count": 16,
   "metadata": {},
   "outputs": [
    {
     "data": {
      "image/png": "[encoded data removed]",
      "text/plain": [
       "<Figure size 432x288 with 2 Axes>"
      ]
     },
     "metadata": {
      "needs_background": "light"
     },
     "output_type": "display_data"
    }
   ],
   "source": [
    "X_train_flat.drop(set(features_to_drop), axis=1, inplace=True)\n",
    "sns.set(rc={'figure.figsize': (20, 10)})\n",
    "\n",
    "sns.heatmap(X_train_flat.corr(), \n",
    "            annot=True,  \n",
    "            annot_kws={\"size\": 11}, \n",
    "            fmt=\".2f\", \n",
    "            linewidth=.5, \n",
    "            cmap=\"coolwarm\", \n",
    "            cbar=True);\n",
    "\n",
    "plt.title('Features Set Correlations');"
   ]
  },
  {
   "cell_type": "code",
   "execution_count": 23,
   "metadata": {},
   "outputs": [
    {
     "data": {
      "text/plain": [
       "{'max_depth': 6, 'n_estimators': 500}"
      ]
     },
     "execution_count": 23,
     "metadata": {},
     "output_type": "execute_result"
    }
   ],
   "source": [
    "tscv = TimeSeriesSplit(n_splits=5, gap=1)\n",
    "param_grid = {\"n_estimators\":[10, 100, 500],\n",
    "              \"max_depth\":[3, 4, 5, 6, 7, 8]}\n",
    "\n",
    "fs_model = GridSearchCV(RandomForestClassifier(random_state=42), \n",
    "                        param_grid, n_jobs=-1, cv=tscv, scoring='roc_auc')\n",
    "fs_model.fit(X_train_flat, labels_train)\n",
    "fs_model.best_params_"
   ]
  },
  {
   "cell_type": "code",
   "execution_count": 26,
   "metadata": {},
   "outputs": [
    {
     "data": {
      "text/plain": [
       "Index(['z_realised_ctc', 'z_realised_ewm', 'z_implied_atm', 'z_implied_skew',\n",
       "       'z_implied_kurt', 'z_realised_par', 'z_realised_gk', 'z_realised_rs',\n",
       "       'z_realised_yz', 'z_spot_range', 'spread_realised_ctc',\n",
       "       'spread_realised_ewm', 'spread_realised_par', 'spread_realised_gk',\n",
       "       'spread_realised_rs', 'spread_realised_yz', 'z_MOVE Index_all',\n",
       "       'z_VIX Index_all', 'z_CVIX1I Index_all'],\n",
       "      dtype='object')"
      ]
     },
     "execution_count": 26,
     "metadata": {},
     "output_type": "execute_result"
    }
   ],
   "source": []
  },
  {
   "cell_type": "code",
   "execution_count": 24,
   "metadata": {},
   "outputs": [
    {
     "name": "stdout",
     "output_type": "stream",
     "text": [
      "Boruta Strong features: ['spread_realised_gk', 'z_MOVE Index_all', 'z_VIX Index_all', 'z_CVIX1I Index_all']\n",
      "Boruta Weak features: []\n"
     ]
    }
   ],
   "source": [
    "fs_model = RandomForestClassifier(max_depth=6, n_estimators=500, random_state=42)\n",
    "fs_model.fit(X_train_flat, labels_train)\n",
    "\n",
    "boruta = BorutaPy(estimator=fs_model, n_estimators = 'auto', random_state=42)\n",
    "boruta.fit(np.array(X_train_flat), np.array(labels_train))\n",
    "strong_support = X_train_flat.columns[boruta.support_].to_list()\n",
    "weak_support = X_train_flat.columns[boruta.support_weak_].to_list()\n",
    "print('Boruta Strong features:', strong_support)\n",
    "print('Boruta Weak features:', weak_support)"
   ]
  },
  {
   "cell_type": "code",
   "execution_count": 27,
   "metadata": {},
   "outputs": [],
   "source": [
    "selected_features = strong_support + weak_support\n",
    "X_train_flat, X_test_flat = X_train_flat[selected_features], X_test_flat[selected_features]"
   ]
  },
  {
   "cell_type": "code",
   "execution_count": 28,
   "metadata": {},
   "outputs": [
    {
     "name": "stdout",
     "output_type": "stream",
     "text": [
      "              precision    recall  f1-score   support\n",
      "\n",
      "           0       0.56      0.51      0.53       394\n",
      "           1       0.56      0.60      0.58       404\n",
      "\n",
      "    accuracy                           0.56       798\n",
      "   macro avg       0.56      0.56      0.56       798\n",
      "weighted avg       0.56      0.56      0.56       798\n",
      "\n"
     ]
    },
    {
     "data": {
      "image/png": "[encoded data removed]",
      "text/plain": [
       "<Figure size 432x288 with 1 Axes>"
      ]
     },
     "metadata": {
      "needs_background": "light"
     },
     "output_type": "display_data"
    }
   ],
   "source": [
    "clf = LogisticRegression()\n",
    "clf.fit(X_train_flat, labels_train)\n",
    "print(classification_report(labels_train, clf.predict(X_train_flat)))\n",
    "\n",
    "disp_roc = RocCurveDisplay.from_estimator(\n",
    "        clf, \n",
    "        X_train_flat, \n",
    "        labels_train,\n",
    "        name='Logit')\n",
    "disp_roc.ax_.set_title('ROC Curve')\n",
    "plt.plot([0,1], [0,1])\n",
    "plt.show()"
   ]
  },
  {
   "cell_type": "code",
   "execution_count": 267,
   "metadata": {},
   "outputs": [
    {
     "data": {
      "text/plain": [
       "{'max_depth': 6, 'n_estimators': 500}"
      ]
     },
     "execution_count": 267,
     "metadata": {},
     "output_type": "execute_result"
    }
   ],
   "source": [
    "param_grid = {\"n_estimators\":[10, 100, 500],\n",
    "              \"max_depth\":[3, 4, 5, 6]}\n",
    "\n",
    "fs_model = GridSearchCV(RandomForestClassifier(random_state=42), \n",
    "                        param_grid, n_jobs=-1, cv=tscv, scoring='roc_auc')\n",
    "fs_model.fit(X_train_flat, labels_train)\n",
    "fs_model.best_params_"
   ]
  },
  {
   "cell_type": "code",
   "execution_count": 276,
   "metadata": {},
   "outputs": [
    {
     "name": "stdout",
     "output_type": "stream",
     "text": [
      "              precision    recall  f1-score   support\n",
      "\n",
      "           0       0.67      0.73      0.70       394\n",
      "           1       0.71      0.66      0.68       404\n",
      "\n",
      "    accuracy                           0.69       798\n",
      "   macro avg       0.69      0.69      0.69       798\n",
      "weighted avg       0.69      0.69      0.69       798\n",
      "\n"
     ]
    },
    {
     "data": {
      "image/png": "[encoded data removed]",
      "text/plain": [
       "<Figure size 1440x720 with 1 Axes>"
      ]
     },
     "metadata": {},
     "output_type": "display_data"
    },
    {
     "name": "stdout",
     "output_type": "stream",
     "text": [
      "Cross Validation ROC-AUC average: 0.577\n",
      "Cross Validation ROC-AUC std: 0.046\n"
     ]
    }
   ],
   "source": [
    "clf = RandomForestClassifier(max_depth=3, n_estimators=100, random_state=42)\n",
    "clf.fit(X_train_flat, labels_train)\n",
    "print(classification_report(labels_train, clf.predict(X_train_flat)))\n",
    "\n",
    "disp_roc = RocCurveDisplay.from_estimator(\n",
    "        clf, \n",
    "        X_train_flat, \n",
    "        labels_train,\n",
    "        name='Logit')\n",
    "disp_roc.ax_.set_title('ROC Curve')\n",
    "plt.plot([0,1], [0,1])\n",
    "plt.show()\n",
    "\n",
    "scores = cross_val_score(clf, X_train_flat, labels_train, n_jobs=-1,\n",
    "                         scoring='precision', cv=tscv)\n",
    "print(\"Cross Validation ROC-AUC average: %.3f\" % scores.mean())\n",
    "print(\"Cross Validation ROC-AUC std: %.3f\" % scores.std())"
   ]
  },
  {
   "cell_type": "code",
   "execution_count": 164,
   "metadata": {},
   "outputs": [
    {
     "data": {
      "text/plain": [
       "<Axes: xlabel='pct_implied_atm', ylabel='pct_spread_realised_ewm'>"
      ]
     },
     "execution_count": 164,
     "metadata": {},
     "output_type": "execute_result"
    },
    {
     "data": {
      "image/png": "[encoded data removed]",
      "text/plain": [
       "<Figure size 432x288 with 1 Axes>"
      ]
     },
     "metadata": {
      "needs_background": "light"
     },
     "output_type": "display_data"
    },
    {
     "data": {
      "image/png": "[encoded data removed]",
      "text/plain": [
       "<Figure size 432x288 with 1 Axes>"
      ]
     },
     "metadata": {
      "needs_background": "light"
     },
     "output_type": "display_data"
    }
   ],
   "source": [
    "data_flat_(X_train, selected_features, selected_currencies, add_common=True).plot(kind='scatter', x='pct_implied_atm', y='pct_spread_realised_ewm')\n",
    "data_flat(X_train, selected_features, selected_currencies, add_common=True).plot(kind='scatter', x='pct_implied_atm', y='pct_spread_realised_ewm')"
   ]
  },
  {
   "cell_type": "code",
   "execution_count": 171,
   "metadata": {},
   "outputs": [
    {
     "data": {
      "text/plain": [
       "0      -0.263303\n",
       "1       0.740484\n",
       "2       2.368389\n",
       "3       0.494784\n",
       "4       2.631824\n",
       "          ...   \n",
       "1535   -0.079395\n",
       "1536     0.77273\n",
       "1537      2.3093\n",
       "1538    2.894235\n",
       "1539    0.130325\n",
       "Length: 1540, dtype: object"
      ]
     },
     "execution_count": 171,
     "metadata": {},
     "output_type": "execute_result"
    }
   ],
   "source": [
    "pd.Series(y_train[selected_currencies].values.flatten(order='C'))"
   ]
  },
  {
   "cell_type": "code",
   "execution_count": 170,
   "metadata": {},
   "outputs": [
    {
     "data": {
      "text/html": [
       "<div>\n",
       "<style scoped>\n",
       "    .dataframe tbody tr th:only-of-type {\n",
       "        vertical-align: middle;\n",
       "    }\n",
       "\n",
       "    .dataframe tbody tr th {\n",
       "        vertical-align: top;\n",
       "    }\n",
       "\n",
       "    .dataframe thead th {\n",
       "        text-align: right;\n",
       "    }\n",
       "</style>\n",
       "<table border=\"1\" class=\"dataframe\">\n",
       "  <thead>\n",
       "    <tr style=\"text-align: right;\">\n",
       "      <th></th>\n",
       "      <th>EUR</th>\n",
       "      <th>JPY</th>\n",
       "      <th>GBP</th>\n",
       "      <th>CAD</th>\n",
       "      <th>AUD</th>\n",
       "      <th>NZD</th>\n",
       "      <th>CHF</th>\n",
       "    </tr>\n",
       "  </thead>\n",
       "  <tbody>\n",
       "    <tr>\n",
       "      <th>2001-01-31</th>\n",
       "      <td>-0.263303</td>\n",
       "      <td>0.740484</td>\n",
       "      <td>2.368389</td>\n",
       "      <td>0.494784</td>\n",
       "      <td>2.631824</td>\n",
       "      <td>3.282652</td>\n",
       "      <td>1.193744</td>\n",
       "    </tr>\n",
       "    <tr>\n",
       "      <th>2001-02-28</th>\n",
       "      <td>1.40949</td>\n",
       "      <td>-1.088062</td>\n",
       "      <td>0.921389</td>\n",
       "      <td>-0.680576</td>\n",
       "      <td>-0.931396</td>\n",
       "      <td>1.280752</td>\n",
       "      <td>1.020532</td>\n",
       "    </tr>\n",
       "    <tr>\n",
       "      <th>2001-03-30</th>\n",
       "      <td>-0.246623</td>\n",
       "      <td>-1.214863</td>\n",
       "      <td>0.596449</td>\n",
       "      <td>1.338963</td>\n",
       "      <td>-2.732554</td>\n",
       "      <td>0.99162</td>\n",
       "      <td>-1.245965</td>\n",
       "    </tr>\n",
       "    <tr>\n",
       "      <th>2001-04-30</th>\n",
       "      <td>3.855189</td>\n",
       "      <td>-0.005763</td>\n",
       "      <td>0.858298</td>\n",
       "      <td>0.620677</td>\n",
       "      <td>3.799657</td>\n",
       "      <td>2.068022</td>\n",
       "      <td>5.299309</td>\n",
       "    </tr>\n",
       "    <tr>\n",
       "      <th>2001-05-31</th>\n",
       "      <td>-0.248843</td>\n",
       "      <td>1.866288</td>\n",
       "      <td>-2.579603</td>\n",
       "      <td>0.686264</td>\n",
       "      <td>0.233053</td>\n",
       "      <td>1.681527</td>\n",
       "      <td>-0.680308</td>\n",
       "    </tr>\n",
       "    <tr>\n",
       "      <th>2001-06-29</th>\n",
       "      <td>-0.176724</td>\n",
       "      <td>0.163493</td>\n",
       "      <td>0.545882</td>\n",
       "      <td>2.108489</td>\n",
       "      <td>2.067225</td>\n",
       "      <td>5.735306</td>\n",
       "      <td>-1.754272</td>\n",
       "    </tr>\n",
       "    <tr>\n",
       "      <th>2001-07-31</th>\n",
       "      <td>2.646559</td>\n",
       "      <td>-0.062667</td>\n",
       "      <td>1.089214</td>\n",
       "      <td>0.996091</td>\n",
       "      <td>-0.136272</td>\n",
       "      <td>4.286731</td>\n",
       "      <td>2.087228</td>\n",
       "    </tr>\n",
       "    <tr>\n",
       "      <th>2001-08-31</th>\n",
       "      <td>-4.019205</td>\n",
       "      <td>-1.314906</td>\n",
       "      <td>0.87823</td>\n",
       "      <td>2.510569</td>\n",
       "      <td>-2.237156</td>\n",
       "      <td>-2.965492</td>\n",
       "      <td>-7.194581</td>\n",
       "    </tr>\n",
       "    <tr>\n",
       "      <th>2001-09-28</th>\n",
       "      <td>2.239975</td>\n",
       "      <td>4.600378</td>\n",
       "      <td>-0.672305</td>\n",
       "      <td>1.776522</td>\n",
       "      <td>2.095831</td>\n",
       "      <td>5.823876</td>\n",
       "      <td>1.731624</td>\n",
       "    </tr>\n",
       "    <tr>\n",
       "      <th>2001-10-31</th>\n",
       "      <td>2.279842</td>\n",
       "      <td>2.054055</td>\n",
       "      <td>1.019049</td>\n",
       "      <td>1.200356</td>\n",
       "      <td>4.592097</td>\n",
       "      <td>4.006413</td>\n",
       "      <td>1.383847</td>\n",
       "    </tr>\n",
       "  </tbody>\n",
       "</table>\n",
       "</div>"
      ],
      "text/plain": [
       "                 EUR       JPY       GBP       CAD       AUD       NZD  \\\n",
       "2001-01-31 -0.263303  0.740484  2.368389  0.494784  2.631824  3.282652   \n",
       "2001-02-28   1.40949 -1.088062  0.921389 -0.680576 -0.931396  1.280752   \n",
       "2001-03-30 -0.246623 -1.214863  0.596449  1.338963 -2.732554   0.99162   \n",
       "2001-04-30  3.855189 -0.005763  0.858298  0.620677  3.799657  2.068022   \n",
       "2001-05-31 -0.248843  1.866288 -2.579603  0.686264  0.233053  1.681527   \n",
       "2001-06-29 -0.176724  0.163493  0.545882  2.108489  2.067225  5.735306   \n",
       "2001-07-31  2.646559 -0.062667  1.089214  0.996091 -0.136272  4.286731   \n",
       "2001-08-31 -4.019205 -1.314906   0.87823  2.510569 -2.237156 -2.965492   \n",
       "2001-09-28  2.239975  4.600378 -0.672305  1.776522  2.095831  5.823876   \n",
       "2001-10-31  2.279842  2.054055  1.019049  1.200356  4.592097  4.006413   \n",
       "\n",
       "                 CHF  \n",
       "2001-01-31  1.193744  \n",
       "2001-02-28  1.020532  \n",
       "2001-03-30 -1.245965  \n",
       "2001-04-30  5.299309  \n",
       "2001-05-31 -0.680308  \n",
       "2001-06-29 -1.754272  \n",
       "2001-07-31  2.087228  \n",
       "2001-08-31 -7.194581  \n",
       "2001-09-28  1.731624  \n",
       "2001-10-31  1.383847  "
      ]
     },
     "execution_count": 170,
     "metadata": {},
     "output_type": "execute_result"
    }
   ],
   "source": [
    "y_train[selected_currencies].head(10)"
   ]
  },
  {
   "cell_type": "code",
   "execution_count": null,
   "metadata": {},
   "outputs": [],
   "source": []
  }
 ],
 "metadata": {
  "kernelspec": {
   "display_name": "base",
   "language": "python",
   "name": "python3"
  },
  "language_info": {
   "codemirror_mode": {
    "name": "ipython",
    "version": 3
   },
   "file_extension": ".py",
   "mimetype": "text/x-python",
   "name": "python",
   "nbconvert_exporter": "python",
   "pygments_lexer": "ipython3",
   "version": "3.8.3"
  },
  "orig_nbformat": 4
 },
 "nbformat": 4,
 "nbformat_minor": 2
}
