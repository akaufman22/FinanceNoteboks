{
 "cells": [
  {
   "cell_type": "code",
   "execution_count": 19,
   "metadata": {},
   "outputs": [],
   "source": [
    "import pandas as pd\n",
    "import QuantLib as ql\n",
    "import datetime as dt\n",
    "import matplotlib.pyplot as plt"
   ]
  },
  {
   "cell_type": "code",
   "execution_count": 2,
   "metadata": {},
   "outputs": [],
   "source": [
    "bond_schedule = pd.read_csv(\"exampleMBONO.csv\", parse_dates = ['Date'])\n",
    "bond_schedule['Days'] = (bond_schedule['Date'] - bond_schedule['Date'].shift(1)).dt.days"
   ]
  },
  {
   "cell_type": "code",
   "execution_count": 3,
   "metadata": {
    "scrolled": false
   },
   "outputs": [
    {
     "data": {
      "text/html": [
       "<div>\n",
       "<style scoped>\n",
       "    .dataframe tbody tr th:only-of-type {\n",
       "        vertical-align: middle;\n",
       "    }\n",
       "\n",
       "    .dataframe tbody tr th {\n",
       "        vertical-align: top;\n",
       "    }\n",
       "\n",
       "    .dataframe thead th {\n",
       "        text-align: right;\n",
       "    }\n",
       "</style>\n",
       "<table border=\"1\" class=\"dataframe\">\n",
       "  <thead>\n",
       "    <tr style=\"text-align: right;\">\n",
       "      <th></th>\n",
       "      <th>Date</th>\n",
       "      <th>Coupon</th>\n",
       "      <th>Principal</th>\n",
       "      <th>Days</th>\n",
       "    </tr>\n",
       "  </thead>\n",
       "  <tbody>\n",
       "    <tr>\n",
       "      <th>0</th>\n",
       "      <td>2011-06-23</td>\n",
       "      <td>0.000</td>\n",
       "      <td>0</td>\n",
       "      <td>NaN</td>\n",
       "    </tr>\n",
       "    <tr>\n",
       "      <th>1</th>\n",
       "      <td>2011-12-22</td>\n",
       "      <td>3918.056</td>\n",
       "      <td>0</td>\n",
       "      <td>182.0</td>\n",
       "    </tr>\n",
       "    <tr>\n",
       "      <th>2</th>\n",
       "      <td>2012-06-21</td>\n",
       "      <td>3918.056</td>\n",
       "      <td>0</td>\n",
       "      <td>182.0</td>\n",
       "    </tr>\n",
       "    <tr>\n",
       "      <th>3</th>\n",
       "      <td>2012-12-20</td>\n",
       "      <td>3918.056</td>\n",
       "      <td>0</td>\n",
       "      <td>182.0</td>\n",
       "    </tr>\n",
       "    <tr>\n",
       "      <th>4</th>\n",
       "      <td>2013-06-20</td>\n",
       "      <td>3918.056</td>\n",
       "      <td>0</td>\n",
       "      <td>182.0</td>\n",
       "    </tr>\n",
       "    <tr>\n",
       "      <th>5</th>\n",
       "      <td>2013-12-19</td>\n",
       "      <td>3918.056</td>\n",
       "      <td>0</td>\n",
       "      <td>182.0</td>\n",
       "    </tr>\n",
       "    <tr>\n",
       "      <th>6</th>\n",
       "      <td>2014-06-19</td>\n",
       "      <td>3918.056</td>\n",
       "      <td>0</td>\n",
       "      <td>182.0</td>\n",
       "    </tr>\n",
       "    <tr>\n",
       "      <th>7</th>\n",
       "      <td>2014-12-18</td>\n",
       "      <td>3918.056</td>\n",
       "      <td>0</td>\n",
       "      <td>182.0</td>\n",
       "    </tr>\n",
       "    <tr>\n",
       "      <th>8</th>\n",
       "      <td>2015-06-18</td>\n",
       "      <td>3918.056</td>\n",
       "      <td>0</td>\n",
       "      <td>182.0</td>\n",
       "    </tr>\n",
       "    <tr>\n",
       "      <th>9</th>\n",
       "      <td>2015-12-17</td>\n",
       "      <td>3918.056</td>\n",
       "      <td>0</td>\n",
       "      <td>182.0</td>\n",
       "    </tr>\n",
       "    <tr>\n",
       "      <th>10</th>\n",
       "      <td>2016-06-16</td>\n",
       "      <td>3918.056</td>\n",
       "      <td>0</td>\n",
       "      <td>182.0</td>\n",
       "    </tr>\n",
       "    <tr>\n",
       "      <th>11</th>\n",
       "      <td>2016-12-15</td>\n",
       "      <td>3918.056</td>\n",
       "      <td>0</td>\n",
       "      <td>182.0</td>\n",
       "    </tr>\n",
       "    <tr>\n",
       "      <th>12</th>\n",
       "      <td>2017-06-15</td>\n",
       "      <td>3918.056</td>\n",
       "      <td>0</td>\n",
       "      <td>182.0</td>\n",
       "    </tr>\n",
       "    <tr>\n",
       "      <th>13</th>\n",
       "      <td>2017-12-14</td>\n",
       "      <td>3918.056</td>\n",
       "      <td>0</td>\n",
       "      <td>182.0</td>\n",
       "    </tr>\n",
       "    <tr>\n",
       "      <th>14</th>\n",
       "      <td>2018-06-14</td>\n",
       "      <td>3918.056</td>\n",
       "      <td>0</td>\n",
       "      <td>182.0</td>\n",
       "    </tr>\n",
       "    <tr>\n",
       "      <th>15</th>\n",
       "      <td>2018-12-13</td>\n",
       "      <td>3918.056</td>\n",
       "      <td>0</td>\n",
       "      <td>182.0</td>\n",
       "    </tr>\n",
       "    <tr>\n",
       "      <th>16</th>\n",
       "      <td>2019-06-13</td>\n",
       "      <td>3918.056</td>\n",
       "      <td>0</td>\n",
       "      <td>182.0</td>\n",
       "    </tr>\n",
       "    <tr>\n",
       "      <th>17</th>\n",
       "      <td>2019-12-11</td>\n",
       "      <td>3896.528</td>\n",
       "      <td>0</td>\n",
       "      <td>181.0</td>\n",
       "    </tr>\n",
       "    <tr>\n",
       "      <th>18</th>\n",
       "      <td>2020-06-11</td>\n",
       "      <td>3939.583</td>\n",
       "      <td>0</td>\n",
       "      <td>183.0</td>\n",
       "    </tr>\n",
       "    <tr>\n",
       "      <th>19</th>\n",
       "      <td>2020-12-10</td>\n",
       "      <td>3918.056</td>\n",
       "      <td>0</td>\n",
       "      <td>182.0</td>\n",
       "    </tr>\n",
       "    <tr>\n",
       "      <th>20</th>\n",
       "      <td>2021-06-10</td>\n",
       "      <td>3918.056</td>\n",
       "      <td>0</td>\n",
       "      <td>182.0</td>\n",
       "    </tr>\n",
       "    <tr>\n",
       "      <th>21</th>\n",
       "      <td>2021-12-09</td>\n",
       "      <td>3918.056</td>\n",
       "      <td>0</td>\n",
       "      <td>182.0</td>\n",
       "    </tr>\n",
       "    <tr>\n",
       "      <th>22</th>\n",
       "      <td>2022-06-09</td>\n",
       "      <td>3918.056</td>\n",
       "      <td>0</td>\n",
       "      <td>182.0</td>\n",
       "    </tr>\n",
       "    <tr>\n",
       "      <th>23</th>\n",
       "      <td>2022-12-08</td>\n",
       "      <td>3918.056</td>\n",
       "      <td>0</td>\n",
       "      <td>182.0</td>\n",
       "    </tr>\n",
       "    <tr>\n",
       "      <th>24</th>\n",
       "      <td>2023-06-08</td>\n",
       "      <td>3918.056</td>\n",
       "      <td>0</td>\n",
       "      <td>182.0</td>\n",
       "    </tr>\n",
       "    <tr>\n",
       "      <th>25</th>\n",
       "      <td>2023-12-07</td>\n",
       "      <td>3918.056</td>\n",
       "      <td>0</td>\n",
       "      <td>182.0</td>\n",
       "    </tr>\n",
       "    <tr>\n",
       "      <th>26</th>\n",
       "      <td>2024-06-06</td>\n",
       "      <td>3918.056</td>\n",
       "      <td>0</td>\n",
       "      <td>182.0</td>\n",
       "    </tr>\n",
       "    <tr>\n",
       "      <th>27</th>\n",
       "      <td>2024-12-05</td>\n",
       "      <td>3918.056</td>\n",
       "      <td>0</td>\n",
       "      <td>182.0</td>\n",
       "    </tr>\n",
       "    <tr>\n",
       "      <th>28</th>\n",
       "      <td>2025-06-05</td>\n",
       "      <td>3918.056</td>\n",
       "      <td>0</td>\n",
       "      <td>182.0</td>\n",
       "    </tr>\n",
       "    <tr>\n",
       "      <th>29</th>\n",
       "      <td>2025-12-04</td>\n",
       "      <td>3918.056</td>\n",
       "      <td>0</td>\n",
       "      <td>182.0</td>\n",
       "    </tr>\n",
       "    <tr>\n",
       "      <th>30</th>\n",
       "      <td>2026-06-04</td>\n",
       "      <td>3918.056</td>\n",
       "      <td>0</td>\n",
       "      <td>182.0</td>\n",
       "    </tr>\n",
       "    <tr>\n",
       "      <th>31</th>\n",
       "      <td>2026-12-03</td>\n",
       "      <td>3918.056</td>\n",
       "      <td>0</td>\n",
       "      <td>182.0</td>\n",
       "    </tr>\n",
       "    <tr>\n",
       "      <th>32</th>\n",
       "      <td>2027-06-03</td>\n",
       "      <td>3918.056</td>\n",
       "      <td>0</td>\n",
       "      <td>182.0</td>\n",
       "    </tr>\n",
       "    <tr>\n",
       "      <th>33</th>\n",
       "      <td>2027-12-02</td>\n",
       "      <td>3918.056</td>\n",
       "      <td>0</td>\n",
       "      <td>182.0</td>\n",
       "    </tr>\n",
       "    <tr>\n",
       "      <th>34</th>\n",
       "      <td>2028-06-01</td>\n",
       "      <td>3918.056</td>\n",
       "      <td>0</td>\n",
       "      <td>182.0</td>\n",
       "    </tr>\n",
       "    <tr>\n",
       "      <th>35</th>\n",
       "      <td>2028-11-30</td>\n",
       "      <td>3918.056</td>\n",
       "      <td>0</td>\n",
       "      <td>182.0</td>\n",
       "    </tr>\n",
       "    <tr>\n",
       "      <th>36</th>\n",
       "      <td>2029-05-31</td>\n",
       "      <td>3918.056</td>\n",
       "      <td>0</td>\n",
       "      <td>182.0</td>\n",
       "    </tr>\n",
       "    <tr>\n",
       "      <th>37</th>\n",
       "      <td>2029-11-29</td>\n",
       "      <td>3918.056</td>\n",
       "      <td>0</td>\n",
       "      <td>182.0</td>\n",
       "    </tr>\n",
       "    <tr>\n",
       "      <th>38</th>\n",
       "      <td>2030-05-30</td>\n",
       "      <td>3918.056</td>\n",
       "      <td>0</td>\n",
       "      <td>182.0</td>\n",
       "    </tr>\n",
       "    <tr>\n",
       "      <th>39</th>\n",
       "      <td>2030-11-28</td>\n",
       "      <td>3918.056</td>\n",
       "      <td>0</td>\n",
       "      <td>182.0</td>\n",
       "    </tr>\n",
       "    <tr>\n",
       "      <th>40</th>\n",
       "      <td>2031-05-29</td>\n",
       "      <td>3918.056</td>\n",
       "      <td>100000</td>\n",
       "      <td>182.0</td>\n",
       "    </tr>\n",
       "  </tbody>\n",
       "</table>\n",
       "</div>"
      ],
      "text/plain": [
       "         Date    Coupon  Principal   Days\n",
       "0  2011-06-23     0.000          0    NaN\n",
       "1  2011-12-22  3918.056          0  182.0\n",
       "2  2012-06-21  3918.056          0  182.0\n",
       "3  2012-12-20  3918.056          0  182.0\n",
       "4  2013-06-20  3918.056          0  182.0\n",
       "5  2013-12-19  3918.056          0  182.0\n",
       "6  2014-06-19  3918.056          0  182.0\n",
       "7  2014-12-18  3918.056          0  182.0\n",
       "8  2015-06-18  3918.056          0  182.0\n",
       "9  2015-12-17  3918.056          0  182.0\n",
       "10 2016-06-16  3918.056          0  182.0\n",
       "11 2016-12-15  3918.056          0  182.0\n",
       "12 2017-06-15  3918.056          0  182.0\n",
       "13 2017-12-14  3918.056          0  182.0\n",
       "14 2018-06-14  3918.056          0  182.0\n",
       "15 2018-12-13  3918.056          0  182.0\n",
       "16 2019-06-13  3918.056          0  182.0\n",
       "17 2019-12-11  3896.528          0  181.0\n",
       "18 2020-06-11  3939.583          0  183.0\n",
       "19 2020-12-10  3918.056          0  182.0\n",
       "20 2021-06-10  3918.056          0  182.0\n",
       "21 2021-12-09  3918.056          0  182.0\n",
       "22 2022-06-09  3918.056          0  182.0\n",
       "23 2022-12-08  3918.056          0  182.0\n",
       "24 2023-06-08  3918.056          0  182.0\n",
       "25 2023-12-07  3918.056          0  182.0\n",
       "26 2024-06-06  3918.056          0  182.0\n",
       "27 2024-12-05  3918.056          0  182.0\n",
       "28 2025-06-05  3918.056          0  182.0\n",
       "29 2025-12-04  3918.056          0  182.0\n",
       "30 2026-06-04  3918.056          0  182.0\n",
       "31 2026-12-03  3918.056          0  182.0\n",
       "32 2027-06-03  3918.056          0  182.0\n",
       "33 2027-12-02  3918.056          0  182.0\n",
       "34 2028-06-01  3918.056          0  182.0\n",
       "35 2028-11-30  3918.056          0  182.0\n",
       "36 2029-05-31  3918.056          0  182.0\n",
       "37 2029-11-29  3918.056          0  182.0\n",
       "38 2030-05-30  3918.056          0  182.0\n",
       "39 2030-11-28  3918.056          0  182.0\n",
       "40 2031-05-29  3918.056     100000  182.0"
      ]
     },
     "execution_count": 3,
     "metadata": {},
     "output_type": "execute_result"
    }
   ],
   "source": [
    "bond_schedule"
   ]
  },
  {
   "cell_type": "code",
   "execution_count": 4,
   "metadata": {},
   "outputs": [
    {
     "data": {
      "text/plain": [
       "pandas.core.series.Series"
      ]
     },
     "execution_count": 4,
     "metadata": {},
     "output_type": "execute_result"
    }
   ],
   "source": [
    "type(bond_schedule['Date'])"
   ]
  },
  {
   "cell_type": "code",
   "execution_count": 5,
   "metadata": {},
   "outputs": [],
   "source": [
    "convention = ql.Unadjusted\n",
    "calendar = ql.Mexico()\n",
    "tenor = ql.Period(ql.Semiannual)\n",
    "rule = ql.DateGeneration.Backward\n",
    "schedule = ql.Schedule(bond_schedule['Date'].apply(ql.Date().from_date), calendar, convention,\n",
    "                      convention, tenor, rule, False)"
   ]
  },
  {
   "cell_type": "code",
   "execution_count": 6,
   "metadata": {},
   "outputs": [],
   "source": [
    "day_count = ql.Actual360()\n",
    "settlement_days = 2\n",
    "face_value = sum(bond_schedule['Principal'])\n",
    "coupons = ((360 / bond_schedule['Days']) * bond_schedule['Coupon'] / face_value).dropna().values\n",
    "bond = ql.FixedRateBond(settlement_days, face_value, schedule, coupons, day_count)"
   ]
  },
  {
   "cell_type": "code",
   "execution_count": 7,
   "metadata": {},
   "outputs": [
    {
     "name": "stdout",
     "output_type": "stream",
     "text": [
      "June 23rd, 2011\n",
      "December 22nd, 2011\n",
      "June 21st, 2012\n",
      "December 20th, 2012\n",
      "June 20th, 2013\n",
      "December 19th, 2013\n",
      "June 19th, 2014\n",
      "December 18th, 2014\n",
      "June 18th, 2015\n",
      "December 17th, 2015\n",
      "June 16th, 2016\n",
      "December 15th, 2016\n",
      "June 15th, 2017\n",
      "December 14th, 2017\n",
      "June 14th, 2018\n",
      "December 13th, 2018\n",
      "June 13th, 2019\n",
      "December 11th, 2019\n",
      "June 11th, 2020\n",
      "December 10th, 2020\n",
      "June 10th, 2021\n",
      "December 9th, 2021\n",
      "June 9th, 2022\n",
      "December 8th, 2022\n",
      "June 8th, 2023\n",
      "December 7th, 2023\n",
      "June 6th, 2024\n",
      "December 5th, 2024\n",
      "June 5th, 2025\n",
      "December 4th, 2025\n",
      "June 4th, 2026\n",
      "December 3rd, 2026\n",
      "June 3rd, 2027\n",
      "December 2nd, 2027\n",
      "June 1st, 2028\n",
      "November 30th, 2028\n",
      "May 31st, 2029\n",
      "November 29th, 2029\n",
      "May 30th, 2030\n",
      "November 28th, 2030\n",
      "May 29th, 2031\n"
     ]
    }
   ],
   "source": [
    "for d in schedule.dates(): print(d)"
   ]
  },
  {
   "cell_type": "code",
   "execution_count": 8,
   "metadata": {
    "scrolled": true
   },
   "outputs": [
    {
     "name": "stdout",
     "output_type": "stream",
     "text": [
      "December 22nd, 2011 3918.055999999992\n",
      "June 21st, 2012 3918.055999999992\n",
      "December 20th, 2012 3918.055999999992\n",
      "June 20th, 2013 3918.055999999992\n",
      "December 19th, 2013 3918.055999999992\n",
      "June 19th, 2014 3918.055999999992\n",
      "December 18th, 2014 3918.055999999992\n",
      "June 18th, 2015 3918.055999999992\n",
      "December 17th, 2015 3918.055999999992\n",
      "June 16th, 2016 3918.055999999992\n",
      "December 15th, 2016 3918.055999999992\n",
      "June 15th, 2017 3918.055999999992\n",
      "December 14th, 2017 3918.055999999992\n",
      "June 14th, 2018 3918.055999999992\n",
      "December 13th, 2018 3918.055999999992\n",
      "June 13th, 2019 3918.055999999992\n",
      "December 11th, 2019 3896.527999999999\n",
      "June 11th, 2020 3939.582999999991\n",
      "December 10th, 2020 3918.055999999992\n",
      "June 10th, 2021 3918.055999999992\n",
      "December 9th, 2021 3918.055999999992\n",
      "June 9th, 2022 3918.055999999992\n",
      "December 8th, 2022 3918.055999999992\n",
      "June 8th, 2023 3918.055999999992\n",
      "December 7th, 2023 3918.055999999992\n",
      "June 6th, 2024 3918.055999999992\n",
      "December 5th, 2024 3918.055999999992\n",
      "June 5th, 2025 3918.055999999992\n",
      "December 4th, 2025 3918.055999999992\n",
      "June 4th, 2026 3918.055999999992\n",
      "December 3rd, 2026 3918.055999999992\n",
      "June 3rd, 2027 3918.055999999992\n",
      "December 2nd, 2027 3918.055999999992\n",
      "June 1st, 2028 3918.055999999992\n",
      "November 30th, 2028 3918.055999999992\n",
      "May 31st, 2029 3918.055999999992\n",
      "November 29th, 2029 3918.055999999992\n",
      "May 30th, 2030 3918.055999999992\n",
      "November 28th, 2030 3918.055999999992\n",
      "May 29th, 2031 3918.055999999992\n",
      "May 29th, 2031 100000.0\n"
     ]
    }
   ],
   "source": [
    "for c in bond.cashflows(): print(c.date(), c.amount())"
   ]
  },
  {
   "cell_type": "code",
   "execution_count": 9,
   "metadata": {},
   "outputs": [
    {
     "data": {
      "text/plain": [
       "1.636111296703291"
      ]
     },
     "execution_count": 9,
     "metadata": {},
     "output_type": "execute_result"
    }
   ],
   "source": [
    "bond.accruedAmount(ql.Date(7,9,2011))"
   ]
  },
  {
   "cell_type": "code",
   "execution_count": 10,
   "metadata": {},
   "outputs": [
    {
     "name": "stdout",
     "output_type": "stream",
     "text": [
      "0.07750000879120879\n",
      "0.07750000879120879\n",
      "December 7th, 2023\n",
      "June 6th, 2024\n",
      "0.5055555555555555\n",
      "182\n",
      "0.28888888888888886\n",
      "104\n",
      "2.238889142857148\n"
     ]
    }
   ],
   "source": [
    "for c in [ql.BondFunctions.previousCouponRate(bond),\n",
    "ql.BondFunctions.nextCouponRate(bond),\n",
    "ql.BondFunctions.accrualStartDate(bond),\n",
    "ql.BondFunctions.accrualEndDate(bond),\n",
    "ql.BondFunctions.accrualPeriod(bond),\n",
    "ql.BondFunctions.accrualDays(bond),\n",
    "ql.BondFunctions.accruedPeriod(bond),\n",
    "ql.BondFunctions.accruedDays(bond),\n",
    "ql.BondFunctions.accruedAmount(bond)]: print(c)"
   ]
  },
  {
   "cell_type": "code",
   "execution_count": 11,
   "metadata": {},
   "outputs": [
    {
     "data": {
      "text/plain": [
       "0.10054734168767926"
      ]
     },
     "execution_count": 11,
     "metadata": {},
     "output_type": "execute_result"
    }
   ],
   "source": [
    "bond.bondYield(88.25, day_count, ql.Compounded, ql.Semiannual)"
   ]
  },
  {
   "cell_type": "code",
   "execution_count": 12,
   "metadata": {},
   "outputs": [
    {
     "name": "stdout",
     "output_type": "stream",
     "text": [
      "90035.52014434367\n",
      "90.48888957850279\n",
      "88.25000043564565\n",
      "2.238889142857148\n",
      "Actual/360 day counter\n",
      "March 20th, 2024\n"
     ]
    }
   ],
   "source": [
    "spot_dates = [ql.Date(5,11,2022), \n",
    "             ql.Date(5,11,2023), \n",
    "             ql.Date(5,11,2024), \n",
    "             ql.Date(5,11,2025), \n",
    "             ql.Date(5,11,2027), \n",
    "             ql.Date(5,11,2029), \n",
    "             ql.Date(5,11,2032), \n",
    "             ql.Date(5,11,2037), \n",
    "             ql.Date(5,11,2042), \n",
    "             ql.Date(5,11,2052)]\n",
    "spot_rates = [0.10054734168767926] * 10\n",
    "spot_curve = ql.ZeroCurve(spot_dates, spot_rates, day_count, calendar, ql.Linear(), ql.Compounded, ql.Semiannual)\n",
    "spot_curve_handle = ql.YieldTermStructureHandle(spot_curve)\n",
    "bond_engine = ql.DiscountingBondEngine(spot_curve_handle)\n",
    "bond.setPricingEngine(bond_engine)\n",
    "bond.NPV()\n",
    "print(bond.NPV())\n",
    "print(bond.dirtyPrice())\n",
    "print(bond.cleanPrice())\n",
    "print(bond.accruedAmount())\n",
    "print(bond.dayCounter())\n",
    "print(bond.settlementDate())"
   ]
  },
  {
   "cell_type": "code",
   "execution_count": 29,
   "metadata": {},
   "outputs": [
    {
     "name": "stdout",
     "output_type": "stream",
     "text": [
      "0.046977713746557015\n",
      "4.699353825168153\n"
     ]
    }
   ],
   "source": [
    "bumped_spot_rates = [r + 0.0001 for r in spot_rates]\n",
    "bumped_spot_curve = ql.ZeroCurve(spot_dates, bumped_spot_rates, day_count, calendar, ql.Linear(), ql.Compounded, ql.Semiannual)\n",
    "bumped_spot_curve_handle = ql.YieldTermStructureHandle(bumped_spot_curve)\n",
    "bumped_bond_engine = ql.DiscountingBondEngine(bumped_spot_curve_handle)\n",
    "bond.setPricingEngine(bumped_bond_engine)\n",
    "bumped_price = bond.cleanPrice()\n",
    "bond.setPricingEngine(bond_engine)\n",
    "price = bond.cleanPrice()\n",
    "print(price - bumped_price)\n",
    "print(bond.dirtyPrice() * ql.BondFunctions.duration(bond,\n",
    "                                bond.bondYield(price, day_count, ql.Compounded, ql.Semiannual),\n",
    "                                day_count, ql.Compounded, ql.Semiannual, ql.Duration.Modified)/100)"
   ]
  },
  {
   "cell_type": "code",
   "execution_count": 23,
   "metadata": {},
   "outputs": [
    {
     "data": {
      "text/plain": [
       "<BarContainer object of 7 artists>"
      ]
     },
     "execution_count": 23,
     "metadata": {},
     "output_type": "execute_result"
    },
    {
     "data": {
      "image/png": "[encoded data removed]",
      "text/plain": [
       "<Figure size 432x288 with 1 Axes>"
      ]
     },
     "metadata": {
      "needs_background": "light"
     },
     "output_type": "display_data"
    }
   ],
   "source": [
    "tenors = (1,2,3,4,5,7,10)\n",
    "quotes = [ql.SimpleQuote(0.00) for n in tenors]\n",
    "spreads = [ql.QuoteHandle(quote) for quote in quotes]\n",
    "dates = [ql.Date().todaysDate() + ql.Period(y, ql.Years) for y in tenors]\n",
    "spreadedYts = ql.YieldTermStructureHandle(\n",
    "    ql.SpreadedLinearZeroInterpolatedTermStructure(spot_curve_handle, spreads, dates))\n",
    "bond.setPricingEngine(ql.DiscountingBondEngine(spreadedYts))\n",
    "\n",
    "npv = bond.cleanPrice()\n",
    "key_risk = []\n",
    "for quote in quotes:\n",
    "    quote.setValue(0.0001)\n",
    "    key_risk.append( npv - bond.cleanPrice() )\n",
    "    quote.setValue(0.0)\n",
    "\n",
    "plt.bar(tenors, key_risk)"
   ]
  },
  {
   "cell_type": "code",
   "execution_count": 22,
   "metadata": {},
   "outputs": [
    {
     "data": {
      "text/plain": [
       "[0.0, 0.0, 0.0, 0.0, 0.0, 0.0, 0.0]"
      ]
     },
     "execution_count": 22,
     "metadata": {},
     "output_type": "execute_result"
    }
   ],
   "source": [
    "key_risk"
   ]
  },
  {
   "cell_type": "code",
   "execution_count": null,
   "metadata": {},
   "outputs": [],
   "source": []
  }
 ],
 "metadata": {
  "kernelspec": {
   "display_name": "Python 3",
   "language": "python",
   "name": "python3"
  },
  "language_info": {
   "codemirror_mode": {
    "name": "ipython",
    "version": 3
   },
   "file_extension": ".py",
   "mimetype": "text/x-python",
   "name": "python",
   "nbconvert_exporter": "python",
   "pygments_lexer": "ipython3",
   "version": "3.8.3"
  }
 },
 "nbformat": 4,
 "nbformat_minor": 4
}
