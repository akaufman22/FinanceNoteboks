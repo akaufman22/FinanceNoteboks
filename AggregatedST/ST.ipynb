{
 "cells": [
  {
   "cell_type": "code",
   "execution_count": 44,
   "metadata": {},
   "outputs": [],
   "source": [
    "import pandas as pd\n",
    "import numpy as np\n",
    "import matplotlib.pyplot as plt\n",
    "import statsmodels.api as sm\n",
    "import cufflinks as cf\n",
    "from math import log, sqrt\n",
    "import datetime as dt\n",
    "from sklearn.linear_model import LinearRegression"
   ]
  },
  {
   "cell_type": "code",
   "execution_count": 45,
   "metadata": {},
   "outputs": [],
   "source": [
    "dfq = pd.read_excel('../EMCreditRV/CDS.xlsx', index_col=0, parse_dates=True)\n",
    "countries = []\n",
    "for c in dfq.columns:\n",
    "    countries.append(c.split()[0])\n",
    "dfq.columns = countries\n",
    "\n",
    "aggregated_df = dfq[['BRAZIL', 'COLOM', 'REPSOU']].copy()"
   ]
  },
  {
   "cell_type": "code",
   "execution_count": 46,
   "metadata": {},
   "outputs": [],
   "source": [
    "dfq = pd.read_excel('../EMRatesPCA/SA.xlsx', index_col=0, parse_dates=True)\n",
    "aggregated_df[['ZAR 2Y', 'ZAR 10Y']] = dfq[['2Y', '10Y']]"
   ]
  },
  {
   "cell_type": "code",
   "execution_count": 47,
   "metadata": {},
   "outputs": [],
   "source": [
    "dfq = pd.read_excel('../../FXVolStatArb/1Yfxvol.xlsx', index_col=0, parse_dates=True)\n",
    "aggregated_df[['EURPLNV', 'EURHUFV', 'USDMXNV', 'USDCADV']] = dfq[['EURPLN', 'EURHUF', 'USDMXN', 'USDCAD']]"
   ]
  },
  {
   "cell_type": "code",
   "execution_count": 121,
   "metadata": {},
   "outputs": [],
   "source": [
    "lookback = 100\n",
    "sample_df = aggregated_df.diff().dropna()[['BRAZIL', 'COLOM', 'ZAR 2Y', 'ZAR 10Y',\n",
    "                                        'EURPLNV', 'EURHUFV', 'USDMXNV', 'USDCADV']].head(lookback)\n",
    "sample = sample_df.values\n",
    "\n",
    "dfmacro = pd.read_excel('macro.xlsx', index_col=0, parse_dates=True)\n",
    "dfret = dfmacro[['SPX Index', 'BCOM Index', 'DXY Curncy']].pct_change().dropna().loc[sample_df.index]\n",
    "dfabs = dfmacro[['VIX Index', 'USGG10YR Index', 'USOHHYTO Index']].diff().dropna().loc[sample_df.index]"
   ]
  },
  {
   "cell_type": "code",
   "execution_count": 113,
   "metadata": {},
   "outputs": [
    {
     "name": "stdout",
     "output_type": "stream",
     "text": [
      "99% Daily VaR: -194405.7885735425\n",
      "95% Daily VaR: -110716.0420646291\n",
      "$ Volatility: 1154422.2569902334\n"
     ]
    }
   ],
   "source": [
    "#FX trades VaR\n",
    "dffx = pd.read_excel('FX.xlsx', index_col=0, parse_dates=True)\n",
    "dffx.columns = ['USDPLN', 'USDBRL']\n",
    "fx_sample = dffx.pct_change().dropna().head(lookback).values\n",
    "fx_weights = [10000000, -5000000]\n",
    "print('99% Daily VaR:', np.percentile(fx_sample.dot(fx_weights), 1))\n",
    "print('95% Daily VaR:', np.percentile(fx_sample.dot(fx_weights), 5))\n",
    "print('$ Volatility:', sqrt(260) * fx_sample.dot(fx_weights).std())"
   ]
  },
  {
   "cell_type": "code",
   "execution_count": 120,
   "metadata": {},
   "outputs": [
    {
     "name": "stdout",
     "output_type": "stream",
     "text": [
      "99% Daily VaR: -221428.4399999999\n",
      "95% Daily VaR: -81503.09999999989\n",
      "$ Volatility: 1356755.9993392592\n",
      "Daily VaR cost of $1: -7.3809479999999965\n",
      "Total VaR cost of 1$: -1.6504301466391116\n"
     ]
    }
   ],
   "source": [
    "#Credit trades VaR\n",
    "sample = aggregated_df.diff().dropna()[['BRAZIL', 'COLOM']].head(lookback).values\n",
    "size = 10000\n",
    "weights = [1.6 * size, -1.0 * size]\n",
    "print('99% Daily VaR:', np.percentile(sample.dot(weights), 1))\n",
    "print('95% Daily VaR:', np.percentile(sample.dot(weights), 5))\n",
    "print('$ Volatility:', sqrt(260) * sample.dot(weights).std())\n",
    "size = 20/60\n",
    "weights = [1.6 * size, -1.0 * size]\n",
    "print('Daily VaR cost of $1:', np.percentile(sample.dot(weights), 1))\n",
    "size = 1/60\n",
    "weights = [1.6 * size, -1.0 * size]\n",
    "print('Total VaR cost of 1$:', sqrt(20) * np.percentile(sample.dot(weights), 1))"
   ]
  },
  {
   "cell_type": "code",
   "execution_count": 115,
   "metadata": {},
   "outputs": [
    {
     "name": "stdout",
     "output_type": "stream",
     "text": [
      "SPX Index -2.8789018748209165\n",
      "BCOM Index -1.7843657822006762\n",
      "DXY Curncy -0.14589818359631143\n",
      "VIX Index 0.009998039849547946\n",
      "USGG10YR Index -0.1156899949417203\n",
      "USOHHYTO Index 0.000197791552764226\n"
     ]
    }
   ],
   "source": [
    "x = np.concatenate([dfret.values, dfabs.values], axis=1)\n",
    "y = sample.dot(weights)\n",
    "reg = LinearRegression().fit(x, y)\n",
    "for i in range(len(reg.coef_)):\n",
    "    print(dfret.columns.append(dfabs.columns)[i], reg.coef_[i])"
   ]
  },
  {
   "cell_type": "code",
   "execution_count": 116,
   "metadata": {},
   "outputs": [
    {
     "name": "stdout",
     "output_type": "stream",
     "text": [
      "99% Daily VaR: -265024.9999999993\n",
      "95% Daily VaR: -164149.99999999974\n",
      "$ Volatility: 1822372.0730013906\n",
      "VaR cost of $1: -19.87687499999995\n",
      "Total VaR cost of 1$: -2.2809720251747074\n"
     ]
    }
   ],
   "source": [
    "#Rates trades VaR\n",
    "sample = 100 * aggregated_df.diff().dropna()[['ZAR 2Y', 'ZAR 10Y']].head(lookback).values\n",
    "size = 10000\n",
    "weights = [1 * size, -1.8 * size]\n",
    "print('99% Daily VaR:', np.percentile(sample.dot(weights), 1))\n",
    "print('95% Daily VaR:', np.percentile(sample.dot(weights), 5))\n",
    "print('$ Volatility:', sqrt(260) * sample.dot(weights).std())\n",
    "size = 60/80\n",
    "weights = [1 * size, -1.8 * size]\n",
    "print('VaR cost of $1:', np.percentile(sample.dot(weights), 1))\n",
    "size = 1/90\n",
    "weights = [1 * size, -1.8 * size]\n",
    "print('Total VaR cost of 1$:', sqrt(60) * np.percentile(sample.dot(weights), 1))"
   ]
  },
  {
   "cell_type": "code",
   "execution_count": 10,
   "metadata": {},
   "outputs": [
    {
     "name": "stdout",
     "output_type": "stream",
     "text": [
      "SPX Index -2.891054286940919\n",
      "BCOM Index 1.8484908372468039\n",
      "DXY Curncy -3.0368382580711564\n",
      "VIX Index -0.005916848867129121\n",
      "USGG10YR Index -0.6679075765724866\n",
      "USOHHYTO Index -0.00591235341332963\n"
     ]
    }
   ],
   "source": [
    "x = np.concatenate([dfret.values, dfabs.values], axis=1)\n",
    "y = sample.dot(weights)\n",
    "reg = LinearRegression().fit(x, y)\n",
    "for i in range(len(reg.coef_)):\n",
    "    print(dfret.columns.append(dfabs.columns)[i], reg.coef_[i])"
   ]
  },
  {
   "cell_type": "code",
   "execution_count": 117,
   "metadata": {},
   "outputs": [
    {
     "name": "stdout",
     "output_type": "stream",
     "text": [
      "99% Daily VaR: -173295.31249999994\n",
      "95% Daily VaR: -79374.9999999998\n",
      "$ Volatility: 1029680.4293135166\n",
      "VaR cost of $1: -11.553020833333328\n",
      "Total VaR cost of 1$: -2.5833339928804597\n"
     ]
    }
   ],
   "source": [
    "#FXVol trades VaR\n",
    "sample = aggregated_df.diff().dropna()[['EURPLNV', 'EURHUFV', 'USDMXNV', 'USDCADV']].head(lookback).values\n",
    "size = 250000\n",
    "weights = [0.5 * size, 0.25 * size, 0.25 * size, -2 * size]\n",
    "print('99% Daily VaR:', np.percentile(sample.dot(weights), 1))\n",
    "print('95% Daily VaR:', np.percentile(sample.dot(weights), 5))\n",
    "print('$ Volatility:', sqrt(260) * sample.dot(weights).std())\n",
    "size = 20 / 1.2\n",
    "weights = [0.5 * size, 0.25 * size, 0.25 * size, -2 * size]\n",
    "print('VaR cost of $1:', np.percentile(sample.dot(weights), 1))\n",
    "size = 1/1.2\n",
    "weights = [0.5 * size, 0.25 * size, 0.25 * size, -2 * size]\n",
    "print('Total VaR cost of 1$:', sqrt(20) * np.percentile(sample.dot(weights), 1))"
   ]
  },
  {
   "cell_type": "code",
   "execution_count": 12,
   "metadata": {},
   "outputs": [
    {
     "name": "stdout",
     "output_type": "stream",
     "text": [
      "SPX Index 3.4239075077649495\n",
      "BCOM Index -0.2523751555363134\n",
      "DXY Curncy -3.625161989563399\n",
      "VIX Index 0.0031957614230838163\n",
      "USGG10YR Index 0.14377530453768345\n",
      "USOHHYTO Index -0.0003904504638361783\n"
     ]
    }
   ],
   "source": [
    "x = np.concatenate([dfret.values, dfabs.values], axis=1)\n",
    "y = sample.dot(weights)\n",
    "reg = LinearRegression().fit(x, y)\n",
    "for i in range(len(reg.coef_)):\n",
    "    print(dfret.columns.append(dfabs.columns)[i], reg.coef_[i])"
   ]
  },
  {
   "cell_type": "code",
   "execution_count": 122,
   "metadata": {},
   "outputs": [
    {
     "name": "stdout",
     "output_type": "stream",
     "text": [
      "99% Daily VaR: -167638.23197003859\n",
      "95% Daily VaR: -119863.02529872966\n",
      "$ Volatility: 1231908.125793943\n"
     ]
    }
   ],
   "source": [
    "#Total VaR\n",
    "sample = sample_df.values\n",
    "size1 = 10000   #Credit\n",
    "size2 = 375000  #Rates\n",
    "size3 = 250000  #FXVol\n",
    "weights = [1.6 * size1, -1.0 * size1, 1 * size2, -1.8 * size2, 0.5 * size3, 0.25 * size3, 0.25 * size3, -2 * size3]\n",
    "fx_sample = dffx.pct_change().dropna().loc[sample_df.index].values\n",
    "fx_weights = [10000000, -5000000]\n",
    "print('99% Daily VaR:', np.percentile(sample.dot(weights) + fx_sample.dot(fx_weights), 1))\n",
    "print('95% Daily VaR:', np.percentile(sample.dot(weights) + fx_sample.dot(fx_weights), 5))\n",
    "print('$ Volatility:', sqrt(260) * (sample.dot(weights)+ fx_sample.dot(fx_weights)).std())"
   ]
  },
  {
   "cell_type": "code",
   "execution_count": 123,
   "metadata": {},
   "outputs": [],
   "source": [
    "dfmacro = pd.read_excel('macro.xlsx', index_col=0, parse_dates=True)\n",
    "dfret = dfmacro[['SPX Index', 'BCOM Index', 'DXY Curncy']].pct_change().dropna().loc[sample_df.index]\n",
    "dfabs = dfmacro[['VIX Index', 'USGG10YR Index', 'USOHHYTO Index']].diff().dropna().loc[sample_df.index]"
   ]
  },
  {
   "cell_type": "code",
   "execution_count": 93,
   "metadata": {},
   "outputs": [
    {
     "name": "stdout",
     "output_type": "stream",
     "text": [
      "SPX Index -300239.1117089246\n",
      "BCOM Index 1837729.9254541248\n",
      "DXY Curncy 12840397.65862339\n",
      "VIX Index 369.36772318260046\n",
      "USGG10YR Index -214461.3602051424\n",
      "USOHHYTO Index -805.7295304762665\n"
     ]
    }
   ],
   "source": [
    "x = np.concatenate([dfret.values, dfabs.values], axis=1)\n",
    "y = fx_sample.dot(fx_weights)\n",
    "reg = LinearRegression().fit(x, y)\n",
    "for i in range(len(reg.coef_)):\n",
    "    print(dfret.columns.append(dfabs.columns)[i], reg.coef_[i])"
   ]
  },
  {
   "cell_type": "code",
   "execution_count": 94,
   "metadata": {},
   "outputs": [
    {
     "name": "stdout",
     "output_type": "stream",
     "text": [
      "SPX Index -456849.9079998917\n",
      "BCOM Index 490461.94029133173\n",
      "DXY Curncy -1742356.0569253531\n",
      "VIX Index 717.8850890193135\n",
      "USGG10YR Index -155787.91018357192\n",
      "USOHHYTO Index -1784.307385284861\n"
     ]
    }
   ],
   "source": [
    "x = np.concatenate([dfret.values, dfabs.values], axis=1)\n",
    "y = sample.dot(weights)\n",
    "reg = LinearRegression().fit(x, y)\n",
    "for i in range(len(reg.coef_)):\n",
    "    print(dfret.columns.append(dfabs.columns)[i], reg.coef_[i])"
   ]
  },
  {
   "cell_type": "code",
   "execution_count": 124,
   "metadata": {},
   "outputs": [
    {
     "name": "stdout",
     "output_type": "stream",
     "text": [
      "SPX Index -884161.8543305196\n",
      "BCOM Index 2313769.0730908113\n",
      "DXY Curncy 11190572.964708712\n",
      "VIX Index 1526.2761008917587\n",
      "USGG10YR Index -363624.6940016283\n",
      "USOHHYTO Index -2507.975158045534\n"
     ]
    }
   ],
   "source": [
    "x = np.concatenate([dfret.values, dfabs.values], axis=1)\n",
    "y = sample.dot(weights) + fx_sample.dot(fx_weights)\n",
    "reg = LinearRegression().fit(x, y)\n",
    "for i in range(len(reg.coef_)):\n",
    "    print(dfret.columns.append(dfabs.columns)[i], reg.coef_[i])"
   ]
  },
  {
   "cell_type": "code",
   "execution_count": 21,
   "metadata": {},
   "outputs": [
    {
     "data": {
      "text/plain": [
       "3750.0"
      ]
     },
     "execution_count": 21,
     "metadata": {},
     "output_type": "execute_result"
    }
   ],
   "source": [
    "3000 / 0.8"
   ]
  },
  {
   "cell_type": "code",
   "execution_count": 22,
   "metadata": {},
   "outputs": [
    {
     "data": {
      "text/plain": [
       "6750.0"
      ]
     },
     "execution_count": 22,
     "metadata": {},
     "output_type": "execute_result"
    }
   ],
   "source": [
    "3750 * 1.8"
   ]
  },
  {
   "cell_type": "code",
   "execution_count": 59,
   "metadata": {},
   "outputs": [
    {
     "data": {
      "text/plain": [
       "7500.0"
      ]
     },
     "execution_count": 59,
     "metadata": {},
     "output_type": "execute_result"
    }
   ],
   "source": [
    "3000 / 0.4"
   ]
  },
  {
   "cell_type": "code",
   "execution_count": 76,
   "metadata": {},
   "outputs": [
    {
     "name": "stdout",
     "output_type": "stream",
     "text": [
      "99% Daily VaR: -81963.75000000095\n",
      "95% Daily VaR: -69431.25000000159\n",
      "$ Volatility: 687818.3251229966\n"
     ]
    }
   ],
   "source": [
    "dfq = pd.read_excel('../EMRatesPCA/SA.xlsx', index_col=0, parse_dates=True)\n",
    "aggregated_df[['ZAR 3Y', 'ZAR 7Y']] = dfq[['3Y', '7Y']]\n",
    "sample = 100 * aggregated_df.diff().dropna()[['ZAR 3Y', 'ZAR 7Y']].head(lookback).values\n",
    "size = 7500\n",
    "weights = [1 * size, -1.4 * size]\n",
    "print('99% Daily VaR:', np.percentile(sample.dot(weights), 1))\n",
    "print('95% Daily VaR:', np.percentile(sample.dot(weights), 5))\n",
    "print('$ Volatility:', sqrt(260) * sample.dot(weights).std())"
   ]
  },
  {
   "cell_type": "code",
   "execution_count": 86,
   "metadata": {},
   "outputs": [
    {
     "name": "stdout",
     "output_type": "stream",
     "text": [
      "99% Daily VaR: -194271.6929704755\n",
      "95% Daily VaR: -120153.47546758693\n",
      "$ Volatility: 1265689.6322579829\n"
     ]
    }
   ],
   "source": [
    "#Total VaR\n",
    "sample = aggregated_df.diff().dropna()[['BRAZIL', 'COLOM', 'ZAR 3Y', 'ZAR 7Y',\n",
    "                                        'EURPLNV', 'EURHUFV', 'USDMXNV', 'USDCADV']].head(lookback).values\n",
    "size1 = 8000\n",
    "size2 = 750000\n",
    "size3 = 250000\n",
    "weights = [1.6 * size1, -1.0 * size1, 1 * size2, -1.4 * size2, 0.5 * size3, 0.25 * size3, 0.25 * size3, -2 * size3]\n",
    "fx_sample = dffx.pct_change().dropna().loc[sample_df.index].values\n",
    "fx_weights = [10000000, -5000000]\n",
    "print('99% Daily VaR:', np.percentile(sample.dot(weights) + fx_sample.dot(fx_weights), 1))\n",
    "print('95% Daily VaR:', np.percentile(sample.dot(weights) + fx_sample.dot(fx_weights), 5))\n",
    "print('$ Volatility:', sqrt(260) * (sample.dot(weights)+ fx_sample.dot(fx_weights)).std())"
   ]
  },
  {
   "cell_type": "code",
   "execution_count": 87,
   "metadata": {},
   "outputs": [
    {
     "name": "stdout",
     "output_type": "stream",
     "text": [
      "SPX Index -333138.01582833455\n",
      "BCOM Index 2411042.3758058636\n",
      "DXY Curncy 10248631.749656849\n",
      "VIX Index -347.59162787446985\n",
      "USGG10YR Index -303917.4099047304\n",
      "USOHHYTO Index -1467.8962120073847\n"
     ]
    }
   ],
   "source": [
    "x = np.concatenate([dfret.values, dfabs.values], axis=1)\n",
    "y = sample.dot(weights) + fx_sample.dot(fx_weights)\n",
    "reg = LinearRegression().fit(x, y)\n",
    "for i in range(len(reg.coef_)):\n",
    "    print(dfret.columns.append(dfabs.columns)[i], reg.coef_[i])"
   ]
  },
  {
   "cell_type": "code",
   "execution_count": 89,
   "metadata": {},
   "outputs": [
    {
     "data": {
      "text/plain": [
       "(337500, 300000)"
      ]
     },
     "execution_count": 89,
     "metadata": {},
     "output_type": "execute_result"
    }
   ],
   "source": [
    "3750 * 90, 40 * 7500"
   ]
  },
  {
   "cell_type": "code",
   "execution_count": 125,
   "metadata": {},
   "outputs": [
    {
     "data": {
      "text/plain": [
       "6750.0"
      ]
     },
     "execution_count": 125,
     "metadata": {},
     "output_type": "execute_result"
    }
   ],
   "source": [
    "3750 * 1.8"
   ]
  },
  {
   "cell_type": "code",
   "execution_count": 126,
   "metadata": {},
   "outputs": [
    {
     "data": {
      "text/plain": [
       "225000000.0"
      ]
     },
     "execution_count": 126,
     "metadata": {},
     "output_type": "execute_result"
    }
   ],
   "source": [
    "6750 * 600000000 / 18000"
   ]
  },
  {
   "cell_type": "code",
   "execution_count": 127,
   "metadata": {},
   "outputs": [
    {
     "data": {
      "text/plain": [
       "2500.0"
      ]
     },
     "execution_count": 127,
     "metadata": {},
     "output_type": "execute_result"
    }
   ],
   "source": [
    "20000 / 8"
   ]
  },
  {
   "cell_type": "code",
   "execution_count": 130,
   "metadata": {},
   "outputs": [
    {
     "data": {
      "text/plain": [
       "37500000.0"
      ]
     },
     "execution_count": 130,
     "metadata": {},
     "output_type": "execute_result"
    }
   ],
   "source": [
    "16 * 30000000 / 12.8"
   ]
  },
  {
   "cell_type": "code",
   "execution_count": 131,
   "metadata": {},
   "outputs": [
    {
     "data": {
      "text/plain": [
       "131250"
      ]
     },
     "execution_count": 131,
     "metadata": {},
     "output_type": "execute_result"
    }
   ],
   "source": [
    "3750 * 35"
   ]
  },
  {
   "cell_type": "code",
   "execution_count": null,
   "metadata": {},
   "outputs": [],
   "source": []
  }
 ],
 "metadata": {
  "kernelspec": {
   "display_name": "base",
   "language": "python",
   "name": "python3"
  },
  "language_info": {
   "codemirror_mode": {
    "name": "ipython",
    "version": 3
   },
   "file_extension": ".py",
   "mimetype": "text/x-python",
   "name": "python",
   "nbconvert_exporter": "python",
   "pygments_lexer": "ipython3",
   "version": "3.8.3"
  },
  "orig_nbformat": 4
 },
 "nbformat": 4,
 "nbformat_minor": 2
}
