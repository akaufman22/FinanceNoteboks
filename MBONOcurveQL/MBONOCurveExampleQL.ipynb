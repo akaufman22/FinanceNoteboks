{
 "cells": [
  {
   "cell_type": "code",
   "execution_count": 1,
   "metadata": {},
   "outputs": [],
   "source": [
    "import pandas as pd\n",
    "import QuantLib as ql\n",
    "import datetime as dt\n",
    "import matplotlib.pyplot as plt"
   ]
  },
  {
   "cell_type": "code",
   "execution_count": 2,
   "metadata": {},
   "outputs": [],
   "source": [
    "aggregate_schedules = pd.read_csv(\"MBONOschedules.csv\", parse_dates = ['Date'], index_col=0)"
   ]
  },
  {
   "cell_type": "code",
   "execution_count": 3,
   "metadata": {},
   "outputs": [],
   "source": [
    "price_snapshot = pd.read_csv(\"MBONOsnapshot.csv\", index_col = 0)"
   ]
  },
  {
   "cell_type": "code",
   "execution_count": 4,
   "metadata": {},
   "outputs": [],
   "source": [
    "#val_date = ql.Date(16,11,2022)\n",
    "val_date = ql.Date.todaysDate()\n",
    "ql.Settings.instance().evaluationDate = val_date\n",
    "convention = ql.Unadjusted\n",
    "calendar = ql.Mexico()\n",
    "tenor = ql.Period(ql.Semiannual)\n",
    "rule = ql.DateGeneration.Backward\n",
    "day_count = ql.Actual360()\n",
    "settlement_days = 2"
   ]
  },
  {
   "cell_type": "code",
   "execution_count": 5,
   "metadata": {},
   "outputs": [],
   "source": [
    "for b in price_snapshot.index:\n",
    "    bond_schedule = aggregate_schedules[aggregate_schedules['BBG Id'] == b].copy().sort_values('Date')\n",
    "    bond_schedule['Days'] = (bond_schedule['Date'] - bond_schedule['Date'].shift(1)).dt.days\n",
    "    schedule = ql.Schedule(bond_schedule['Date'].apply(ql.Date().from_date).values, calendar, \n",
    "                           convention, convention, tenor, rule, False)\n",
    "    face_value = sum(bond_schedule['Principal'])\n",
    "    coupons = ((360 / bond_schedule['Days']) * bond_schedule['Coupon'] / face_value).dropna().values\n",
    "    bond = ql.FixedRateBond(settlement_days, 100, schedule, coupons, day_count)\n",
    "    price_snapshot.loc[b, 'Yield'] = bond.bondYield(price_snapshot.loc[b, 'Price'],\n",
    "                                                    day_count, ql.Compounded, ql.Semiannual)\n",
    "    price_snapshot.loc[b, 'QL bond'] = bond"
   ]
  },
  {
   "cell_type": "code",
   "execution_count": 6,
   "metadata": {},
   "outputs": [],
   "source": [
    "bond_helpers = [ql.BondHelper(ql.QuoteHandle(ql.SimpleQuote(\n",
    "    price_snapshot.loc[b, 'Price'])), price_snapshot.loc[b, 'QL bond']) \n",
    "                for b in price_snapshot.index]"
   ]
  },
  {
   "cell_type": "code",
   "execution_count": 7,
   "metadata": {},
   "outputs": [],
   "source": [
    "yield_curve = ql.PiecewiseLogCubicDiscount(val_date, bond_helpers, day_count)\n",
    "curve_fitting = ql.SvenssonFitting()\n",
    "yield_curve_fit = ql.FittedBondDiscountCurve(settlement_days, calendar, bond_helpers, day_count, curve_fitting)"
   ]
  },
  {
   "cell_type": "code",
   "execution_count": 8,
   "metadata": {},
   "outputs": [],
   "source": [
    "disc_curve_handle = ql.YieldTermStructureHandle(yield_curve_fit)\n",
    "bond_engine = ql.DiscountingBondEngine(disc_curve_handle)\n",
    "for b in price_snapshot.index:\n",
    "    price_snapshot.loc[b, 'QL bond'].setPricingEngine(bond_engine)\n",
    "    price_snapshot.loc[b, 'Th Price'] = price_snapshot.loc[b, 'QL bond'].NPV() - \\\n",
    "    price_snapshot.loc[b, 'QL bond'].accruedAmount()\n",
    "    price_snapshot.loc[b, 'Th Yield'] = price_snapshot.loc[b, 'QL bond'].bondYield(price_snapshot.loc[b, 'Th Price'],\n",
    "                                                                                  day_count, ql.Compounded,\n",
    "                                                                                  ql.Semiannual)"
   ]
  },
  {
   "cell_type": "code",
   "execution_count": 9,
   "metadata": {},
   "outputs": [
    {
     "data": {
      "text/html": [
       "<div>\n",
       "<style scoped>\n",
       "    .dataframe tbody tr th:only-of-type {\n",
       "        vertical-align: middle;\n",
       "    }\n",
       "\n",
       "    .dataframe tbody tr th {\n",
       "        vertical-align: top;\n",
       "    }\n",
       "\n",
       "    .dataframe thead th {\n",
       "        text-align: right;\n",
       "    }\n",
       "</style>\n",
       "<table border=\"1\" class=\"dataframe\">\n",
       "  <thead>\n",
       "    <tr style=\"text-align: right;\">\n",
       "      <th></th>\n",
       "      <th>Price</th>\n",
       "      <th>Yield</th>\n",
       "      <th>QL bond</th>\n",
       "      <th>Th Price</th>\n",
       "      <th>Th Yield</th>\n",
       "    </tr>\n",
       "    <tr>\n",
       "      <th>BBG Id</th>\n",
       "      <th></th>\n",
       "      <th></th>\n",
       "      <th></th>\n",
       "      <th></th>\n",
       "      <th></th>\n",
       "    </tr>\n",
       "  </thead>\n",
       "  <tbody>\n",
       "    <tr>\n",
       "      <th>ED2028832 Corp</th>\n",
       "      <td>97.684</td>\n",
       "      <td>0.104568</td>\n",
       "      <td>&lt;QuantLib.QuantLib.FixedRateBond; proxy of &lt;Sw...</td>\n",
       "      <td>97.824876</td>\n",
       "      <td>0.103047</td>\n",
       "    </tr>\n",
       "    <tr>\n",
       "      <th>ED7791103 Corp</th>\n",
       "      <td>100.556</td>\n",
       "      <td>0.096880</td>\n",
       "      <td>&lt;QuantLib.QuantLib.FixedRateBond; proxy of &lt;Sw...</td>\n",
       "      <td>100.399774</td>\n",
       "      <td>0.097745</td>\n",
       "    </tr>\n",
       "    <tr>\n",
       "      <th>EF7918115 Corp</th>\n",
       "      <td>106.260</td>\n",
       "      <td>0.091978</td>\n",
       "      <td>&lt;QuantLib.QuantLib.FixedRateBond; proxy of &lt;Sw...</td>\n",
       "      <td>105.993906</td>\n",
       "      <td>0.092304</td>\n",
       "    </tr>\n",
       "    <tr>\n",
       "      <th>EG1116375 Corp</th>\n",
       "      <td>94.171</td>\n",
       "      <td>0.090890</td>\n",
       "      <td>&lt;QuantLib.QuantLib.FixedRateBond; proxy of &lt;Sw...</td>\n",
       "      <td>93.886169</td>\n",
       "      <td>0.091698</td>\n",
       "    </tr>\n",
       "    <tr>\n",
       "      <th>EH6834517 Corp</th>\n",
       "      <td>96.979</td>\n",
       "      <td>0.091184</td>\n",
       "      <td>&lt;QuantLib.QuantLib.FixedRateBond; proxy of &lt;Sw...</td>\n",
       "      <td>97.175908</td>\n",
       "      <td>0.090773</td>\n",
       "    </tr>\n",
       "    <tr>\n",
       "      <th>EH6944449 Corp</th>\n",
       "      <td>93.577</td>\n",
       "      <td>0.092718</td>\n",
       "      <td>&lt;QuantLib.QuantLib.FixedRateBond; proxy of &lt;Sw...</td>\n",
       "      <td>93.665638</td>\n",
       "      <td>0.092606</td>\n",
       "    </tr>\n",
       "    <tr>\n",
       "      <th>EI8047355 Corp</th>\n",
       "      <td>91.767</td>\n",
       "      <td>0.091515</td>\n",
       "      <td>&lt;QuantLib.QuantLib.FixedRateBond; proxy of &lt;Sw...</td>\n",
       "      <td>92.080846</td>\n",
       "      <td>0.090951</td>\n",
       "    </tr>\n",
       "    <tr>\n",
       "      <th>EJ1291206 Corp</th>\n",
       "      <td>86.084</td>\n",
       "      <td>0.092852</td>\n",
       "      <td>&lt;QuantLib.QuantLib.FixedRateBond; proxy of &lt;Sw...</td>\n",
       "      <td>86.127752</td>\n",
       "      <td>0.092798</td>\n",
       "    </tr>\n",
       "    <tr>\n",
       "      <th>EK1693424 Corp</th>\n",
       "      <td>89.629</td>\n",
       "      <td>0.091827</td>\n",
       "      <td>&lt;QuantLib.QuantLib.FixedRateBond; proxy of &lt;Sw...</td>\n",
       "      <td>89.558642</td>\n",
       "      <td>0.091932</td>\n",
       "    </tr>\n",
       "    <tr>\n",
       "      <th>QJ1649335 Corp</th>\n",
       "      <td>90.052</td>\n",
       "      <td>0.093214</td>\n",
       "      <td>&lt;QuantLib.QuantLib.FixedRateBond; proxy of &lt;Sw...</td>\n",
       "      <td>89.948716</td>\n",
       "      <td>0.093610</td>\n",
       "    </tr>\n",
       "    <tr>\n",
       "      <th>AM7523740 Corp</th>\n",
       "      <td>87.798</td>\n",
       "      <td>0.092547</td>\n",
       "      <td>&lt;QuantLib.QuantLib.FixedRateBond; proxy of &lt;Sw...</td>\n",
       "      <td>87.714425</td>\n",
       "      <td>0.092643</td>\n",
       "    </tr>\n",
       "    <tr>\n",
       "      <th>AX6352725 Corp</th>\n",
       "      <td>97.071</td>\n",
       "      <td>0.098207</td>\n",
       "      <td>&lt;QuantLib.QuantLib.FixedRateBond; proxy of &lt;Sw...</td>\n",
       "      <td>96.974762</td>\n",
       "      <td>0.098822</td>\n",
       "    </tr>\n",
       "    <tr>\n",
       "      <th>ZR8833868 Corp</th>\n",
       "      <td>98.965</td>\n",
       "      <td>0.108267</td>\n",
       "      <td>&lt;QuantLib.QuantLib.FixedRateBond; proxy of &lt;Sw...</td>\n",
       "      <td>98.948220</td>\n",
       "      <td>0.108947</td>\n",
       "    </tr>\n",
       "    <tr>\n",
       "      <th>BR4592233 Corp</th>\n",
       "      <td>87.117</td>\n",
       "      <td>0.091862</td>\n",
       "      <td>&lt;QuantLib.QuantLib.FixedRateBond; proxy of &lt;Sw...</td>\n",
       "      <td>87.120767</td>\n",
       "      <td>0.091850</td>\n",
       "    </tr>\n",
       "    <tr>\n",
       "      <th>BS4948482 Corp</th>\n",
       "      <td>90.391</td>\n",
       "      <td>0.097945</td>\n",
       "      <td>&lt;QuantLib.QuantLib.FixedRateBond; proxy of &lt;Sw...</td>\n",
       "      <td>90.648193</td>\n",
       "      <td>0.096578</td>\n",
       "    </tr>\n",
       "    <tr>\n",
       "      <th>BX4963407 Corp</th>\n",
       "      <td>87.267</td>\n",
       "      <td>0.092486</td>\n",
       "      <td>&lt;QuantLib.QuantLib.FixedRateBond; proxy of &lt;Sw...</td>\n",
       "      <td>87.361073</td>\n",
       "      <td>0.092382</td>\n",
       "    </tr>\n",
       "  </tbody>\n",
       "</table>\n",
       "</div>"
      ],
      "text/plain": [
       "                  Price     Yield  \\\n",
       "BBG Id                              \n",
       "ED2028832 Corp   97.684  0.104568   \n",
       "ED7791103 Corp  100.556  0.096880   \n",
       "EF7918115 Corp  106.260  0.091978   \n",
       "EG1116375 Corp   94.171  0.090890   \n",
       "EH6834517 Corp   96.979  0.091184   \n",
       "EH6944449 Corp   93.577  0.092718   \n",
       "EI8047355 Corp   91.767  0.091515   \n",
       "EJ1291206 Corp   86.084  0.092852   \n",
       "EK1693424 Corp   89.629  0.091827   \n",
       "QJ1649335 Corp   90.052  0.093214   \n",
       "AM7523740 Corp   87.798  0.092547   \n",
       "AX6352725 Corp   97.071  0.098207   \n",
       "ZR8833868 Corp   98.965  0.108267   \n",
       "BR4592233 Corp   87.117  0.091862   \n",
       "BS4948482 Corp   90.391  0.097945   \n",
       "BX4963407 Corp   87.267  0.092486   \n",
       "\n",
       "                                                          QL bond    Th Price  \\\n",
       "BBG Id                                                                          \n",
       "ED2028832 Corp  <QuantLib.QuantLib.FixedRateBond; proxy of <Sw...   97.824876   \n",
       "ED7791103 Corp  <QuantLib.QuantLib.FixedRateBond; proxy of <Sw...  100.399774   \n",
       "EF7918115 Corp  <QuantLib.QuantLib.FixedRateBond; proxy of <Sw...  105.993906   \n",
       "EG1116375 Corp  <QuantLib.QuantLib.FixedRateBond; proxy of <Sw...   93.886169   \n",
       "EH6834517 Corp  <QuantLib.QuantLib.FixedRateBond; proxy of <Sw...   97.175908   \n",
       "EH6944449 Corp  <QuantLib.QuantLib.FixedRateBond; proxy of <Sw...   93.665638   \n",
       "EI8047355 Corp  <QuantLib.QuantLib.FixedRateBond; proxy of <Sw...   92.080846   \n",
       "EJ1291206 Corp  <QuantLib.QuantLib.FixedRateBond; proxy of <Sw...   86.127752   \n",
       "EK1693424 Corp  <QuantLib.QuantLib.FixedRateBond; proxy of <Sw...   89.558642   \n",
       "QJ1649335 Corp  <QuantLib.QuantLib.FixedRateBond; proxy of <Sw...   89.948716   \n",
       "AM7523740 Corp  <QuantLib.QuantLib.FixedRateBond; proxy of <Sw...   87.714425   \n",
       "AX6352725 Corp  <QuantLib.QuantLib.FixedRateBond; proxy of <Sw...   96.974762   \n",
       "ZR8833868 Corp  <QuantLib.QuantLib.FixedRateBond; proxy of <Sw...   98.948220   \n",
       "BR4592233 Corp  <QuantLib.QuantLib.FixedRateBond; proxy of <Sw...   87.120767   \n",
       "BS4948482 Corp  <QuantLib.QuantLib.FixedRateBond; proxy of <Sw...   90.648193   \n",
       "BX4963407 Corp  <QuantLib.QuantLib.FixedRateBond; proxy of <Sw...   87.361073   \n",
       "\n",
       "                Th Yield  \n",
       "BBG Id                    \n",
       "ED2028832 Corp  0.103047  \n",
       "ED7791103 Corp  0.097745  \n",
       "EF7918115 Corp  0.092304  \n",
       "EG1116375 Corp  0.091698  \n",
       "EH6834517 Corp  0.090773  \n",
       "EH6944449 Corp  0.092606  \n",
       "EI8047355 Corp  0.090951  \n",
       "EJ1291206 Corp  0.092798  \n",
       "EK1693424 Corp  0.091932  \n",
       "QJ1649335 Corp  0.093610  \n",
       "AM7523740 Corp  0.092643  \n",
       "AX6352725 Corp  0.098822  \n",
       "ZR8833868 Corp  0.108947  \n",
       "BR4592233 Corp  0.091850  \n",
       "BS4948482 Corp  0.096578  \n",
       "BX4963407 Corp  0.092382  "
      ]
     },
     "execution_count": 9,
     "metadata": {},
     "output_type": "execute_result"
    }
   ],
   "source": [
    "price_snapshot"
   ]
  },
  {
   "cell_type": "code",
   "execution_count": 10,
   "metadata": {},
   "outputs": [
    {
     "data": {
      "image/png": "[encoded data removed]",
      "text/plain": [
       "<Figure size 864x432 with 1 Axes>"
      ]
     },
     "metadata": {
      "needs_background": "light"
     },
     "output_type": "display_data"
    }
   ],
   "source": [
    "price_snapshot\n",
    "fig = plt.figure(figsize=(12,6))\n",
    "ax = fig.add_subplot(1,1,1)\n",
    "ax.plot_date([ql.BondFunctions.maturityDate(b).to_date() for b in price_snapshot['QL bond']], \n",
    "             price_snapshot['Yield'], '.')\n",
    "ax.plot_date([ql.BondFunctions.maturityDate(b).to_date() for b in price_snapshot['QL bond']], \n",
    "             price_snapshot['Th Yield'], 'o')\n",
    "plt.show()"
   ]
  },
  {
   "cell_type": "code",
   "execution_count": 11,
   "metadata": {},
   "outputs": [
    {
     "data": {
      "image/png": "[encoded data removed]",
      "text/plain": [
       "<Figure size 864x432 with 1 Axes>"
      ]
     },
     "metadata": {
      "needs_background": "light"
     },
     "output_type": "display_data"
    }
   ],
   "source": [
    "ref_date = yield_curve.referenceDate()\n",
    "sample_dates = [ref_date + ql.Period(i, ql.Years) for i in [1,2,3,5,7,10,15,20,30]]\n",
    "sample_rates = [yield_curve.zeroRate(d, ql.Actual365Fixed(), ql.Continuous).rate() for d in sample_dates]\n",
    "fig = plt.figure(figsize=(12,6))\n",
    "ax = fig.add_subplot(1,1,1)\n",
    "ax.plot_date([d.to_date() for d in sample_dates], sample_rates, '-')\n",
    "plt.show()"
   ]
  },
  {
   "cell_type": "code",
   "execution_count": 12,
   "metadata": {},
   "outputs": [
    {
     "data": {
      "text/plain": [
       "BBG Id\n",
       "ED2028832 Corp    0.001616\n",
       "ED7791103 Corp   -0.000829\n",
       "EF7918115 Corp   -0.000318\n",
       "EG1116375 Corp   -0.000836\n",
       "EH6834517 Corp    0.000422\n",
       "EH6944449 Corp    0.000103\n",
       "EI8047355 Corp    0.000594\n",
       "EJ1291206 Corp    0.000029\n",
       "EK1693424 Corp   -0.000084\n",
       "QJ1649335 Corp   -0.000445\n",
       "AM7523740 Corp   -0.000109\n",
       "AX6352725 Corp   -0.000584\n",
       "ZR8833868 Corp   -0.000753\n",
       "BR4592233 Corp   -0.000031\n",
       "BS4948482 Corp    0.001325\n",
       "BX4963407 Corp    0.000123\n",
       "dtype: float64"
      ]
     },
     "execution_count": 12,
     "metadata": {},
     "output_type": "execute_result"
    }
   ],
   "source": [
    "price_snapshot['Yield'] - price_snapshot['Th Yield']"
   ]
  },
  {
   "cell_type": "code",
   "execution_count": null,
   "metadata": {},
   "outputs": [],
   "source": []
  }
 ],
 "metadata": {
  "kernelspec": {
   "display_name": "Python 3",
   "language": "python",
   "name": "python3"
  },
  "language_info": {
   "codemirror_mode": {
    "name": "ipython",
    "version": 3
   },
   "file_extension": ".py",
   "mimetype": "text/x-python",
   "name": "python",
   "nbconvert_exporter": "python",
   "pygments_lexer": "ipython3",
   "version": "3.8.3"
  }
 },
 "nbformat": 4,
 "nbformat_minor": 4
}
